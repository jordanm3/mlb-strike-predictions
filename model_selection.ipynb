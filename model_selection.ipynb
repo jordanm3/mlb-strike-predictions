{
 "cells": [
  {
   "cell_type": "markdown",
   "metadata": {},
   "source": [
    "## Model Selection and Performance Optimization"
   ]
  },
  {
   "cell_type": "markdown",
   "metadata": {},
   "source": [
    "- Code in this notebook optimizes and compares classification model performance for: \n",
    "    - Logistic Regression\n",
    "    - K-Nearest Neighbors (KNN)\n",
    "    - Naive Bayes Classifier\n",
    "    - Decision Tree Classifier\n",
    "    - Random Forest Classifier"
   ]
  },
  {
   "cell_type": "markdown",
   "metadata": {},
   "source": [
    "### Imports"
   ]
  },
  {
   "cell_type": "code",
   "execution_count": 202,
   "metadata": {
    "ExecuteTime": {
     "end_time": "2020-02-12T14:58:35.493344Z",
     "start_time": "2020-02-12T14:58:35.462637Z"
    }
   },
   "outputs": [],
   "source": [
    "import numpy as np\n",
    "import pandas as pd\n",
    "\n",
    "# Preprocessing\n",
    "from sklearn.preprocessing import StandardScaler\n",
    "from sklearn.preprocessing import MinMaxScaler\n",
    "from sklearn.model_selection import train_test_split\n",
    "\n",
    "# Visualizations\n",
    "import matplotlib.pyplot as plt\n",
    "import seaborn as sns\n",
    "from sklearn.externals.six import StringIO  \n",
    "from IPython.display import Image  \n",
    "from sklearn.tree import export_graphviz\n",
    "\n",
    "%matplotlib inline\n",
    "\n",
    "# Models\n",
    "from sklearn.neighbors import KNeighborsClassifier\n",
    "from sklearn.linear_model import LogisticRegression\n",
    "from sklearn.model_selection import GridSearchCV\n",
    "from sklearn.model_selection import RandomizedSearchCV\n",
    "from sklearn.svm import SVC\n",
    "from sklearn.tree import DecisionTreeClassifier\n",
    "from sklearn.ensemble import RandomForestClassifier\n",
    "from sklearn.naive_bayes import GaussianNB\n",
    "\n",
    "# Performance metrics\n",
    "from sklearn.model_selection import cross_val_score\n",
    "from sklearn.metrics import accuracy_score\n",
    "from sklearn.metrics import f1_score, accuracy_score\n",
    "from sklearn.metrics import confusion_matrix\n",
    "from sklearn.metrics import roc_auc_score, roc_curve\n",
    "from sklearn.metrics import precision_score\n",
    "from sklearn.metrics import recall_score\n",
    "from sklearn.metrics import precision_recall_fscore_support as score\n",
    "from sklearn.metrics import roc_curve\n",
    "from sklearn.metrics import auc\n",
    "from sklearn.metrics import roc_auc_score\n",
    "from sklearn.metrics import precision_score, recall_score, precision_recall_curve,f1_score, fbeta_score"
   ]
  },
  {
   "cell_type": "markdown",
   "metadata": {},
   "source": [
    "### Load Master DataFrame"
   ]
  },
  {
   "cell_type": "code",
   "execution_count": 2,
   "metadata": {
    "ExecuteTime": {
     "end_time": "2020-02-12T08:45:03.448850Z",
     "start_time": "2020-02-12T08:45:00.137394Z"
    }
   },
   "outputs": [],
   "source": [
    "# Read in master dataframe\n",
    "df_master = pd.read_csv('df_master.csv')"
   ]
  },
  {
   "cell_type": "code",
   "execution_count": 3,
   "metadata": {
    "ExecuteTime": {
     "end_time": "2020-02-12T08:45:03.618864Z",
     "start_time": "2020-02-12T08:45:03.452582Z"
    }
   },
   "outputs": [],
   "source": [
    "# Delete unnecessary column\n",
    "df_master = df_master.drop('Unnamed: 0', axis = 1)"
   ]
  },
  {
   "cell_type": "code",
   "execution_count": 4,
   "metadata": {
    "ExecuteTime": {
     "end_time": "2020-02-12T08:45:03.638117Z",
     "start_time": "2020-02-12T08:45:03.624635Z"
    }
   },
   "outputs": [
    {
     "data": {
      "text/plain": [
       "(124281, 95)"
      ]
     },
     "execution_count": 4,
     "metadata": {},
     "output_type": "execute_result"
    }
   ],
   "source": [
    "# View number of rows and columns in dataframe\n",
    "df_master.shape"
   ]
  },
  {
   "cell_type": "code",
   "execution_count": 156,
   "metadata": {
    "ExecuteTime": {
     "end_time": "2020-02-12T10:58:50.755908Z",
     "start_time": "2020-02-12T10:58:50.695399Z"
    }
   },
   "outputs": [
    {
     "data": {
      "text/html": [
       "<div>\n",
       "<style scoped>\n",
       "    .dataframe tbody tr th:only-of-type {\n",
       "        vertical-align: middle;\n",
       "    }\n",
       "\n",
       "    .dataframe tbody tr th {\n",
       "        vertical-align: top;\n",
       "    }\n",
       "\n",
       "    .dataframe thead th {\n",
       "        text-align: right;\n",
       "    }\n",
       "</style>\n",
       "<table border=\"1\" class=\"dataframe\">\n",
       "  <thead>\n",
       "    <tr style=\"text-align: right;\">\n",
       "      <th></th>\n",
       "      <th>px</th>\n",
       "      <th>pz</th>\n",
       "      <th>start_speed</th>\n",
       "      <th>end_speed</th>\n",
       "      <th>spin_rate</th>\n",
       "      <th>spin_dir</th>\n",
       "      <th>break_angle</th>\n",
       "      <th>break_length</th>\n",
       "      <th>break_y</th>\n",
       "      <th>ax</th>\n",
       "      <th>...</th>\n",
       "      <th>pitch_type_FS</th>\n",
       "      <th>pitch_type_FT</th>\n",
       "      <th>pitch_type_KC</th>\n",
       "      <th>pitch_type_KN</th>\n",
       "      <th>pitch_type_SI</th>\n",
       "      <th>pitch_type_SL</th>\n",
       "      <th>pitcher_hitter_position_L -Pitcher L -Hitter</th>\n",
       "      <th>pitcher_hitter_position_L -Pitcher R -Hitter</th>\n",
       "      <th>pitcher_hitter_position_R -Pitcher L -Hitter</th>\n",
       "      <th>pitcher_hitter_position_R -Pitcher R -Hitter</th>\n",
       "    </tr>\n",
       "  </thead>\n",
       "  <tbody>\n",
       "    <tr>\n",
       "      <th>0</th>\n",
       "      <td>0.416</td>\n",
       "      <td>2.963</td>\n",
       "      <td>92.9</td>\n",
       "      <td>84.1</td>\n",
       "      <td>2305.052</td>\n",
       "      <td>159.235</td>\n",
       "      <td>-25.0</td>\n",
       "      <td>3.2</td>\n",
       "      <td>23.7</td>\n",
       "      <td>7.665</td>\n",
       "      <td>...</td>\n",
       "      <td>0</td>\n",
       "      <td>0</td>\n",
       "      <td>0</td>\n",
       "      <td>0</td>\n",
       "      <td>0</td>\n",
       "      <td>0</td>\n",
       "      <td>1</td>\n",
       "      <td>0</td>\n",
       "      <td>0</td>\n",
       "      <td>0</td>\n",
       "    </tr>\n",
       "    <tr>\n",
       "      <th>1</th>\n",
       "      <td>-1.088</td>\n",
       "      <td>1.610</td>\n",
       "      <td>93.3</td>\n",
       "      <td>85.3</td>\n",
       "      <td>2848.535</td>\n",
       "      <td>147.044</td>\n",
       "      <td>-46.3</td>\n",
       "      <td>3.6</td>\n",
       "      <td>23.7</td>\n",
       "      <td>14.549</td>\n",
       "      <td>...</td>\n",
       "      <td>0</td>\n",
       "      <td>0</td>\n",
       "      <td>0</td>\n",
       "      <td>0</td>\n",
       "      <td>0</td>\n",
       "      <td>0</td>\n",
       "      <td>1</td>\n",
       "      <td>0</td>\n",
       "      <td>0</td>\n",
       "      <td>0</td>\n",
       "    </tr>\n",
       "    <tr>\n",
       "      <th>2</th>\n",
       "      <td>1.470</td>\n",
       "      <td>2.350</td>\n",
       "      <td>92.1</td>\n",
       "      <td>85.0</td>\n",
       "      <td>2666.090</td>\n",
       "      <td>146.146</td>\n",
       "      <td>-45.0</td>\n",
       "      <td>4.0</td>\n",
       "      <td>23.8</td>\n",
       "      <td>13.808</td>\n",
       "      <td>...</td>\n",
       "      <td>0</td>\n",
       "      <td>0</td>\n",
       "      <td>0</td>\n",
       "      <td>0</td>\n",
       "      <td>0</td>\n",
       "      <td>0</td>\n",
       "      <td>0</td>\n",
       "      <td>1</td>\n",
       "      <td>0</td>\n",
       "      <td>0</td>\n",
       "    </tr>\n",
       "    <tr>\n",
       "      <th>3</th>\n",
       "      <td>-1.337</td>\n",
       "      <td>1.898</td>\n",
       "      <td>89.3</td>\n",
       "      <td>82.0</td>\n",
       "      <td>1384.143</td>\n",
       "      <td>174.388</td>\n",
       "      <td>2.0</td>\n",
       "      <td>4.9</td>\n",
       "      <td>23.8</td>\n",
       "      <td>1.218</td>\n",
       "      <td>...</td>\n",
       "      <td>0</td>\n",
       "      <td>0</td>\n",
       "      <td>0</td>\n",
       "      <td>0</td>\n",
       "      <td>0</td>\n",
       "      <td>0</td>\n",
       "      <td>0</td>\n",
       "      <td>1</td>\n",
       "      <td>0</td>\n",
       "      <td>0</td>\n",
       "    </tr>\n",
       "    <tr>\n",
       "      <th>4</th>\n",
       "      <td>-1.539</td>\n",
       "      <td>1.525</td>\n",
       "      <td>91.6</td>\n",
       "      <td>84.5</td>\n",
       "      <td>2248.792</td>\n",
       "      <td>154.853</td>\n",
       "      <td>-23.8</td>\n",
       "      <td>3.6</td>\n",
       "      <td>23.8</td>\n",
       "      <td>8.804</td>\n",
       "      <td>...</td>\n",
       "      <td>0</td>\n",
       "      <td>0</td>\n",
       "      <td>0</td>\n",
       "      <td>0</td>\n",
       "      <td>0</td>\n",
       "      <td>0</td>\n",
       "      <td>1</td>\n",
       "      <td>0</td>\n",
       "      <td>0</td>\n",
       "      <td>0</td>\n",
       "    </tr>\n",
       "  </tbody>\n",
       "</table>\n",
       "<p>5 rows × 95 columns</p>\n",
       "</div>"
      ],
      "text/plain": [
       "      px     pz  start_speed  end_speed  spin_rate  spin_dir  break_angle  \\\n",
       "0  0.416  2.963         92.9       84.1   2305.052   159.235        -25.0   \n",
       "1 -1.088  1.610         93.3       85.3   2848.535   147.044        -46.3   \n",
       "2  1.470  2.350         92.1       85.0   2666.090   146.146        -45.0   \n",
       "3 -1.337  1.898         89.3       82.0   1384.143   174.388          2.0   \n",
       "4 -1.539  1.525         91.6       84.5   2248.792   154.853        -23.8   \n",
       "\n",
       "   break_length  break_y      ax  ...  pitch_type_FS  pitch_type_FT  \\\n",
       "0           3.2     23.7   7.665  ...              0              0   \n",
       "1           3.6     23.7  14.549  ...              0              0   \n",
       "2           4.0     23.8  13.808  ...              0              0   \n",
       "3           4.9     23.8   1.218  ...              0              0   \n",
       "4           3.6     23.8   8.804  ...              0              0   \n",
       "\n",
       "   pitch_type_KC  pitch_type_KN  pitch_type_SI  pitch_type_SL  \\\n",
       "0              0              0              0              0   \n",
       "1              0              0              0              0   \n",
       "2              0              0              0              0   \n",
       "3              0              0              0              0   \n",
       "4              0              0              0              0   \n",
       "\n",
       "   pitcher_hitter_position_L -Pitcher L -Hitter  \\\n",
       "0                                             1   \n",
       "1                                             1   \n",
       "2                                             0   \n",
       "3                                             0   \n",
       "4                                             1   \n",
       "\n",
       "   pitcher_hitter_position_L -Pitcher R -Hitter  \\\n",
       "0                                             0   \n",
       "1                                             0   \n",
       "2                                             1   \n",
       "3                                             1   \n",
       "4                                             0   \n",
       "\n",
       "   pitcher_hitter_position_R -Pitcher L -Hitter  \\\n",
       "0                                             0   \n",
       "1                                             0   \n",
       "2                                             0   \n",
       "3                                             0   \n",
       "4                                             0   \n",
       "\n",
       "   pitcher_hitter_position_R -Pitcher R -Hitter  \n",
       "0                                             0  \n",
       "1                                             0  \n",
       "2                                             0  \n",
       "3                                             0  \n",
       "4                                             0  \n",
       "\n",
       "[5 rows x 95 columns]"
      ]
     },
     "execution_count": 156,
     "metadata": {},
     "output_type": "execute_result"
    }
   ],
   "source": [
    "# View first 5 rows of dataframe\n",
    "df_master.head()"
   ]
  },
  {
   "cell_type": "code",
   "execution_count": 157,
   "metadata": {
    "ExecuteTime": {
     "end_time": "2020-02-12T10:59:22.536348Z",
     "start_time": "2020-02-12T10:59:11.990797Z"
    }
   },
   "outputs": [],
   "source": [
    "# Convenience code to save updated dataframe\n",
    "# df_master.to_csv('df_master_features.csv')"
   ]
  },
  {
   "cell_type": "markdown",
   "metadata": {},
   "source": [
    "### Select Relevant Features"
   ]
  },
  {
   "cell_type": "code",
   "execution_count": 6,
   "metadata": {
    "ExecuteTime": {
     "end_time": "2020-02-12T08:45:06.783115Z",
     "start_time": "2020-02-12T08:45:06.733287Z"
    }
   },
   "outputs": [],
   "source": [
    "# Create copy of master dataframe for selected features\n",
    "df_master_features = df_master.copy()"
   ]
  },
  {
   "cell_type": "code",
   "execution_count": 7,
   "metadata": {
    "ExecuteTime": {
     "end_time": "2020-02-12T08:45:08.392571Z",
     "start_time": "2020-02-12T08:45:08.316617Z"
    }
   },
   "outputs": [],
   "source": [
    "# Keep 's_b_count', 'outs', 'pitch_count', 'runners_on_base', 'p_score', 'pitch_type' and 'pitcher_batter_position' features\n",
    "df_master_features = \\\n",
    "    df_master \\\n",
    "    [['s_b_count_0.0 Strike(s) 1.0 Ball(s)',\n",
    "       's_b_count_0.0 Strike(s) 2.0 Ball(s)',\n",
    "       's_b_count_0.0 Strike(s) 3.0 Ball(s)',\n",
    "       's_b_count_1.0 Strike(s) 0.0 Ball(s)',\n",
    "       's_b_count_1.0 Strike(s) 1.0 Ball(s)',\n",
    "       's_b_count_1.0 Strike(s) 2.0 Ball(s)',\n",
    "       's_b_count_1.0 Strike(s) 3.0 Ball(s)', 'outs', 'pitch_count', 'runners_on_base_0.0 1st Base 0.0 2nd Base 0.0 3rd Base',\n",
    "       'runners_on_base_0.0 1st Base 0.0 2nd Base 1.0 3rd Base',\n",
    "       'runners_on_base_0.0 1st Base 1.0 2nd Base 0.0 3rd Base',\n",
    "       'runners_on_base_0.0 1st Base 1.0 2nd Base 1.0 3rd Base',\n",
    "       'runners_on_base_1.0 1st Base 0.0 2nd Base 0.0 3rd Base',\n",
    "       'runners_on_base_1.0 1st Base 0.0 2nd Base 1.0 3rd Base',\n",
    "       'runners_on_base_1.0 1st Base 1.0 2nd Base 0.0 3rd Base',\n",
    "       'runners_on_base_1.0 1st Base 1.0 2nd Base 1.0 3rd Base', 'p_score', 'pitch_type_CU', 'pitch_type_FC', 'pitch_type_FF', 'pitch_type_FS',\n",
    "       'pitch_type_FT', 'pitch_type_KC', 'pitch_type_KN', 'pitch_type_SI',\n",
    "       'pitch_type_SL', 'pitcher_hitter_position_L -Pitcher L -Hitter',\n",
    "       'pitcher_hitter_position_L -Pitcher R -Hitter',\n",
    "       'pitcher_hitter_position_R -Pitcher L -Hitter',\n",
    "       'pitcher_hitter_position_R -Pitcher R -Hitter']]"
   ]
  },
  {
   "cell_type": "code",
   "execution_count": 9,
   "metadata": {
    "ExecuteTime": {
     "end_time": "2020-02-12T08:45:11.540393Z",
     "start_time": "2020-02-12T08:45:11.531179Z"
    }
   },
   "outputs": [
    {
     "data": {
      "text/plain": [
       "(124281, 33)"
      ]
     },
     "execution_count": 9,
     "metadata": {},
     "output_type": "execute_result"
    }
   ],
   "source": [
    "# View number of rows and columns in dataframe\n",
    "df_master_features.shape"
   ]
  },
  {
   "cell_type": "code",
   "execution_count": 10,
   "metadata": {
    "ExecuteTime": {
     "end_time": "2020-02-12T08:45:13.910352Z",
     "start_time": "2020-02-12T08:45:13.881424Z"
    }
   },
   "outputs": [
    {
     "name": "stdout",
     "output_type": "stream",
     "text": [
      "0    0.616241\n",
      "1    0.383759\n",
      "Name: pitch_target, dtype: float64\n"
     ]
    }
   ],
   "source": [
    "# View distribution of target (1 = ball, 0 = strike)\n",
    "target_pcts = df_master_features.pitch_target.value_counts(normalize=True) \n",
    "print(target_pcts)"
   ]
  },
  {
   "cell_type": "code",
   "execution_count": 11,
   "metadata": {
    "ExecuteTime": {
     "end_time": "2020-02-12T08:45:14.510194Z",
     "start_time": "2020-02-12T08:45:14.245909Z"
    }
   },
   "outputs": [
    {
     "data": {
      "image/png": "[encoded data removed]",
      "text/plain": [
       "<Figure size 432x360 with 1 Axes>"
      ]
     },
     "metadata": {},
     "output_type": "display_data"
    }
   ],
   "source": [
    "# Plot Class Distribution of Target Variable\n",
    "legend_labels = ['Balls', 'Strikes']\n",
    "\n",
    "sns.set_style(\"whitegrid\")\n",
    "\n",
    "# Set plot size\n",
    "plt.figure(figsize=(6,5))\n",
    "\n",
    "sns.countplot(x='pitch_target', data=df_master_features)\n",
    "\n",
    "# Style graph\n",
    "plt.suptitle('Ball and Strike Occurence', size=18)\n",
    "plt.xlabel('Pitch_Target', fontsize=18)\n",
    "plt.ylabel('Count', fontsize=18)\n",
    "# plt.xticks(rotation=45);\n",
    "\n",
    "plt.savefig('target_distribution.png')"
   ]
  },
  {
   "cell_type": "code",
   "execution_count": 12,
   "metadata": {
    "ExecuteTime": {
     "end_time": "2020-02-12T08:45:18.643464Z",
     "start_time": "2020-02-12T08:45:18.621119Z"
    }
   },
   "outputs": [],
   "source": [
    "# Define features and targets\n",
    "X = df_master_features.drop(['pitch_target'], axis=1)\n",
    "y = df_master_features['pitch_target']"
   ]
  },
  {
   "cell_type": "code",
   "execution_count": 13,
   "metadata": {
    "ExecuteTime": {
     "end_time": "2020-02-12T08:45:19.054360Z",
     "start_time": "2020-02-12T08:45:18.953676Z"
    }
   },
   "outputs": [],
   "source": [
    "# Split data into train/holdout \n",
    "X_tr, X_holdout, y_tr, y_holdout = train_test_split(X, y, test_size=0.3, random_state=2)"
   ]
  },
  {
   "cell_type": "code",
   "execution_count": 14,
   "metadata": {
    "ExecuteTime": {
     "end_time": "2020-02-12T08:45:19.419571Z",
     "start_time": "2020-02-12T08:45:19.353863Z"
    }
   },
   "outputs": [],
   "source": [
    "# Split data into train/test\n",
    "X_train, X_test, y_train, y_test = train_test_split(X_tr, y_tr, test_size=0.3, random_state=2)"
   ]
  },
  {
   "cell_type": "code",
   "execution_count": 15,
   "metadata": {
    "ExecuteTime": {
     "end_time": "2020-02-12T08:45:21.025895Z",
     "start_time": "2020-02-12T08:45:21.016524Z"
    }
   },
   "outputs": [],
   "source": [
    "# Create list of model and accuracy dicts\n",
    "list_of_perform = []\n",
    "\n",
    "# List to keep track of models\n",
    "models = []\n",
    "\n",
    "# List to keep track of y_scores\n",
    "y_scores = []"
   ]
  },
  {
   "cell_type": "markdown",
   "metadata": {},
   "source": [
    "### Model Optimization and Comparison "
   ]
  },
  {
   "cell_type": "markdown",
   "metadata": {},
   "source": [
    "#### Logistic Regression (Baseline)"
   ]
  },
  {
   "cell_type": "code",
   "execution_count": 15,
   "metadata": {
    "ExecuteTime": {
     "end_time": "2020-02-12T01:17:08.317081Z",
     "start_time": "2020-02-12T01:16:59.238514Z"
    }
   },
   "outputs": [
    {
     "name": "stderr",
     "output_type": "stream",
     "text": [
      "//anaconda3/lib/python3.7/site-packages/sklearn/linear_model/_logistic.py:940: ConvergenceWarning: lbfgs failed to converge (status=1):\n",
      "STOP: TOTAL NO. of ITERATIONS REACHED LIMIT.\n",
      "\n",
      "Increase the number of iterations (max_iter) or scale the data as shown in:\n",
      "    https://scikit-learn.org/stable/modules/preprocessing.html\n",
      "Please also refer to the documentation for alternative solver options:\n",
      "    https://scikit-learn.org/stable/modules/linear_model.html#logistic-regression\n",
      "  extra_warning_msg=_LOGISTIC_SOLVER_CONVERGENCE_MSG)\n",
      "//anaconda3/lib/python3.7/site-packages/sklearn/linear_model/_logistic.py:940: ConvergenceWarning: lbfgs failed to converge (status=1):\n",
      "STOP: TOTAL NO. of ITERATIONS REACHED LIMIT.\n",
      "\n",
      "Increase the number of iterations (max_iter) or scale the data as shown in:\n",
      "    https://scikit-learn.org/stable/modules/preprocessing.html\n",
      "Please also refer to the documentation for alternative solver options:\n",
      "    https://scikit-learn.org/stable/modules/linear_model.html#logistic-regression\n",
      "  extra_warning_msg=_LOGISTIC_SOLVER_CONVERGENCE_MSG)\n",
      "//anaconda3/lib/python3.7/site-packages/sklearn/linear_model/_logistic.py:940: ConvergenceWarning: lbfgs failed to converge (status=1):\n",
      "STOP: TOTAL NO. of ITERATIONS REACHED LIMIT.\n",
      "\n",
      "Increase the number of iterations (max_iter) or scale the data as shown in:\n",
      "    https://scikit-learn.org/stable/modules/preprocessing.html\n",
      "Please also refer to the documentation for alternative solver options:\n",
      "    https://scikit-learn.org/stable/modules/linear_model.html#logistic-regression\n",
      "  extra_warning_msg=_LOGISTIC_SOLVER_CONVERGENCE_MSG)\n",
      "//anaconda3/lib/python3.7/site-packages/sklearn/linear_model/_logistic.py:940: ConvergenceWarning: lbfgs failed to converge (status=1):\n",
      "STOP: TOTAL NO. of ITERATIONS REACHED LIMIT.\n",
      "\n",
      "Increase the number of iterations (max_iter) or scale the data as shown in:\n",
      "    https://scikit-learn.org/stable/modules/preprocessing.html\n",
      "Please also refer to the documentation for alternative solver options:\n",
      "    https://scikit-learn.org/stable/modules/linear_model.html#logistic-regression\n",
      "  extra_warning_msg=_LOGISTIC_SOLVER_CONVERGENCE_MSG)\n",
      "//anaconda3/lib/python3.7/site-packages/sklearn/linear_model/_logistic.py:940: ConvergenceWarning: lbfgs failed to converge (status=1):\n",
      "STOP: TOTAL NO. of ITERATIONS REACHED LIMIT.\n",
      "\n",
      "Increase the number of iterations (max_iter) or scale the data as shown in:\n",
      "    https://scikit-learn.org/stable/modules/preprocessing.html\n",
      "Please also refer to the documentation for alternative solver options:\n",
      "    https://scikit-learn.org/stable/modules/linear_model.html#logistic-regression\n",
      "  extra_warning_msg=_LOGISTIC_SOLVER_CONVERGENCE_MSG)\n",
      "//anaconda3/lib/python3.7/site-packages/sklearn/linear_model/_logistic.py:940: ConvergenceWarning: lbfgs failed to converge (status=1):\n",
      "STOP: TOTAL NO. of ITERATIONS REACHED LIMIT.\n",
      "\n",
      "Increase the number of iterations (max_iter) or scale the data as shown in:\n",
      "    https://scikit-learn.org/stable/modules/preprocessing.html\n",
      "Please also refer to the documentation for alternative solver options:\n",
      "    https://scikit-learn.org/stable/modules/linear_model.html#logistic-regression\n",
      "  extra_warning_msg=_LOGISTIC_SOLVER_CONVERGENCE_MSG)\n",
      "//anaconda3/lib/python3.7/site-packages/sklearn/linear_model/_logistic.py:940: ConvergenceWarning: lbfgs failed to converge (status=1):\n",
      "STOP: TOTAL NO. of ITERATIONS REACHED LIMIT.\n",
      "\n",
      "Increase the number of iterations (max_iter) or scale the data as shown in:\n",
      "    https://scikit-learn.org/stable/modules/preprocessing.html\n",
      "Please also refer to the documentation for alternative solver options:\n",
      "    https://scikit-learn.org/stable/modules/linear_model.html#logistic-regression\n",
      "  extra_warning_msg=_LOGISTIC_SOLVER_CONVERGENCE_MSG)\n",
      "//anaconda3/lib/python3.7/site-packages/sklearn/linear_model/_logistic.py:940: ConvergenceWarning: lbfgs failed to converge (status=1):\n",
      "STOP: TOTAL NO. of ITERATIONS REACHED LIMIT.\n",
      "\n",
      "Increase the number of iterations (max_iter) or scale the data as shown in:\n",
      "    https://scikit-learn.org/stable/modules/preprocessing.html\n",
      "Please also refer to the documentation for alternative solver options:\n",
      "    https://scikit-learn.org/stable/modules/linear_model.html#logistic-regression\n",
      "  extra_warning_msg=_LOGISTIC_SOLVER_CONVERGENCE_MSG)\n",
      "//anaconda3/lib/python3.7/site-packages/sklearn/linear_model/_logistic.py:940: ConvergenceWarning: lbfgs failed to converge (status=1):\n",
      "STOP: TOTAL NO. of ITERATIONS REACHED LIMIT.\n",
      "\n",
      "Increase the number of iterations (max_iter) or scale the data as shown in:\n",
      "    https://scikit-learn.org/stable/modules/preprocessing.html\n",
      "Please also refer to the documentation for alternative solver options:\n",
      "    https://scikit-learn.org/stable/modules/linear_model.html#logistic-regression\n",
      "  extra_warning_msg=_LOGISTIC_SOLVER_CONVERGENCE_MSG)\n",
      "//anaconda3/lib/python3.7/site-packages/sklearn/linear_model/_logistic.py:940: ConvergenceWarning: lbfgs failed to converge (status=1):\n",
      "STOP: TOTAL NO. of ITERATIONS REACHED LIMIT.\n",
      "\n",
      "Increase the number of iterations (max_iter) or scale the data as shown in:\n",
      "    https://scikit-learn.org/stable/modules/preprocessing.html\n",
      "Please also refer to the documentation for alternative solver options:\n",
      "    https://scikit-learn.org/stable/modules/linear_model.html#logistic-regression\n",
      "  extra_warning_msg=_LOGISTIC_SOLVER_CONVERGENCE_MSG)\n"
     ]
    },
    {
     "name": "stdout",
     "output_type": "stream",
     "text": [
      "Accuracy of log reg baseline (TRAIN): 0.582 +/- 0.004\n",
      "Accuracy of log reg baseline (TEST): 0.584\n",
      "\n",
      "Precision : 0.47390805373658274\n",
      "Recall    : 0.6952560166386055\n",
      "F-score   : 0.5636290646326776\n"
     ]
    },
    {
     "name": "stderr",
     "output_type": "stream",
     "text": [
      "//anaconda3/lib/python3.7/site-packages/sklearn/linear_model/_logistic.py:940: ConvergenceWarning: lbfgs failed to converge (status=1):\n",
      "STOP: TOTAL NO. of ITERATIONS REACHED LIMIT.\n",
      "\n",
      "Increase the number of iterations (max_iter) or scale the data as shown in:\n",
      "    https://scikit-learn.org/stable/modules/preprocessing.html\n",
      "Please also refer to the documentation for alternative solver options:\n",
      "    https://scikit-learn.org/stable/modules/linear_model.html#logistic-regression\n",
      "  extra_warning_msg=_LOGISTIC_SOLVER_CONVERGENCE_MSG)\n"
     ]
    }
   ],
   "source": [
    "# Instantiate model\n",
    "lr_baseline = LogisticRegression(class_weight='balanced', random_state=1)\n",
    "\n",
    "# Calculate accuracy of train\n",
    "lr_base_acc = cross_val_score(lr_baseline, X_train, y_train).mean()\n",
    "lr_base_std = cross_val_score(lr_baseline, X_train, y_train).std()\n",
    "print('Accuracy of log reg baseline (TRAIN): {} +/- {}'.format(round(lr_base_acc, 3), round(lr_base_std, 3)))\n",
    "\n",
    "# Fit model\n",
    "lr_baseline.fit(X_train, y_train)\n",
    "\n",
    "# Get predictions and probabilities\n",
    "lr_base_preds = lr_baseline.predict(X_test)\n",
    "lr_base_y_score = lr_baseline.predict_proba(X_test)\n",
    "\n",
    "# Calculate accuracy of test\n",
    "lr_base_acc_test = round(accuracy_score(y_test, lr_base_preds), 3)\n",
    "print(f'Accuracy of log reg baseline (TEST): {lr_base_acc_test}')\n",
    "\n",
    "print()\n",
    "\n",
    "# Get precision, recall, f1-score\n",
    "precision = precision_score(y_test, lr_base_preds)\n",
    "recall = recall_score(y_test, lr_base_preds)\n",
    "fscore = f1_score(lr_base_preds, y_test)\n",
    "print(f'Precision : {precision}')\n",
    "print(f'Recall    : {recall}')\n",
    "print(f'F-score   : {fscore}')\n",
    "\n",
    "# Add model and accuracy dict to list\n",
    "list_of_perform.append(dict([\n",
    "    ('Model', 'LogReg Base'),\n",
    "    ('Train Accuracy', round(lr_base_acc, 3)),\n",
    "    ('Test Accuracy', lr_base_acc_test),\n",
    "    ('Precision', round(precision, 3)),\n",
    "    ('Recall', round(recall, 3)),\n",
    "    ('F1', round(fscore, 3))\n",
    "     ]))\n",
    "\n",
    "# Add model to list\n",
    "models.append('LogReg Base')\n",
    "\n",
    "# Add y_score to list\n",
    "y_scores.append(lr_base_y_score)"
   ]
  },
  {
   "cell_type": "markdown",
   "metadata": {},
   "source": [
    "#### Logistic Regression (Grid Search)"
   ]
  },
  {
   "cell_type": "code",
   "execution_count": 16,
   "metadata": {
    "ExecuteTime": {
     "end_time": "2020-02-12T01:17:08.332117Z",
     "start_time": "2020-02-12T01:17:08.321448Z"
    }
   },
   "outputs": [
    {
     "name": "stdout",
     "output_type": "stream",
     "text": [
      "[1e-07, 1e-06, 1e-05, 0.0001, 0.001, 0.01, 0.1, 1, 10, 40, 50, 60, 100, 1000] [True, False]\n"
     ]
    }
   ],
   "source": [
    "# Define the parameter values that should be searched\n",
    "C_range = [1e-7, 1e-6, 1e-5, 1e-4, 1e-3, 0.01, 0.1, 1, 10, 40, 50, 60, 100, 1000]\n",
    "fit_intercept_range = [True, False]\n",
    "\n",
    "print(C_range,\n",
    "      fit_intercept_range)"
   ]
  },
  {
   "cell_type": "code",
   "execution_count": 17,
   "metadata": {
    "ExecuteTime": {
     "end_time": "2020-02-12T01:17:08.354754Z",
     "start_time": "2020-02-12T01:17:08.336592Z"
    }
   },
   "outputs": [
    {
     "name": "stdout",
     "output_type": "stream",
     "text": [
      "{'C': [1e-07, 1e-06, 1e-05, 0.0001, 0.001, 0.01, 0.1, 1, 10, 40, 50, 60, 100, 1000], 'fit_intercept': [True, False]}\n"
     ]
    }
   ],
   "source": [
    "# Create a parameter grid: map the parameter names to the values that should be searched\n",
    "param_grid = dict(C=C_range,\n",
    "                  fit_intercept=fit_intercept_range, )\n",
    "print(param_grid)"
   ]
  },
  {
   "cell_type": "code",
   "execution_count": 18,
   "metadata": {
    "ExecuteTime": {
     "end_time": "2020-02-12T01:18:10.914771Z",
     "start_time": "2020-02-12T01:17:08.359162Z"
    }
   },
   "outputs": [
    {
     "name": "stderr",
     "output_type": "stream",
     "text": [
      "//anaconda3/lib/python3.7/site-packages/sklearn/linear_model/_logistic.py:940: ConvergenceWarning: lbfgs failed to converge (status=1):\n",
      "STOP: TOTAL NO. of ITERATIONS REACHED LIMIT.\n",
      "\n",
      "Increase the number of iterations (max_iter) or scale the data as shown in:\n",
      "    https://scikit-learn.org/stable/modules/preprocessing.html\n",
      "Please also refer to the documentation for alternative solver options:\n",
      "    https://scikit-learn.org/stable/modules/linear_model.html#logistic-regression\n",
      "  extra_warning_msg=_LOGISTIC_SOLVER_CONVERGENCE_MSG)\n",
      "//anaconda3/lib/python3.7/site-packages/sklearn/linear_model/_logistic.py:940: ConvergenceWarning: lbfgs failed to converge (status=1):\n",
      "STOP: TOTAL NO. of ITERATIONS REACHED LIMIT.\n",
      "\n",
      "Increase the number of iterations (max_iter) or scale the data as shown in:\n",
      "    https://scikit-learn.org/stable/modules/preprocessing.html\n",
      "Please also refer to the documentation for alternative solver options:\n",
      "    https://scikit-learn.org/stable/modules/linear_model.html#logistic-regression\n",
      "  extra_warning_msg=_LOGISTIC_SOLVER_CONVERGENCE_MSG)\n",
      "//anaconda3/lib/python3.7/site-packages/sklearn/linear_model/_logistic.py:940: ConvergenceWarning: lbfgs failed to converge (status=1):\n",
      "STOP: TOTAL NO. of ITERATIONS REACHED LIMIT.\n",
      "\n",
      "Increase the number of iterations (max_iter) or scale the data as shown in:\n",
      "    https://scikit-learn.org/stable/modules/preprocessing.html\n",
      "Please also refer to the documentation for alternative solver options:\n",
      "    https://scikit-learn.org/stable/modules/linear_model.html#logistic-regression\n",
      "  extra_warning_msg=_LOGISTIC_SOLVER_CONVERGENCE_MSG)\n",
      "//anaconda3/lib/python3.7/site-packages/sklearn/linear_model/_logistic.py:940: ConvergenceWarning: lbfgs failed to converge (status=1):\n",
      "STOP: TOTAL NO. of ITERATIONS REACHED LIMIT.\n",
      "\n",
      "Increase the number of iterations (max_iter) or scale the data as shown in:\n",
      "    https://scikit-learn.org/stable/modules/preprocessing.html\n",
      "Please also refer to the documentation for alternative solver options:\n",
      "    https://scikit-learn.org/stable/modules/linear_model.html#logistic-regression\n",
      "  extra_warning_msg=_LOGISTIC_SOLVER_CONVERGENCE_MSG)\n",
      "//anaconda3/lib/python3.7/site-packages/sklearn/linear_model/_logistic.py:940: ConvergenceWarning: lbfgs failed to converge (status=1):\n",
      "STOP: TOTAL NO. of ITERATIONS REACHED LIMIT.\n",
      "\n",
      "Increase the number of iterations (max_iter) or scale the data as shown in:\n",
      "    https://scikit-learn.org/stable/modules/preprocessing.html\n",
      "Please also refer to the documentation for alternative solver options:\n",
      "    https://scikit-learn.org/stable/modules/linear_model.html#logistic-regression\n",
      "  extra_warning_msg=_LOGISTIC_SOLVER_CONVERGENCE_MSG)\n",
      "//anaconda3/lib/python3.7/site-packages/sklearn/linear_model/_logistic.py:940: ConvergenceWarning: lbfgs failed to converge (status=1):\n",
      "STOP: TOTAL NO. of ITERATIONS REACHED LIMIT.\n",
      "\n",
      "Increase the number of iterations (max_iter) or scale the data as shown in:\n",
      "    https://scikit-learn.org/stable/modules/preprocessing.html\n",
      "Please also refer to the documentation for alternative solver options:\n",
      "    https://scikit-learn.org/stable/modules/linear_model.html#logistic-regression\n",
      "  extra_warning_msg=_LOGISTIC_SOLVER_CONVERGENCE_MSG)\n",
      "//anaconda3/lib/python3.7/site-packages/sklearn/linear_model/_logistic.py:940: ConvergenceWarning: lbfgs failed to converge (status=1):\n",
      "STOP: TOTAL NO. of ITERATIONS REACHED LIMIT.\n",
      "\n",
      "Increase the number of iterations (max_iter) or scale the data as shown in:\n",
      "    https://scikit-learn.org/stable/modules/preprocessing.html\n",
      "Please also refer to the documentation for alternative solver options:\n",
      "    https://scikit-learn.org/stable/modules/linear_model.html#logistic-regression\n",
      "  extra_warning_msg=_LOGISTIC_SOLVER_CONVERGENCE_MSG)\n",
      "//anaconda3/lib/python3.7/site-packages/sklearn/linear_model/_logistic.py:940: ConvergenceWarning: lbfgs failed to converge (status=1):\n",
      "STOP: TOTAL NO. of ITERATIONS REACHED LIMIT.\n",
      "\n",
      "Increase the number of iterations (max_iter) or scale the data as shown in:\n",
      "    https://scikit-learn.org/stable/modules/preprocessing.html\n",
      "Please also refer to the documentation for alternative solver options:\n",
      "    https://scikit-learn.org/stable/modules/linear_model.html#logistic-regression\n",
      "  extra_warning_msg=_LOGISTIC_SOLVER_CONVERGENCE_MSG)\n",
      "//anaconda3/lib/python3.7/site-packages/sklearn/linear_model/_logistic.py:940: ConvergenceWarning: lbfgs failed to converge (status=1):\n",
      "STOP: TOTAL NO. of ITERATIONS REACHED LIMIT.\n",
      "\n",
      "Increase the number of iterations (max_iter) or scale the data as shown in:\n",
      "    https://scikit-learn.org/stable/modules/preprocessing.html\n",
      "Please also refer to the documentation for alternative solver options:\n",
      "    https://scikit-learn.org/stable/modules/linear_model.html#logistic-regression\n",
      "  extra_warning_msg=_LOGISTIC_SOLVER_CONVERGENCE_MSG)\n",
      "//anaconda3/lib/python3.7/site-packages/sklearn/linear_model/_logistic.py:940: ConvergenceWarning: lbfgs failed to converge (status=1):\n",
      "STOP: TOTAL NO. of ITERATIONS REACHED LIMIT.\n",
      "\n",
      "Increase the number of iterations (max_iter) or scale the data as shown in:\n",
      "    https://scikit-learn.org/stable/modules/preprocessing.html\n",
      "Please also refer to the documentation for alternative solver options:\n",
      "    https://scikit-learn.org/stable/modules/linear_model.html#logistic-regression\n",
      "  extra_warning_msg=_LOGISTIC_SOLVER_CONVERGENCE_MSG)\n",
      "//anaconda3/lib/python3.7/site-packages/sklearn/linear_model/_logistic.py:940: ConvergenceWarning: lbfgs failed to converge (status=1):\n",
      "STOP: TOTAL NO. of ITERATIONS REACHED LIMIT.\n",
      "\n",
      "Increase the number of iterations (max_iter) or scale the data as shown in:\n",
      "    https://scikit-learn.org/stable/modules/preprocessing.html\n",
      "Please also refer to the documentation for alternative solver options:\n",
      "    https://scikit-learn.org/stable/modules/linear_model.html#logistic-regression\n",
      "  extra_warning_msg=_LOGISTIC_SOLVER_CONVERGENCE_MSG)\n",
      "//anaconda3/lib/python3.7/site-packages/sklearn/linear_model/_logistic.py:940: ConvergenceWarning: lbfgs failed to converge (status=1):\n",
      "STOP: TOTAL NO. of ITERATIONS REACHED LIMIT.\n",
      "\n",
      "Increase the number of iterations (max_iter) or scale the data as shown in:\n",
      "    https://scikit-learn.org/stable/modules/preprocessing.html\n",
      "Please also refer to the documentation for alternative solver options:\n",
      "    https://scikit-learn.org/stable/modules/linear_model.html#logistic-regression\n",
      "  extra_warning_msg=_LOGISTIC_SOLVER_CONVERGENCE_MSG)\n",
      "//anaconda3/lib/python3.7/site-packages/sklearn/linear_model/_logistic.py:940: ConvergenceWarning: lbfgs failed to converge (status=1):\n",
      "STOP: TOTAL NO. of ITERATIONS REACHED LIMIT.\n",
      "\n",
      "Increase the number of iterations (max_iter) or scale the data as shown in:\n",
      "    https://scikit-learn.org/stable/modules/preprocessing.html\n",
      "Please also refer to the documentation for alternative solver options:\n",
      "    https://scikit-learn.org/stable/modules/linear_model.html#logistic-regression\n",
      "  extra_warning_msg=_LOGISTIC_SOLVER_CONVERGENCE_MSG)\n",
      "//anaconda3/lib/python3.7/site-packages/sklearn/linear_model/_logistic.py:940: ConvergenceWarning: lbfgs failed to converge (status=1):\n",
      "STOP: TOTAL NO. of ITERATIONS REACHED LIMIT.\n",
      "\n",
      "Increase the number of iterations (max_iter) or scale the data as shown in:\n",
      "    https://scikit-learn.org/stable/modules/preprocessing.html\n",
      "Please also refer to the documentation for alternative solver options:\n",
      "    https://scikit-learn.org/stable/modules/linear_model.html#logistic-regression\n",
      "  extra_warning_msg=_LOGISTIC_SOLVER_CONVERGENCE_MSG)\n",
      "//anaconda3/lib/python3.7/site-packages/sklearn/linear_model/_logistic.py:940: ConvergenceWarning: lbfgs failed to converge (status=1):\n",
      "STOP: TOTAL NO. of ITERATIONS REACHED LIMIT.\n",
      "\n",
      "Increase the number of iterations (max_iter) or scale the data as shown in:\n",
      "    https://scikit-learn.org/stable/modules/preprocessing.html\n",
      "Please also refer to the documentation for alternative solver options:\n",
      "    https://scikit-learn.org/stable/modules/linear_model.html#logistic-regression\n",
      "  extra_warning_msg=_LOGISTIC_SOLVER_CONVERGENCE_MSG)\n",
      "//anaconda3/lib/python3.7/site-packages/sklearn/linear_model/_logistic.py:940: ConvergenceWarning: lbfgs failed to converge (status=1):\n",
      "STOP: TOTAL NO. of ITERATIONS REACHED LIMIT.\n",
      "\n",
      "Increase the number of iterations (max_iter) or scale the data as shown in:\n",
      "    https://scikit-learn.org/stable/modules/preprocessing.html\n",
      "Please also refer to the documentation for alternative solver options:\n",
      "    https://scikit-learn.org/stable/modules/linear_model.html#logistic-regression\n",
      "  extra_warning_msg=_LOGISTIC_SOLVER_CONVERGENCE_MSG)\n"
     ]
    },
    {
     "name": "stderr",
     "output_type": "stream",
     "text": [
      "//anaconda3/lib/python3.7/site-packages/sklearn/linear_model/_logistic.py:940: ConvergenceWarning: lbfgs failed to converge (status=1):\n",
      "STOP: TOTAL NO. of ITERATIONS REACHED LIMIT.\n",
      "\n",
      "Increase the number of iterations (max_iter) or scale the data as shown in:\n",
      "    https://scikit-learn.org/stable/modules/preprocessing.html\n",
      "Please also refer to the documentation for alternative solver options:\n",
      "    https://scikit-learn.org/stable/modules/linear_model.html#logistic-regression\n",
      "  extra_warning_msg=_LOGISTIC_SOLVER_CONVERGENCE_MSG)\n",
      "//anaconda3/lib/python3.7/site-packages/sklearn/linear_model/_logistic.py:940: ConvergenceWarning: lbfgs failed to converge (status=1):\n",
      "STOP: TOTAL NO. of ITERATIONS REACHED LIMIT.\n",
      "\n",
      "Increase the number of iterations (max_iter) or scale the data as shown in:\n",
      "    https://scikit-learn.org/stable/modules/preprocessing.html\n",
      "Please also refer to the documentation for alternative solver options:\n",
      "    https://scikit-learn.org/stable/modules/linear_model.html#logistic-regression\n",
      "  extra_warning_msg=_LOGISTIC_SOLVER_CONVERGENCE_MSG)\n",
      "//anaconda3/lib/python3.7/site-packages/sklearn/linear_model/_logistic.py:940: ConvergenceWarning: lbfgs failed to converge (status=1):\n",
      "STOP: TOTAL NO. of ITERATIONS REACHED LIMIT.\n",
      "\n",
      "Increase the number of iterations (max_iter) or scale the data as shown in:\n",
      "    https://scikit-learn.org/stable/modules/preprocessing.html\n",
      "Please also refer to the documentation for alternative solver options:\n",
      "    https://scikit-learn.org/stable/modules/linear_model.html#logistic-regression\n",
      "  extra_warning_msg=_LOGISTIC_SOLVER_CONVERGENCE_MSG)\n",
      "//anaconda3/lib/python3.7/site-packages/sklearn/linear_model/_logistic.py:940: ConvergenceWarning: lbfgs failed to converge (status=1):\n",
      "STOP: TOTAL NO. of ITERATIONS REACHED LIMIT.\n",
      "\n",
      "Increase the number of iterations (max_iter) or scale the data as shown in:\n",
      "    https://scikit-learn.org/stable/modules/preprocessing.html\n",
      "Please also refer to the documentation for alternative solver options:\n",
      "    https://scikit-learn.org/stable/modules/linear_model.html#logistic-regression\n",
      "  extra_warning_msg=_LOGISTIC_SOLVER_CONVERGENCE_MSG)\n",
      "//anaconda3/lib/python3.7/site-packages/sklearn/linear_model/_logistic.py:940: ConvergenceWarning: lbfgs failed to converge (status=1):\n",
      "STOP: TOTAL NO. of ITERATIONS REACHED LIMIT.\n",
      "\n",
      "Increase the number of iterations (max_iter) or scale the data as shown in:\n",
      "    https://scikit-learn.org/stable/modules/preprocessing.html\n",
      "Please also refer to the documentation for alternative solver options:\n",
      "    https://scikit-learn.org/stable/modules/linear_model.html#logistic-regression\n",
      "  extra_warning_msg=_LOGISTIC_SOLVER_CONVERGENCE_MSG)\n",
      "//anaconda3/lib/python3.7/site-packages/sklearn/linear_model/_logistic.py:940: ConvergenceWarning: lbfgs failed to converge (status=1):\n",
      "STOP: TOTAL NO. of ITERATIONS REACHED LIMIT.\n",
      "\n",
      "Increase the number of iterations (max_iter) or scale the data as shown in:\n",
      "    https://scikit-learn.org/stable/modules/preprocessing.html\n",
      "Please also refer to the documentation for alternative solver options:\n",
      "    https://scikit-learn.org/stable/modules/linear_model.html#logistic-regression\n",
      "  extra_warning_msg=_LOGISTIC_SOLVER_CONVERGENCE_MSG)\n",
      "//anaconda3/lib/python3.7/site-packages/sklearn/linear_model/_logistic.py:940: ConvergenceWarning: lbfgs failed to converge (status=1):\n",
      "STOP: TOTAL NO. of ITERATIONS REACHED LIMIT.\n",
      "\n",
      "Increase the number of iterations (max_iter) or scale the data as shown in:\n",
      "    https://scikit-learn.org/stable/modules/preprocessing.html\n",
      "Please also refer to the documentation for alternative solver options:\n",
      "    https://scikit-learn.org/stable/modules/linear_model.html#logistic-regression\n",
      "  extra_warning_msg=_LOGISTIC_SOLVER_CONVERGENCE_MSG)\n",
      "//anaconda3/lib/python3.7/site-packages/sklearn/linear_model/_logistic.py:940: ConvergenceWarning: lbfgs failed to converge (status=1):\n",
      "STOP: TOTAL NO. of ITERATIONS REACHED LIMIT.\n",
      "\n",
      "Increase the number of iterations (max_iter) or scale the data as shown in:\n",
      "    https://scikit-learn.org/stable/modules/preprocessing.html\n",
      "Please also refer to the documentation for alternative solver options:\n",
      "    https://scikit-learn.org/stable/modules/linear_model.html#logistic-regression\n",
      "  extra_warning_msg=_LOGISTIC_SOLVER_CONVERGENCE_MSG)\n",
      "//anaconda3/lib/python3.7/site-packages/sklearn/linear_model/_logistic.py:940: ConvergenceWarning: lbfgs failed to converge (status=1):\n",
      "STOP: TOTAL NO. of ITERATIONS REACHED LIMIT.\n",
      "\n",
      "Increase the number of iterations (max_iter) or scale the data as shown in:\n",
      "    https://scikit-learn.org/stable/modules/preprocessing.html\n",
      "Please also refer to the documentation for alternative solver options:\n",
      "    https://scikit-learn.org/stable/modules/linear_model.html#logistic-regression\n",
      "  extra_warning_msg=_LOGISTIC_SOLVER_CONVERGENCE_MSG)\n",
      "//anaconda3/lib/python3.7/site-packages/sklearn/linear_model/_logistic.py:940: ConvergenceWarning: lbfgs failed to converge (status=1):\n",
      "STOP: TOTAL NO. of ITERATIONS REACHED LIMIT.\n",
      "\n",
      "Increase the number of iterations (max_iter) or scale the data as shown in:\n",
      "    https://scikit-learn.org/stable/modules/preprocessing.html\n",
      "Please also refer to the documentation for alternative solver options:\n",
      "    https://scikit-learn.org/stable/modules/linear_model.html#logistic-regression\n",
      "  extra_warning_msg=_LOGISTIC_SOLVER_CONVERGENCE_MSG)\n",
      "//anaconda3/lib/python3.7/site-packages/sklearn/linear_model/_logistic.py:940: ConvergenceWarning: lbfgs failed to converge (status=1):\n",
      "STOP: TOTAL NO. of ITERATIONS REACHED LIMIT.\n",
      "\n",
      "Increase the number of iterations (max_iter) or scale the data as shown in:\n",
      "    https://scikit-learn.org/stable/modules/preprocessing.html\n",
      "Please also refer to the documentation for alternative solver options:\n",
      "    https://scikit-learn.org/stable/modules/linear_model.html#logistic-regression\n",
      "  extra_warning_msg=_LOGISTIC_SOLVER_CONVERGENCE_MSG)\n",
      "//anaconda3/lib/python3.7/site-packages/sklearn/linear_model/_logistic.py:940: ConvergenceWarning: lbfgs failed to converge (status=1):\n",
      "STOP: TOTAL NO. of ITERATIONS REACHED LIMIT.\n",
      "\n",
      "Increase the number of iterations (max_iter) or scale the data as shown in:\n",
      "    https://scikit-learn.org/stable/modules/preprocessing.html\n",
      "Please also refer to the documentation for alternative solver options:\n",
      "    https://scikit-learn.org/stable/modules/linear_model.html#logistic-regression\n",
      "  extra_warning_msg=_LOGISTIC_SOLVER_CONVERGENCE_MSG)\n",
      "//anaconda3/lib/python3.7/site-packages/sklearn/linear_model/_logistic.py:940: ConvergenceWarning: lbfgs failed to converge (status=1):\n",
      "STOP: TOTAL NO. of ITERATIONS REACHED LIMIT.\n",
      "\n",
      "Increase the number of iterations (max_iter) or scale the data as shown in:\n",
      "    https://scikit-learn.org/stable/modules/preprocessing.html\n",
      "Please also refer to the documentation for alternative solver options:\n",
      "    https://scikit-learn.org/stable/modules/linear_model.html#logistic-regression\n",
      "  extra_warning_msg=_LOGISTIC_SOLVER_CONVERGENCE_MSG)\n",
      "//anaconda3/lib/python3.7/site-packages/sklearn/linear_model/_logistic.py:940: ConvergenceWarning: lbfgs failed to converge (status=1):\n",
      "STOP: TOTAL NO. of ITERATIONS REACHED LIMIT.\n",
      "\n",
      "Increase the number of iterations (max_iter) or scale the data as shown in:\n",
      "    https://scikit-learn.org/stable/modules/preprocessing.html\n",
      "Please also refer to the documentation for alternative solver options:\n",
      "    https://scikit-learn.org/stable/modules/linear_model.html#logistic-regression\n",
      "  extra_warning_msg=_LOGISTIC_SOLVER_CONVERGENCE_MSG)\n",
      "//anaconda3/lib/python3.7/site-packages/sklearn/linear_model/_logistic.py:940: ConvergenceWarning: lbfgs failed to converge (status=1):\n",
      "STOP: TOTAL NO. of ITERATIONS REACHED LIMIT.\n",
      "\n",
      "Increase the number of iterations (max_iter) or scale the data as shown in:\n",
      "    https://scikit-learn.org/stable/modules/preprocessing.html\n",
      "Please also refer to the documentation for alternative solver options:\n",
      "    https://scikit-learn.org/stable/modules/linear_model.html#logistic-regression\n",
      "  extra_warning_msg=_LOGISTIC_SOLVER_CONVERGENCE_MSG)\n",
      "//anaconda3/lib/python3.7/site-packages/sklearn/linear_model/_logistic.py:940: ConvergenceWarning: lbfgs failed to converge (status=1):\n",
      "STOP: TOTAL NO. of ITERATIONS REACHED LIMIT.\n",
      "\n",
      "Increase the number of iterations (max_iter) or scale the data as shown in:\n",
      "    https://scikit-learn.org/stable/modules/preprocessing.html\n",
      "Please also refer to the documentation for alternative solver options:\n",
      "    https://scikit-learn.org/stable/modules/linear_model.html#logistic-regression\n",
      "  extra_warning_msg=_LOGISTIC_SOLVER_CONVERGENCE_MSG)\n"
     ]
    },
    {
     "name": "stderr",
     "output_type": "stream",
     "text": [
      "//anaconda3/lib/python3.7/site-packages/sklearn/linear_model/_logistic.py:940: ConvergenceWarning: lbfgs failed to converge (status=1):\n",
      "STOP: TOTAL NO. of ITERATIONS REACHED LIMIT.\n",
      "\n",
      "Increase the number of iterations (max_iter) or scale the data as shown in:\n",
      "    https://scikit-learn.org/stable/modules/preprocessing.html\n",
      "Please also refer to the documentation for alternative solver options:\n",
      "    https://scikit-learn.org/stable/modules/linear_model.html#logistic-regression\n",
      "  extra_warning_msg=_LOGISTIC_SOLVER_CONVERGENCE_MSG)\n",
      "//anaconda3/lib/python3.7/site-packages/sklearn/linear_model/_logistic.py:940: ConvergenceWarning: lbfgs failed to converge (status=1):\n",
      "STOP: TOTAL NO. of ITERATIONS REACHED LIMIT.\n",
      "\n",
      "Increase the number of iterations (max_iter) or scale the data as shown in:\n",
      "    https://scikit-learn.org/stable/modules/preprocessing.html\n",
      "Please also refer to the documentation for alternative solver options:\n",
      "    https://scikit-learn.org/stable/modules/linear_model.html#logistic-regression\n",
      "  extra_warning_msg=_LOGISTIC_SOLVER_CONVERGENCE_MSG)\n",
      "//anaconda3/lib/python3.7/site-packages/sklearn/linear_model/_logistic.py:940: ConvergenceWarning: lbfgs failed to converge (status=1):\n",
      "STOP: TOTAL NO. of ITERATIONS REACHED LIMIT.\n",
      "\n",
      "Increase the number of iterations (max_iter) or scale the data as shown in:\n",
      "    https://scikit-learn.org/stable/modules/preprocessing.html\n",
      "Please also refer to the documentation for alternative solver options:\n",
      "    https://scikit-learn.org/stable/modules/linear_model.html#logistic-regression\n",
      "  extra_warning_msg=_LOGISTIC_SOLVER_CONVERGENCE_MSG)\n",
      "//anaconda3/lib/python3.7/site-packages/sklearn/linear_model/_logistic.py:940: ConvergenceWarning: lbfgs failed to converge (status=1):\n",
      "STOP: TOTAL NO. of ITERATIONS REACHED LIMIT.\n",
      "\n",
      "Increase the number of iterations (max_iter) or scale the data as shown in:\n",
      "    https://scikit-learn.org/stable/modules/preprocessing.html\n",
      "Please also refer to the documentation for alternative solver options:\n",
      "    https://scikit-learn.org/stable/modules/linear_model.html#logistic-regression\n",
      "  extra_warning_msg=_LOGISTIC_SOLVER_CONVERGENCE_MSG)\n",
      "//anaconda3/lib/python3.7/site-packages/sklearn/linear_model/_logistic.py:940: ConvergenceWarning: lbfgs failed to converge (status=1):\n",
      "STOP: TOTAL NO. of ITERATIONS REACHED LIMIT.\n",
      "\n",
      "Increase the number of iterations (max_iter) or scale the data as shown in:\n",
      "    https://scikit-learn.org/stable/modules/preprocessing.html\n",
      "Please also refer to the documentation for alternative solver options:\n",
      "    https://scikit-learn.org/stable/modules/linear_model.html#logistic-regression\n",
      "  extra_warning_msg=_LOGISTIC_SOLVER_CONVERGENCE_MSG)\n",
      "//anaconda3/lib/python3.7/site-packages/sklearn/linear_model/_logistic.py:940: ConvergenceWarning: lbfgs failed to converge (status=1):\n",
      "STOP: TOTAL NO. of ITERATIONS REACHED LIMIT.\n",
      "\n",
      "Increase the number of iterations (max_iter) or scale the data as shown in:\n",
      "    https://scikit-learn.org/stable/modules/preprocessing.html\n",
      "Please also refer to the documentation for alternative solver options:\n",
      "    https://scikit-learn.org/stable/modules/linear_model.html#logistic-regression\n",
      "  extra_warning_msg=_LOGISTIC_SOLVER_CONVERGENCE_MSG)\n",
      "//anaconda3/lib/python3.7/site-packages/sklearn/linear_model/_logistic.py:940: ConvergenceWarning: lbfgs failed to converge (status=1):\n",
      "STOP: TOTAL NO. of ITERATIONS REACHED LIMIT.\n",
      "\n",
      "Increase the number of iterations (max_iter) or scale the data as shown in:\n",
      "    https://scikit-learn.org/stable/modules/preprocessing.html\n",
      "Please also refer to the documentation for alternative solver options:\n",
      "    https://scikit-learn.org/stable/modules/linear_model.html#logistic-regression\n",
      "  extra_warning_msg=_LOGISTIC_SOLVER_CONVERGENCE_MSG)\n",
      "//anaconda3/lib/python3.7/site-packages/sklearn/linear_model/_logistic.py:940: ConvergenceWarning: lbfgs failed to converge (status=1):\n",
      "STOP: TOTAL NO. of ITERATIONS REACHED LIMIT.\n",
      "\n",
      "Increase the number of iterations (max_iter) or scale the data as shown in:\n",
      "    https://scikit-learn.org/stable/modules/preprocessing.html\n",
      "Please also refer to the documentation for alternative solver options:\n",
      "    https://scikit-learn.org/stable/modules/linear_model.html#logistic-regression\n",
      "  extra_warning_msg=_LOGISTIC_SOLVER_CONVERGENCE_MSG)\n",
      "//anaconda3/lib/python3.7/site-packages/sklearn/linear_model/_logistic.py:940: ConvergenceWarning: lbfgs failed to converge (status=1):\n",
      "STOP: TOTAL NO. of ITERATIONS REACHED LIMIT.\n",
      "\n",
      "Increase the number of iterations (max_iter) or scale the data as shown in:\n",
      "    https://scikit-learn.org/stable/modules/preprocessing.html\n",
      "Please also refer to the documentation for alternative solver options:\n",
      "    https://scikit-learn.org/stable/modules/linear_model.html#logistic-regression\n",
      "  extra_warning_msg=_LOGISTIC_SOLVER_CONVERGENCE_MSG)\n",
      "//anaconda3/lib/python3.7/site-packages/sklearn/linear_model/_logistic.py:940: ConvergenceWarning: lbfgs failed to converge (status=1):\n",
      "STOP: TOTAL NO. of ITERATIONS REACHED LIMIT.\n",
      "\n",
      "Increase the number of iterations (max_iter) or scale the data as shown in:\n",
      "    https://scikit-learn.org/stable/modules/preprocessing.html\n",
      "Please also refer to the documentation for alternative solver options:\n",
      "    https://scikit-learn.org/stable/modules/linear_model.html#logistic-regression\n",
      "  extra_warning_msg=_LOGISTIC_SOLVER_CONVERGENCE_MSG)\n",
      "//anaconda3/lib/python3.7/site-packages/sklearn/linear_model/_logistic.py:940: ConvergenceWarning: lbfgs failed to converge (status=1):\n",
      "STOP: TOTAL NO. of ITERATIONS REACHED LIMIT.\n",
      "\n",
      "Increase the number of iterations (max_iter) or scale the data as shown in:\n",
      "    https://scikit-learn.org/stable/modules/preprocessing.html\n",
      "Please also refer to the documentation for alternative solver options:\n",
      "    https://scikit-learn.org/stable/modules/linear_model.html#logistic-regression\n",
      "  extra_warning_msg=_LOGISTIC_SOLVER_CONVERGENCE_MSG)\n",
      "//anaconda3/lib/python3.7/site-packages/sklearn/linear_model/_logistic.py:940: ConvergenceWarning: lbfgs failed to converge (status=1):\n",
      "STOP: TOTAL NO. of ITERATIONS REACHED LIMIT.\n",
      "\n",
      "Increase the number of iterations (max_iter) or scale the data as shown in:\n",
      "    https://scikit-learn.org/stable/modules/preprocessing.html\n",
      "Please also refer to the documentation for alternative solver options:\n",
      "    https://scikit-learn.org/stable/modules/linear_model.html#logistic-regression\n",
      "  extra_warning_msg=_LOGISTIC_SOLVER_CONVERGENCE_MSG)\n",
      "//anaconda3/lib/python3.7/site-packages/sklearn/linear_model/_logistic.py:940: ConvergenceWarning: lbfgs failed to converge (status=1):\n",
      "STOP: TOTAL NO. of ITERATIONS REACHED LIMIT.\n",
      "\n",
      "Increase the number of iterations (max_iter) or scale the data as shown in:\n",
      "    https://scikit-learn.org/stable/modules/preprocessing.html\n",
      "Please also refer to the documentation for alternative solver options:\n",
      "    https://scikit-learn.org/stable/modules/linear_model.html#logistic-regression\n",
      "  extra_warning_msg=_LOGISTIC_SOLVER_CONVERGENCE_MSG)\n",
      "//anaconda3/lib/python3.7/site-packages/sklearn/linear_model/_logistic.py:940: ConvergenceWarning: lbfgs failed to converge (status=1):\n",
      "STOP: TOTAL NO. of ITERATIONS REACHED LIMIT.\n",
      "\n",
      "Increase the number of iterations (max_iter) or scale the data as shown in:\n",
      "    https://scikit-learn.org/stable/modules/preprocessing.html\n",
      "Please also refer to the documentation for alternative solver options:\n",
      "    https://scikit-learn.org/stable/modules/linear_model.html#logistic-regression\n",
      "  extra_warning_msg=_LOGISTIC_SOLVER_CONVERGENCE_MSG)\n",
      "//anaconda3/lib/python3.7/site-packages/sklearn/linear_model/_logistic.py:940: ConvergenceWarning: lbfgs failed to converge (status=1):\n",
      "STOP: TOTAL NO. of ITERATIONS REACHED LIMIT.\n",
      "\n",
      "Increase the number of iterations (max_iter) or scale the data as shown in:\n",
      "    https://scikit-learn.org/stable/modules/preprocessing.html\n",
      "Please also refer to the documentation for alternative solver options:\n",
      "    https://scikit-learn.org/stable/modules/linear_model.html#logistic-regression\n",
      "  extra_warning_msg=_LOGISTIC_SOLVER_CONVERGENCE_MSG)\n",
      "//anaconda3/lib/python3.7/site-packages/sklearn/linear_model/_logistic.py:940: ConvergenceWarning: lbfgs failed to converge (status=1):\n",
      "STOP: TOTAL NO. of ITERATIONS REACHED LIMIT.\n",
      "\n",
      "Increase the number of iterations (max_iter) or scale the data as shown in:\n",
      "    https://scikit-learn.org/stable/modules/preprocessing.html\n",
      "Please also refer to the documentation for alternative solver options:\n",
      "    https://scikit-learn.org/stable/modules/linear_model.html#logistic-regression\n",
      "  extra_warning_msg=_LOGISTIC_SOLVER_CONVERGENCE_MSG)\n"
     ]
    },
    {
     "name": "stderr",
     "output_type": "stream",
     "text": [
      "//anaconda3/lib/python3.7/site-packages/sklearn/linear_model/_logistic.py:940: ConvergenceWarning: lbfgs failed to converge (status=1):\n",
      "STOP: TOTAL NO. of ITERATIONS REACHED LIMIT.\n",
      "\n",
      "Increase the number of iterations (max_iter) or scale the data as shown in:\n",
      "    https://scikit-learn.org/stable/modules/preprocessing.html\n",
      "Please also refer to the documentation for alternative solver options:\n",
      "    https://scikit-learn.org/stable/modules/linear_model.html#logistic-regression\n",
      "  extra_warning_msg=_LOGISTIC_SOLVER_CONVERGENCE_MSG)\n",
      "//anaconda3/lib/python3.7/site-packages/sklearn/linear_model/_logistic.py:940: ConvergenceWarning: lbfgs failed to converge (status=1):\n",
      "STOP: TOTAL NO. of ITERATIONS REACHED LIMIT.\n",
      "\n",
      "Increase the number of iterations (max_iter) or scale the data as shown in:\n",
      "    https://scikit-learn.org/stable/modules/preprocessing.html\n",
      "Please also refer to the documentation for alternative solver options:\n",
      "    https://scikit-learn.org/stable/modules/linear_model.html#logistic-regression\n",
      "  extra_warning_msg=_LOGISTIC_SOLVER_CONVERGENCE_MSG)\n",
      "//anaconda3/lib/python3.7/site-packages/sklearn/linear_model/_logistic.py:940: ConvergenceWarning: lbfgs failed to converge (status=1):\n",
      "STOP: TOTAL NO. of ITERATIONS REACHED LIMIT.\n",
      "\n",
      "Increase the number of iterations (max_iter) or scale the data as shown in:\n",
      "    https://scikit-learn.org/stable/modules/preprocessing.html\n",
      "Please also refer to the documentation for alternative solver options:\n",
      "    https://scikit-learn.org/stable/modules/linear_model.html#logistic-regression\n",
      "  extra_warning_msg=_LOGISTIC_SOLVER_CONVERGENCE_MSG)\n",
      "//anaconda3/lib/python3.7/site-packages/sklearn/linear_model/_logistic.py:940: ConvergenceWarning: lbfgs failed to converge (status=1):\n",
      "STOP: TOTAL NO. of ITERATIONS REACHED LIMIT.\n",
      "\n",
      "Increase the number of iterations (max_iter) or scale the data as shown in:\n",
      "    https://scikit-learn.org/stable/modules/preprocessing.html\n",
      "Please also refer to the documentation for alternative solver options:\n",
      "    https://scikit-learn.org/stable/modules/linear_model.html#logistic-regression\n",
      "  extra_warning_msg=_LOGISTIC_SOLVER_CONVERGENCE_MSG)\n",
      "//anaconda3/lib/python3.7/site-packages/sklearn/linear_model/_logistic.py:940: ConvergenceWarning: lbfgs failed to converge (status=1):\n",
      "STOP: TOTAL NO. of ITERATIONS REACHED LIMIT.\n",
      "\n",
      "Increase the number of iterations (max_iter) or scale the data as shown in:\n",
      "    https://scikit-learn.org/stable/modules/preprocessing.html\n",
      "Please also refer to the documentation for alternative solver options:\n",
      "    https://scikit-learn.org/stable/modules/linear_model.html#logistic-regression\n",
      "  extra_warning_msg=_LOGISTIC_SOLVER_CONVERGENCE_MSG)\n",
      "//anaconda3/lib/python3.7/site-packages/sklearn/linear_model/_logistic.py:940: ConvergenceWarning: lbfgs failed to converge (status=1):\n",
      "STOP: TOTAL NO. of ITERATIONS REACHED LIMIT.\n",
      "\n",
      "Increase the number of iterations (max_iter) or scale the data as shown in:\n",
      "    https://scikit-learn.org/stable/modules/preprocessing.html\n",
      "Please also refer to the documentation for alternative solver options:\n",
      "    https://scikit-learn.org/stable/modules/linear_model.html#logistic-regression\n",
      "  extra_warning_msg=_LOGISTIC_SOLVER_CONVERGENCE_MSG)\n",
      "//anaconda3/lib/python3.7/site-packages/sklearn/linear_model/_logistic.py:940: ConvergenceWarning: lbfgs failed to converge (status=1):\n",
      "STOP: TOTAL NO. of ITERATIONS REACHED LIMIT.\n",
      "\n",
      "Increase the number of iterations (max_iter) or scale the data as shown in:\n",
      "    https://scikit-learn.org/stable/modules/preprocessing.html\n",
      "Please also refer to the documentation for alternative solver options:\n",
      "    https://scikit-learn.org/stable/modules/linear_model.html#logistic-regression\n",
      "  extra_warning_msg=_LOGISTIC_SOLVER_CONVERGENCE_MSG)\n",
      "//anaconda3/lib/python3.7/site-packages/sklearn/linear_model/_logistic.py:940: ConvergenceWarning: lbfgs failed to converge (status=1):\n",
      "STOP: TOTAL NO. of ITERATIONS REACHED LIMIT.\n",
      "\n",
      "Increase the number of iterations (max_iter) or scale the data as shown in:\n",
      "    https://scikit-learn.org/stable/modules/preprocessing.html\n",
      "Please also refer to the documentation for alternative solver options:\n",
      "    https://scikit-learn.org/stable/modules/linear_model.html#logistic-regression\n",
      "  extra_warning_msg=_LOGISTIC_SOLVER_CONVERGENCE_MSG)\n",
      "//anaconda3/lib/python3.7/site-packages/sklearn/linear_model/_logistic.py:940: ConvergenceWarning: lbfgs failed to converge (status=1):\n",
      "STOP: TOTAL NO. of ITERATIONS REACHED LIMIT.\n",
      "\n",
      "Increase the number of iterations (max_iter) or scale the data as shown in:\n",
      "    https://scikit-learn.org/stable/modules/preprocessing.html\n",
      "Please also refer to the documentation for alternative solver options:\n",
      "    https://scikit-learn.org/stable/modules/linear_model.html#logistic-regression\n",
      "  extra_warning_msg=_LOGISTIC_SOLVER_CONVERGENCE_MSG)\n",
      "//anaconda3/lib/python3.7/site-packages/sklearn/linear_model/_logistic.py:940: ConvergenceWarning: lbfgs failed to converge (status=1):\n",
      "STOP: TOTAL NO. of ITERATIONS REACHED LIMIT.\n",
      "\n",
      "Increase the number of iterations (max_iter) or scale the data as shown in:\n",
      "    https://scikit-learn.org/stable/modules/preprocessing.html\n",
      "Please also refer to the documentation for alternative solver options:\n",
      "    https://scikit-learn.org/stable/modules/linear_model.html#logistic-regression\n",
      "  extra_warning_msg=_LOGISTIC_SOLVER_CONVERGENCE_MSG)\n",
      "//anaconda3/lib/python3.7/site-packages/sklearn/linear_model/_logistic.py:940: ConvergenceWarning: lbfgs failed to converge (status=1):\n",
      "STOP: TOTAL NO. of ITERATIONS REACHED LIMIT.\n",
      "\n",
      "Increase the number of iterations (max_iter) or scale the data as shown in:\n",
      "    https://scikit-learn.org/stable/modules/preprocessing.html\n",
      "Please also refer to the documentation for alternative solver options:\n",
      "    https://scikit-learn.org/stable/modules/linear_model.html#logistic-regression\n",
      "  extra_warning_msg=_LOGISTIC_SOLVER_CONVERGENCE_MSG)\n",
      "//anaconda3/lib/python3.7/site-packages/sklearn/linear_model/_logistic.py:940: ConvergenceWarning: lbfgs failed to converge (status=1):\n",
      "STOP: TOTAL NO. of ITERATIONS REACHED LIMIT.\n",
      "\n",
      "Increase the number of iterations (max_iter) or scale the data as shown in:\n",
      "    https://scikit-learn.org/stable/modules/preprocessing.html\n",
      "Please also refer to the documentation for alternative solver options:\n",
      "    https://scikit-learn.org/stable/modules/linear_model.html#logistic-regression\n",
      "  extra_warning_msg=_LOGISTIC_SOLVER_CONVERGENCE_MSG)\n",
      "//anaconda3/lib/python3.7/site-packages/sklearn/linear_model/_logistic.py:940: ConvergenceWarning: lbfgs failed to converge (status=1):\n",
      "STOP: TOTAL NO. of ITERATIONS REACHED LIMIT.\n",
      "\n",
      "Increase the number of iterations (max_iter) or scale the data as shown in:\n",
      "    https://scikit-learn.org/stable/modules/preprocessing.html\n",
      "Please also refer to the documentation for alternative solver options:\n",
      "    https://scikit-learn.org/stable/modules/linear_model.html#logistic-regression\n",
      "  extra_warning_msg=_LOGISTIC_SOLVER_CONVERGENCE_MSG)\n",
      "//anaconda3/lib/python3.7/site-packages/sklearn/linear_model/_logistic.py:940: ConvergenceWarning: lbfgs failed to converge (status=1):\n",
      "STOP: TOTAL NO. of ITERATIONS REACHED LIMIT.\n",
      "\n",
      "Increase the number of iterations (max_iter) or scale the data as shown in:\n",
      "    https://scikit-learn.org/stable/modules/preprocessing.html\n",
      "Please also refer to the documentation for alternative solver options:\n",
      "    https://scikit-learn.org/stable/modules/linear_model.html#logistic-regression\n",
      "  extra_warning_msg=_LOGISTIC_SOLVER_CONVERGENCE_MSG)\n",
      "//anaconda3/lib/python3.7/site-packages/sklearn/linear_model/_logistic.py:940: ConvergenceWarning: lbfgs failed to converge (status=1):\n",
      "STOP: TOTAL NO. of ITERATIONS REACHED LIMIT.\n",
      "\n",
      "Increase the number of iterations (max_iter) or scale the data as shown in:\n",
      "    https://scikit-learn.org/stable/modules/preprocessing.html\n",
      "Please also refer to the documentation for alternative solver options:\n",
      "    https://scikit-learn.org/stable/modules/linear_model.html#logistic-regression\n",
      "  extra_warning_msg=_LOGISTIC_SOLVER_CONVERGENCE_MSG)\n",
      "//anaconda3/lib/python3.7/site-packages/sklearn/linear_model/_logistic.py:940: ConvergenceWarning: lbfgs failed to converge (status=1):\n",
      "STOP: TOTAL NO. of ITERATIONS REACHED LIMIT.\n",
      "\n",
      "Increase the number of iterations (max_iter) or scale the data as shown in:\n",
      "    https://scikit-learn.org/stable/modules/preprocessing.html\n",
      "Please also refer to the documentation for alternative solver options:\n",
      "    https://scikit-learn.org/stable/modules/linear_model.html#logistic-regression\n",
      "  extra_warning_msg=_LOGISTIC_SOLVER_CONVERGENCE_MSG)\n"
     ]
    },
    {
     "name": "stderr",
     "output_type": "stream",
     "text": [
      "//anaconda3/lib/python3.7/site-packages/sklearn/linear_model/_logistic.py:940: ConvergenceWarning: lbfgs failed to converge (status=1):\n",
      "STOP: TOTAL NO. of ITERATIONS REACHED LIMIT.\n",
      "\n",
      "Increase the number of iterations (max_iter) or scale the data as shown in:\n",
      "    https://scikit-learn.org/stable/modules/preprocessing.html\n",
      "Please also refer to the documentation for alternative solver options:\n",
      "    https://scikit-learn.org/stable/modules/linear_model.html#logistic-regression\n",
      "  extra_warning_msg=_LOGISTIC_SOLVER_CONVERGENCE_MSG)\n",
      "//anaconda3/lib/python3.7/site-packages/sklearn/linear_model/_logistic.py:940: ConvergenceWarning: lbfgs failed to converge (status=1):\n",
      "STOP: TOTAL NO. of ITERATIONS REACHED LIMIT.\n",
      "\n",
      "Increase the number of iterations (max_iter) or scale the data as shown in:\n",
      "    https://scikit-learn.org/stable/modules/preprocessing.html\n",
      "Please also refer to the documentation for alternative solver options:\n",
      "    https://scikit-learn.org/stable/modules/linear_model.html#logistic-regression\n",
      "  extra_warning_msg=_LOGISTIC_SOLVER_CONVERGENCE_MSG)\n",
      "//anaconda3/lib/python3.7/site-packages/sklearn/linear_model/_logistic.py:940: ConvergenceWarning: lbfgs failed to converge (status=1):\n",
      "STOP: TOTAL NO. of ITERATIONS REACHED LIMIT.\n",
      "\n",
      "Increase the number of iterations (max_iter) or scale the data as shown in:\n",
      "    https://scikit-learn.org/stable/modules/preprocessing.html\n",
      "Please also refer to the documentation for alternative solver options:\n",
      "    https://scikit-learn.org/stable/modules/linear_model.html#logistic-regression\n",
      "  extra_warning_msg=_LOGISTIC_SOLVER_CONVERGENCE_MSG)\n",
      "//anaconda3/lib/python3.7/site-packages/sklearn/linear_model/_logistic.py:940: ConvergenceWarning: lbfgs failed to converge (status=1):\n",
      "STOP: TOTAL NO. of ITERATIONS REACHED LIMIT.\n",
      "\n",
      "Increase the number of iterations (max_iter) or scale the data as shown in:\n",
      "    https://scikit-learn.org/stable/modules/preprocessing.html\n",
      "Please also refer to the documentation for alternative solver options:\n",
      "    https://scikit-learn.org/stable/modules/linear_model.html#logistic-regression\n",
      "  extra_warning_msg=_LOGISTIC_SOLVER_CONVERGENCE_MSG)\n",
      "//anaconda3/lib/python3.7/site-packages/sklearn/linear_model/_logistic.py:940: ConvergenceWarning: lbfgs failed to converge (status=1):\n",
      "STOP: TOTAL NO. of ITERATIONS REACHED LIMIT.\n",
      "\n",
      "Increase the number of iterations (max_iter) or scale the data as shown in:\n",
      "    https://scikit-learn.org/stable/modules/preprocessing.html\n",
      "Please also refer to the documentation for alternative solver options:\n",
      "    https://scikit-learn.org/stable/modules/linear_model.html#logistic-regression\n",
      "  extra_warning_msg=_LOGISTIC_SOLVER_CONVERGENCE_MSG)\n",
      "//anaconda3/lib/python3.7/site-packages/sklearn/linear_model/_logistic.py:940: ConvergenceWarning: lbfgs failed to converge (status=1):\n",
      "STOP: TOTAL NO. of ITERATIONS REACHED LIMIT.\n",
      "\n",
      "Increase the number of iterations (max_iter) or scale the data as shown in:\n",
      "    https://scikit-learn.org/stable/modules/preprocessing.html\n",
      "Please also refer to the documentation for alternative solver options:\n",
      "    https://scikit-learn.org/stable/modules/linear_model.html#logistic-regression\n",
      "  extra_warning_msg=_LOGISTIC_SOLVER_CONVERGENCE_MSG)\n",
      "//anaconda3/lib/python3.7/site-packages/sklearn/linear_model/_logistic.py:940: ConvergenceWarning: lbfgs failed to converge (status=1):\n",
      "STOP: TOTAL NO. of ITERATIONS REACHED LIMIT.\n",
      "\n",
      "Increase the number of iterations (max_iter) or scale the data as shown in:\n",
      "    https://scikit-learn.org/stable/modules/preprocessing.html\n",
      "Please also refer to the documentation for alternative solver options:\n",
      "    https://scikit-learn.org/stable/modules/linear_model.html#logistic-regression\n",
      "  extra_warning_msg=_LOGISTIC_SOLVER_CONVERGENCE_MSG)\n",
      "//anaconda3/lib/python3.7/site-packages/sklearn/linear_model/_logistic.py:940: ConvergenceWarning: lbfgs failed to converge (status=1):\n",
      "STOP: TOTAL NO. of ITERATIONS REACHED LIMIT.\n",
      "\n",
      "Increase the number of iterations (max_iter) or scale the data as shown in:\n",
      "    https://scikit-learn.org/stable/modules/preprocessing.html\n",
      "Please also refer to the documentation for alternative solver options:\n",
      "    https://scikit-learn.org/stable/modules/linear_model.html#logistic-regression\n",
      "  extra_warning_msg=_LOGISTIC_SOLVER_CONVERGENCE_MSG)\n",
      "//anaconda3/lib/python3.7/site-packages/sklearn/linear_model/_logistic.py:940: ConvergenceWarning: lbfgs failed to converge (status=1):\n",
      "STOP: TOTAL NO. of ITERATIONS REACHED LIMIT.\n",
      "\n",
      "Increase the number of iterations (max_iter) or scale the data as shown in:\n",
      "    https://scikit-learn.org/stable/modules/preprocessing.html\n",
      "Please also refer to the documentation for alternative solver options:\n",
      "    https://scikit-learn.org/stable/modules/linear_model.html#logistic-regression\n",
      "  extra_warning_msg=_LOGISTIC_SOLVER_CONVERGENCE_MSG)\n",
      "//anaconda3/lib/python3.7/site-packages/sklearn/linear_model/_logistic.py:940: ConvergenceWarning: lbfgs failed to converge (status=1):\n",
      "STOP: TOTAL NO. of ITERATIONS REACHED LIMIT.\n",
      "\n",
      "Increase the number of iterations (max_iter) or scale the data as shown in:\n",
      "    https://scikit-learn.org/stable/modules/preprocessing.html\n",
      "Please also refer to the documentation for alternative solver options:\n",
      "    https://scikit-learn.org/stable/modules/linear_model.html#logistic-regression\n",
      "  extra_warning_msg=_LOGISTIC_SOLVER_CONVERGENCE_MSG)\n",
      "//anaconda3/lib/python3.7/site-packages/sklearn/linear_model/_logistic.py:940: ConvergenceWarning: lbfgs failed to converge (status=1):\n",
      "STOP: TOTAL NO. of ITERATIONS REACHED LIMIT.\n",
      "\n",
      "Increase the number of iterations (max_iter) or scale the data as shown in:\n",
      "    https://scikit-learn.org/stable/modules/preprocessing.html\n",
      "Please also refer to the documentation for alternative solver options:\n",
      "    https://scikit-learn.org/stable/modules/linear_model.html#logistic-regression\n",
      "  extra_warning_msg=_LOGISTIC_SOLVER_CONVERGENCE_MSG)\n",
      "//anaconda3/lib/python3.7/site-packages/sklearn/linear_model/_logistic.py:940: ConvergenceWarning: lbfgs failed to converge (status=1):\n",
      "STOP: TOTAL NO. of ITERATIONS REACHED LIMIT.\n",
      "\n",
      "Increase the number of iterations (max_iter) or scale the data as shown in:\n",
      "    https://scikit-learn.org/stable/modules/preprocessing.html\n",
      "Please also refer to the documentation for alternative solver options:\n",
      "    https://scikit-learn.org/stable/modules/linear_model.html#logistic-regression\n",
      "  extra_warning_msg=_LOGISTIC_SOLVER_CONVERGENCE_MSG)\n",
      "//anaconda3/lib/python3.7/site-packages/sklearn/linear_model/_logistic.py:940: ConvergenceWarning: lbfgs failed to converge (status=1):\n",
      "STOP: TOTAL NO. of ITERATIONS REACHED LIMIT.\n",
      "\n",
      "Increase the number of iterations (max_iter) or scale the data as shown in:\n",
      "    https://scikit-learn.org/stable/modules/preprocessing.html\n",
      "Please also refer to the documentation for alternative solver options:\n",
      "    https://scikit-learn.org/stable/modules/linear_model.html#logistic-regression\n",
      "  extra_warning_msg=_LOGISTIC_SOLVER_CONVERGENCE_MSG)\n",
      "//anaconda3/lib/python3.7/site-packages/sklearn/linear_model/_logistic.py:940: ConvergenceWarning: lbfgs failed to converge (status=1):\n",
      "STOP: TOTAL NO. of ITERATIONS REACHED LIMIT.\n",
      "\n",
      "Increase the number of iterations (max_iter) or scale the data as shown in:\n",
      "    https://scikit-learn.org/stable/modules/preprocessing.html\n",
      "Please also refer to the documentation for alternative solver options:\n",
      "    https://scikit-learn.org/stable/modules/linear_model.html#logistic-regression\n",
      "  extra_warning_msg=_LOGISTIC_SOLVER_CONVERGENCE_MSG)\n",
      "//anaconda3/lib/python3.7/site-packages/sklearn/linear_model/_logistic.py:940: ConvergenceWarning: lbfgs failed to converge (status=1):\n",
      "STOP: TOTAL NO. of ITERATIONS REACHED LIMIT.\n",
      "\n",
      "Increase the number of iterations (max_iter) or scale the data as shown in:\n",
      "    https://scikit-learn.org/stable/modules/preprocessing.html\n",
      "Please also refer to the documentation for alternative solver options:\n",
      "    https://scikit-learn.org/stable/modules/linear_model.html#logistic-regression\n",
      "  extra_warning_msg=_LOGISTIC_SOLVER_CONVERGENCE_MSG)\n",
      "//anaconda3/lib/python3.7/site-packages/sklearn/linear_model/_logistic.py:940: ConvergenceWarning: lbfgs failed to converge (status=1):\n",
      "STOP: TOTAL NO. of ITERATIONS REACHED LIMIT.\n",
      "\n",
      "Increase the number of iterations (max_iter) or scale the data as shown in:\n",
      "    https://scikit-learn.org/stable/modules/preprocessing.html\n",
      "Please also refer to the documentation for alternative solver options:\n",
      "    https://scikit-learn.org/stable/modules/linear_model.html#logistic-regression\n",
      "  extra_warning_msg=_LOGISTIC_SOLVER_CONVERGENCE_MSG)\n"
     ]
    },
    {
     "name": "stderr",
     "output_type": "stream",
     "text": [
      "//anaconda3/lib/python3.7/site-packages/sklearn/linear_model/_logistic.py:940: ConvergenceWarning: lbfgs failed to converge (status=1):\n",
      "STOP: TOTAL NO. of ITERATIONS REACHED LIMIT.\n",
      "\n",
      "Increase the number of iterations (max_iter) or scale the data as shown in:\n",
      "    https://scikit-learn.org/stable/modules/preprocessing.html\n",
      "Please also refer to the documentation for alternative solver options:\n",
      "    https://scikit-learn.org/stable/modules/linear_model.html#logistic-regression\n",
      "  extra_warning_msg=_LOGISTIC_SOLVER_CONVERGENCE_MSG)\n",
      "//anaconda3/lib/python3.7/site-packages/sklearn/linear_model/_logistic.py:940: ConvergenceWarning: lbfgs failed to converge (status=1):\n",
      "STOP: TOTAL NO. of ITERATIONS REACHED LIMIT.\n",
      "\n",
      "Increase the number of iterations (max_iter) or scale the data as shown in:\n",
      "    https://scikit-learn.org/stable/modules/preprocessing.html\n",
      "Please also refer to the documentation for alternative solver options:\n",
      "    https://scikit-learn.org/stable/modules/linear_model.html#logistic-regression\n",
      "  extra_warning_msg=_LOGISTIC_SOLVER_CONVERGENCE_MSG)\n",
      "//anaconda3/lib/python3.7/site-packages/sklearn/linear_model/_logistic.py:940: ConvergenceWarning: lbfgs failed to converge (status=1):\n",
      "STOP: TOTAL NO. of ITERATIONS REACHED LIMIT.\n",
      "\n",
      "Increase the number of iterations (max_iter) or scale the data as shown in:\n",
      "    https://scikit-learn.org/stable/modules/preprocessing.html\n",
      "Please also refer to the documentation for alternative solver options:\n",
      "    https://scikit-learn.org/stable/modules/linear_model.html#logistic-regression\n",
      "  extra_warning_msg=_LOGISTIC_SOLVER_CONVERGENCE_MSG)\n",
      "//anaconda3/lib/python3.7/site-packages/sklearn/linear_model/_logistic.py:940: ConvergenceWarning: lbfgs failed to converge (status=1):\n",
      "STOP: TOTAL NO. of ITERATIONS REACHED LIMIT.\n",
      "\n",
      "Increase the number of iterations (max_iter) or scale the data as shown in:\n",
      "    https://scikit-learn.org/stable/modules/preprocessing.html\n",
      "Please also refer to the documentation for alternative solver options:\n",
      "    https://scikit-learn.org/stable/modules/linear_model.html#logistic-regression\n",
      "  extra_warning_msg=_LOGISTIC_SOLVER_CONVERGENCE_MSG)\n",
      "//anaconda3/lib/python3.7/site-packages/sklearn/linear_model/_logistic.py:940: ConvergenceWarning: lbfgs failed to converge (status=1):\n",
      "STOP: TOTAL NO. of ITERATIONS REACHED LIMIT.\n",
      "\n",
      "Increase the number of iterations (max_iter) or scale the data as shown in:\n",
      "    https://scikit-learn.org/stable/modules/preprocessing.html\n",
      "Please also refer to the documentation for alternative solver options:\n",
      "    https://scikit-learn.org/stable/modules/linear_model.html#logistic-regression\n",
      "  extra_warning_msg=_LOGISTIC_SOLVER_CONVERGENCE_MSG)\n",
      "//anaconda3/lib/python3.7/site-packages/sklearn/linear_model/_logistic.py:940: ConvergenceWarning: lbfgs failed to converge (status=1):\n",
      "STOP: TOTAL NO. of ITERATIONS REACHED LIMIT.\n",
      "\n",
      "Increase the number of iterations (max_iter) or scale the data as shown in:\n",
      "    https://scikit-learn.org/stable/modules/preprocessing.html\n",
      "Please also refer to the documentation for alternative solver options:\n",
      "    https://scikit-learn.org/stable/modules/linear_model.html#logistic-regression\n",
      "  extra_warning_msg=_LOGISTIC_SOLVER_CONVERGENCE_MSG)\n",
      "//anaconda3/lib/python3.7/site-packages/sklearn/linear_model/_logistic.py:940: ConvergenceWarning: lbfgs failed to converge (status=1):\n",
      "STOP: TOTAL NO. of ITERATIONS REACHED LIMIT.\n",
      "\n",
      "Increase the number of iterations (max_iter) or scale the data as shown in:\n",
      "    https://scikit-learn.org/stable/modules/preprocessing.html\n",
      "Please also refer to the documentation for alternative solver options:\n",
      "    https://scikit-learn.org/stable/modules/linear_model.html#logistic-regression\n",
      "  extra_warning_msg=_LOGISTIC_SOLVER_CONVERGENCE_MSG)\n",
      "//anaconda3/lib/python3.7/site-packages/sklearn/linear_model/_logistic.py:940: ConvergenceWarning: lbfgs failed to converge (status=1):\n",
      "STOP: TOTAL NO. of ITERATIONS REACHED LIMIT.\n",
      "\n",
      "Increase the number of iterations (max_iter) or scale the data as shown in:\n",
      "    https://scikit-learn.org/stable/modules/preprocessing.html\n",
      "Please also refer to the documentation for alternative solver options:\n",
      "    https://scikit-learn.org/stable/modules/linear_model.html#logistic-regression\n",
      "  extra_warning_msg=_LOGISTIC_SOLVER_CONVERGENCE_MSG)\n",
      "//anaconda3/lib/python3.7/site-packages/sklearn/linear_model/_logistic.py:940: ConvergenceWarning: lbfgs failed to converge (status=1):\n",
      "STOP: TOTAL NO. of ITERATIONS REACHED LIMIT.\n",
      "\n",
      "Increase the number of iterations (max_iter) or scale the data as shown in:\n",
      "    https://scikit-learn.org/stable/modules/preprocessing.html\n",
      "Please also refer to the documentation for alternative solver options:\n",
      "    https://scikit-learn.org/stable/modules/linear_model.html#logistic-regression\n",
      "  extra_warning_msg=_LOGISTIC_SOLVER_CONVERGENCE_MSG)\n",
      "//anaconda3/lib/python3.7/site-packages/sklearn/linear_model/_logistic.py:940: ConvergenceWarning: lbfgs failed to converge (status=1):\n",
      "STOP: TOTAL NO. of ITERATIONS REACHED LIMIT.\n",
      "\n",
      "Increase the number of iterations (max_iter) or scale the data as shown in:\n",
      "    https://scikit-learn.org/stable/modules/preprocessing.html\n",
      "Please also refer to the documentation for alternative solver options:\n",
      "    https://scikit-learn.org/stable/modules/linear_model.html#logistic-regression\n",
      "  extra_warning_msg=_LOGISTIC_SOLVER_CONVERGENCE_MSG)\n"
     ]
    },
    {
     "data": {
      "text/plain": [
       "GridSearchCV(cv=None, error_score=nan,\n",
       "             estimator=LogisticRegression(C=1.0, class_weight='balanced',\n",
       "                                          dual=False, fit_intercept=True,\n",
       "                                          intercept_scaling=1, l1_ratio=None,\n",
       "                                          max_iter=100, multi_class='auto',\n",
       "                                          n_jobs=None, penalty='l2',\n",
       "                                          random_state=1, solver='lbfgs',\n",
       "                                          tol=0.0001, verbose=0,\n",
       "                                          warm_start=False),\n",
       "             iid='deprecated', n_jobs=None,\n",
       "             param_grid={'C': [1e-07, 1e-06, 1e-05, 0.0001, 0.001, 0.01, 0.1, 1,\n",
       "                               10, 40, 50, 60, 100, 1000],\n",
       "                         'fit_intercept': [True, False]},\n",
       "             pre_dispatch='2*n_jobs', refit=True, return_train_score=False,\n",
       "             scoring=None, verbose=0)"
      ]
     },
     "execution_count": 18,
     "metadata": {},
     "output_type": "execute_result"
    }
   ],
   "source": [
    "# Instantiate and fit the grid\n",
    "lr_grid = GridSearchCV(lr_baseline, param_grid)\n",
    "lr_grid.fit(X_train, y_train)"
   ]
  },
  {
   "cell_type": "code",
   "execution_count": 19,
   "metadata": {
    "ExecuteTime": {
     "end_time": "2020-02-12T01:18:10.932501Z",
     "start_time": "2020-02-12T01:18:10.917914Z"
    }
   },
   "outputs": [
    {
     "name": "stdout",
     "output_type": "stream",
     "text": [
      "Best parameters found:\n",
      "\n",
      "{'C': 1e-07, 'fit_intercept': False}\n"
     ]
    }
   ],
   "source": [
    "# View best parameter\n",
    "print('Best parameters found:')\n",
    "print()\n",
    "print(lr_grid.best_params_)"
   ]
  },
  {
   "cell_type": "code",
   "execution_count": 16,
   "metadata": {
    "ExecuteTime": {
     "end_time": "2020-02-12T08:47:17.948027Z",
     "start_time": "2020-02-12T08:47:10.863430Z"
    }
   },
   "outputs": [
    {
     "name": "stderr",
     "output_type": "stream",
     "text": [
      "//anaconda3/lib/python3.7/site-packages/sklearn/linear_model/_logistic.py:940: ConvergenceWarning: lbfgs failed to converge (status=1):\n",
      "STOP: TOTAL NO. of ITERATIONS REACHED LIMIT.\n",
      "\n",
      "Increase the number of iterations (max_iter) or scale the data as shown in:\n",
      "    https://scikit-learn.org/stable/modules/preprocessing.html\n",
      "Please also refer to the documentation for alternative solver options:\n",
      "    https://scikit-learn.org/stable/modules/linear_model.html#logistic-regression\n",
      "  extra_warning_msg=_LOGISTIC_SOLVER_CONVERGENCE_MSG)\n",
      "//anaconda3/lib/python3.7/site-packages/sklearn/linear_model/_logistic.py:940: ConvergenceWarning: lbfgs failed to converge (status=1):\n",
      "STOP: TOTAL NO. of ITERATIONS REACHED LIMIT.\n",
      "\n",
      "Increase the number of iterations (max_iter) or scale the data as shown in:\n",
      "    https://scikit-learn.org/stable/modules/preprocessing.html\n",
      "Please also refer to the documentation for alternative solver options:\n",
      "    https://scikit-learn.org/stable/modules/linear_model.html#logistic-regression\n",
      "  extra_warning_msg=_LOGISTIC_SOLVER_CONVERGENCE_MSG)\n",
      "//anaconda3/lib/python3.7/site-packages/sklearn/linear_model/_logistic.py:940: ConvergenceWarning: lbfgs failed to converge (status=1):\n",
      "STOP: TOTAL NO. of ITERATIONS REACHED LIMIT.\n",
      "\n",
      "Increase the number of iterations (max_iter) or scale the data as shown in:\n",
      "    https://scikit-learn.org/stable/modules/preprocessing.html\n",
      "Please also refer to the documentation for alternative solver options:\n",
      "    https://scikit-learn.org/stable/modules/linear_model.html#logistic-regression\n",
      "  extra_warning_msg=_LOGISTIC_SOLVER_CONVERGENCE_MSG)\n",
      "//anaconda3/lib/python3.7/site-packages/sklearn/linear_model/_logistic.py:940: ConvergenceWarning: lbfgs failed to converge (status=1):\n",
      "STOP: TOTAL NO. of ITERATIONS REACHED LIMIT.\n",
      "\n",
      "Increase the number of iterations (max_iter) or scale the data as shown in:\n",
      "    https://scikit-learn.org/stable/modules/preprocessing.html\n",
      "Please also refer to the documentation for alternative solver options:\n",
      "    https://scikit-learn.org/stable/modules/linear_model.html#logistic-regression\n",
      "  extra_warning_msg=_LOGISTIC_SOLVER_CONVERGENCE_MSG)\n",
      "//anaconda3/lib/python3.7/site-packages/sklearn/linear_model/_logistic.py:940: ConvergenceWarning: lbfgs failed to converge (status=1):\n",
      "STOP: TOTAL NO. of ITERATIONS REACHED LIMIT.\n",
      "\n",
      "Increase the number of iterations (max_iter) or scale the data as shown in:\n",
      "    https://scikit-learn.org/stable/modules/preprocessing.html\n",
      "Please also refer to the documentation for alternative solver options:\n",
      "    https://scikit-learn.org/stable/modules/linear_model.html#logistic-regression\n",
      "  extra_warning_msg=_LOGISTIC_SOLVER_CONVERGENCE_MSG)\n",
      "//anaconda3/lib/python3.7/site-packages/sklearn/linear_model/_logistic.py:940: ConvergenceWarning: lbfgs failed to converge (status=1):\n",
      "STOP: TOTAL NO. of ITERATIONS REACHED LIMIT.\n",
      "\n",
      "Increase the number of iterations (max_iter) or scale the data as shown in:\n",
      "    https://scikit-learn.org/stable/modules/preprocessing.html\n",
      "Please also refer to the documentation for alternative solver options:\n",
      "    https://scikit-learn.org/stable/modules/linear_model.html#logistic-regression\n",
      "  extra_warning_msg=_LOGISTIC_SOLVER_CONVERGENCE_MSG)\n",
      "//anaconda3/lib/python3.7/site-packages/sklearn/linear_model/_logistic.py:940: ConvergenceWarning: lbfgs failed to converge (status=1):\n",
      "STOP: TOTAL NO. of ITERATIONS REACHED LIMIT.\n",
      "\n",
      "Increase the number of iterations (max_iter) or scale the data as shown in:\n",
      "    https://scikit-learn.org/stable/modules/preprocessing.html\n",
      "Please also refer to the documentation for alternative solver options:\n",
      "    https://scikit-learn.org/stable/modules/linear_model.html#logistic-regression\n",
      "  extra_warning_msg=_LOGISTIC_SOLVER_CONVERGENCE_MSG)\n",
      "//anaconda3/lib/python3.7/site-packages/sklearn/linear_model/_logistic.py:940: ConvergenceWarning: lbfgs failed to converge (status=1):\n",
      "STOP: TOTAL NO. of ITERATIONS REACHED LIMIT.\n",
      "\n",
      "Increase the number of iterations (max_iter) or scale the data as shown in:\n",
      "    https://scikit-learn.org/stable/modules/preprocessing.html\n",
      "Please also refer to the documentation for alternative solver options:\n",
      "    https://scikit-learn.org/stable/modules/linear_model.html#logistic-regression\n",
      "  extra_warning_msg=_LOGISTIC_SOLVER_CONVERGENCE_MSG)\n",
      "//anaconda3/lib/python3.7/site-packages/sklearn/linear_model/_logistic.py:940: ConvergenceWarning: lbfgs failed to converge (status=1):\n",
      "STOP: TOTAL NO. of ITERATIONS REACHED LIMIT.\n",
      "\n",
      "Increase the number of iterations (max_iter) or scale the data as shown in:\n",
      "    https://scikit-learn.org/stable/modules/preprocessing.html\n",
      "Please also refer to the documentation for alternative solver options:\n",
      "    https://scikit-learn.org/stable/modules/linear_model.html#logistic-regression\n",
      "  extra_warning_msg=_LOGISTIC_SOLVER_CONVERGENCE_MSG)\n",
      "//anaconda3/lib/python3.7/site-packages/sklearn/linear_model/_logistic.py:940: ConvergenceWarning: lbfgs failed to converge (status=1):\n",
      "STOP: TOTAL NO. of ITERATIONS REACHED LIMIT.\n",
      "\n",
      "Increase the number of iterations (max_iter) or scale the data as shown in:\n",
      "    https://scikit-learn.org/stable/modules/preprocessing.html\n",
      "Please also refer to the documentation for alternative solver options:\n",
      "    https://scikit-learn.org/stable/modules/linear_model.html#logistic-regression\n",
      "  extra_warning_msg=_LOGISTIC_SOLVER_CONVERGENCE_MSG)\n"
     ]
    },
    {
     "name": "stdout",
     "output_type": "stream",
     "text": [
      "Accuracy of log reg optimized (TRAIN): 0.583 +/- 0.004\n",
      "Accuracy of log reg optimized (TEST): 0.581\n",
      "\n",
      "Precision : 0.4717546077583339\n",
      "Recall    : 0.7021887689412697\n",
      "F-score   : 0.5643556475364165\n"
     ]
    },
    {
     "name": "stderr",
     "output_type": "stream",
     "text": [
      "//anaconda3/lib/python3.7/site-packages/sklearn/linear_model/_logistic.py:940: ConvergenceWarning: lbfgs failed to converge (status=1):\n",
      "STOP: TOTAL NO. of ITERATIONS REACHED LIMIT.\n",
      "\n",
      "Increase the number of iterations (max_iter) or scale the data as shown in:\n",
      "    https://scikit-learn.org/stable/modules/preprocessing.html\n",
      "Please also refer to the documentation for alternative solver options:\n",
      "    https://scikit-learn.org/stable/modules/linear_model.html#logistic-regression\n",
      "  extra_warning_msg=_LOGISTIC_SOLVER_CONVERGENCE_MSG)\n"
     ]
    }
   ],
   "source": [
    "# Instantiate model\n",
    "lr_opt = LogisticRegression(fit_intercept=False, class_weight='balanced', random_state=1)\n",
    "\n",
    "# Calculate accuracy of train\n",
    "lr_opt_acc = cross_val_score(lr_opt, X_train, y_train).mean()\n",
    "lr_opt_std = cross_val_score(lr_opt, X_train, y_train).std()\n",
    "print('Accuracy of log reg optimized (TRAIN): {} +/- {}'.format(round(lr_opt_acc, 3), round(lr_opt_std, 3)))\n",
    "\n",
    "# Fit model\n",
    "lr_opt.fit(X_train, y_train)\n",
    "\n",
    "# Get predictions and probabilities\n",
    "lr_opt_preds = lr_opt.predict(X_test)\n",
    "lr_opt_y_score = lr_opt.predict_proba(X_test)\n",
    "\n",
    "# Calculate accuracy of test\n",
    "lr_opt_acc_test = round(accuracy_score(y_test, lr_opt_preds), 3)\n",
    "print(f'Accuracy of log reg optimized (TEST): {lr_opt_acc_test}')\n",
    "\n",
    "print()\n",
    "\n",
    "# Get precision, recall, f1-score\n",
    "precision = precision_score(y_test, lr_opt_preds)\n",
    "recall = recall_score(y_test, lr_opt_preds)\n",
    "fscore = f1_score(lr_opt_preds, y_test)\n",
    "print(f'Precision : {precision}')\n",
    "print(f'Recall    : {recall}')\n",
    "print(f'F-score   : {fscore}')\n",
    "\n",
    "# Add model and accuracy dict to list\n",
    "list_of_perform.append(dict([\n",
    "    ('Model', 'Logistic Regression GSCV'),\n",
    "    ('Train_Accuracy', round(lr_opt_acc, 3)),\n",
    "    ('Test_Accuracy', lr_opt_acc_test),\n",
    "    ('Precision', round(precision, 3)),\n",
    "    ('Recall', round(recall, 3)),\n",
    "    ('F1', round(fscore, 3))\n",
    "     ]))\n",
    "\n",
    "# Add model to list\n",
    "models.append('Logistic Regression GSCV')\n",
    "\n",
    "# Add y_score to list\n",
    "y_scores.append(lr_opt_y_score)"
   ]
  },
  {
   "cell_type": "markdown",
   "metadata": {},
   "source": [
    "#### K-Nearest Neighbors (KNN)"
   ]
  },
  {
   "cell_type": "code",
   "execution_count": 17,
   "metadata": {
    "ExecuteTime": {
     "end_time": "2020-02-12T08:48:57.333561Z",
     "start_time": "2020-02-12T08:47:48.488808Z"
    }
   },
   "outputs": [
    {
     "name": "stdout",
     "output_type": "stream",
     "text": [
      "Accuracy of KNN (TRAIN): 0.563 +/- 0.004\n",
      "Accuracy of KNN (TEST): 0.563\n",
      "\n",
      "Precision : 0.42258481042375867\n",
      "Recall    : 0.3565415469941567\n",
      "F-score   : 0.3867640739149119\n"
     ]
    }
   ],
   "source": [
    "# Instantiate model\n",
    "neigh_base = KNeighborsClassifier()\n",
    "\n",
    "# Calculate accuracy of train\n",
    "neigh_base_acc = cross_val_score(neigh_base, X_train, y_train).mean()\n",
    "neigh_base_std = cross_val_score(neigh_base, X_train, y_train).std()\n",
    "print('Accuracy of KNN (TRAIN): {} +/- {}'.format(round(neigh_base_acc, 3), round(neigh_base_std, 3)))\n",
    "\n",
    "# Fit model\n",
    "neigh_base.fit(X_train, y_train)\n",
    "\n",
    "# Get predictions and probabilities\n",
    "neigh_base_preds = neigh_base.predict(X_test)\n",
    "neigh_base_y_score = neigh_base.predict_proba(X_test)\n",
    "\n",
    "# Calculate accuracy of test\n",
    "neigh_base_acc_test = round(accuracy_score(y_test, neigh_base_preds), 3)\n",
    "print(f'Accuracy of KNN (TEST): {neigh_base_acc_test}')\n",
    "\n",
    "print()\n",
    "\n",
    "# Get precision, recall, f1-score\n",
    "precision = precision_score(y_test, neigh_base_preds)\n",
    "recall = recall_score(y_test, neigh_base_preds)\n",
    "fscore = f1_score(neigh_base_preds, y_test)\n",
    "print(f'Precision : {precision}')\n",
    "print(f'Recall    : {recall}')\n",
    "print(f'F-score   : {fscore}')\n",
    "\n",
    "# Add model and accuracy dict to list\n",
    "list_of_perform.append(dict([\n",
    "    ('Model', 'KNN GSCV'),\n",
    "    ('Train_Accuracy', round(neigh_base_acc, 3)),\n",
    "    ('Test_Accuracy', neigh_base_acc_test),\n",
    "    ('Precision', round(precision, 3)),\n",
    "    ('Recall', round(recall, 3)),\n",
    "    ('F1', round(fscore, 3))\n",
    "     ]))\n",
    "\n",
    "# Add model to list\n",
    "models.append('KNN GSCV')\n",
    "\n",
    "# Add y_score to list\n",
    "y_scores.append(neigh_base_y_score)"
   ]
  },
  {
   "cell_type": "markdown",
   "metadata": {},
   "source": [
    "#### Naive Bayes Classifier"
   ]
  },
  {
   "cell_type": "code",
   "execution_count": 18,
   "metadata": {
    "ExecuteTime": {
     "end_time": "2020-02-12T08:48:58.305102Z",
     "start_time": "2020-02-12T08:48:57.340244Z"
    }
   },
   "outputs": [
    {
     "name": "stdout",
     "output_type": "stream",
     "text": [
      "Accuracy of Naive Bayes Classifier (TRAIN): 0.59 +/- 0.002\n",
      "Accuracy of Naive Bayes Classifier (TEST): 0.588\n",
      "\n",
      "Precision : 0.47603462069968727\n",
      "Recall    : 0.6482123402990987\n",
      "F-score   : 0.5489390254130672\n"
     ]
    }
   ],
   "source": [
    "# Instantiate the model\n",
    "nbc_base = GaussianNB()\n",
    "\n",
    "# Calculate accuracy of train\n",
    "nbc_base_acc = cross_val_score(nbc_base, X_train, y_train).mean()\n",
    "nbc_base_std = cross_val_score(nbc_base, X_train, y_train).std()\n",
    "print('Accuracy of Naive Bayes Classifier (TRAIN): {} +/- {}'.format(round(nbc_base_acc, 3), round(nbc_base_std, 3)))\n",
    "\n",
    "# Fit model\n",
    "nbc_base.fit(X_train, y_train)\n",
    "\n",
    "# Get predictions and probabilities\n",
    "nbc_base_preds = nbc_base.predict(X_test)\n",
    "nbc_base_y_score = nbc_base.predict_proba(X_test)\n",
    "\n",
    "# Calculate accuracy of test\n",
    "nbc_base_acc_test = round(accuracy_score(y_test, nbc_base_preds), 3)\n",
    "print(f'Accuracy of Naive Bayes Classifier (TEST): {nbc_base_acc_test}')\n",
    "\n",
    "print()\n",
    "\n",
    "# Get precision, recall, f1-score\n",
    "precision = precision_score(y_test, nbc_base_preds)\n",
    "recall = recall_score(y_test, nbc_base_preds)\n",
    "fscore = f1_score(nbc_base_preds, y_test)\n",
    "print(f'Precision : {precision}')\n",
    "print(f'Recall    : {recall}')\n",
    "print(f'F-score   : {fscore}')\n",
    "\n",
    "# Add model and accuracy dict to list\n",
    "list_of_perform.append(dict([\n",
    "    ('Model', 'Naive Bayes'),\n",
    "    ('Train_Accuracy', round(nbc_base_acc, 3)),\n",
    "    ('Test_Accuracy', nbc_base_acc_test),\n",
    "    ('Precision', round(precision, 3)),\n",
    "    ('Recall', round(recall, 3)),\n",
    "    ('F1', round(fscore, 3))\n",
    "     ]))\n",
    "\n",
    "# Add model to list\n",
    "models.append('Naive Bayes')\n",
    "\n",
    "# Add y_score to list\n",
    "y_scores.append(nbc_base_y_score)"
   ]
  },
  {
   "cell_type": "markdown",
   "metadata": {},
   "source": [
    "#### Decision Tree Classifier (Baseline)"
   ]
  },
  {
   "cell_type": "code",
   "execution_count": 23,
   "metadata": {
    "ExecuteTime": {
     "end_time": "2020-02-12T01:19:37.583759Z",
     "start_time": "2020-02-12T01:19:33.201622Z"
    }
   },
   "outputs": [
    {
     "name": "stdout",
     "output_type": "stream",
     "text": [
      "Accuracy of Decision Tree baseline (TRAIN): 0.555 +/- 0.004\n",
      "Accuracy of Decision Tree baseline (TEST): 0.551\n",
      "\n",
      "Precision : 0.42413503683670617\n",
      "Recall    : 0.4504308210359513\n",
      "F-score   : 0.43688760806916427\n"
     ]
    }
   ],
   "source": [
    "# Instantiate the model\n",
    "dt_base = DecisionTreeClassifier(class_weight='balanced', random_state=1)\n",
    "\n",
    "# Calculate accuracy of train\n",
    "dt_base_acc = cross_val_score(dt_base, X_train, y_train).mean()\n",
    "dt_base_std = cross_val_score(dt_base, X_train, y_train).std()\n",
    "print('Accuracy of Decision Tree baseline (TRAIN): {} +/- {}'.format(round(dt_base_acc, 3), round(dt_base_std, 3)))\n",
    "\n",
    "# Fit model\n",
    "dt_base.fit(X_train, y_train)\n",
    "\n",
    "# Get predictions and probabilities\n",
    "dt_base_preds = dt_base.predict(X_test)\n",
    "dt_base_y_score = dt_base.predict_proba(X_test)\n",
    "\n",
    "# Calculate accuracy of test\n",
    "dt_base_acc = round(accuracy_score(y_test, dt_base_preds), 3)\n",
    "print(f'Accuracy of Decision Tree baseline (TEST): {dt_base_acc}')\n",
    "\n",
    "print()\n",
    "\n",
    "# Get precision, recall, f1-score\n",
    "precision = precision_score(y_test, dt_base_preds)\n",
    "recall = recall_score(y_test, dt_base_preds)\n",
    "fscore = f1_score(dt_base_preds, y_test)\n",
    "print(f'Precision : {precision}')\n",
    "print(f'Recall    : {recall}')\n",
    "print(f'F-score   : {fscore}')\n",
    "\n",
    "# Add model and accuracy dict to list\n",
    "list_of_perform.append(dict([\n",
    "    ('Model', 'DecTree Base'),\n",
    "    ('Train Accuracy', round(dt_base_acc, 3)),\n",
    "    ('Test Accuracy', dt_base_acc),\n",
    "    ('Precision', round(precision, 3)),\n",
    "    ('Recall', round(recall, 3)),\n",
    "    ('F1', round(fscore, 3))\n",
    "     ]))\n",
    "\n",
    "# Add model to list\n",
    "models.append('DecTree Base')\n",
    "\n",
    "# Add y_score to list\n",
    "y_scores.append(dt_base_y_score)"
   ]
  },
  {
   "cell_type": "markdown",
   "metadata": {},
   "source": [
    "#### Decision Tree (Grid Search)"
   ]
  },
  {
   "cell_type": "code",
   "execution_count": 24,
   "metadata": {
    "ExecuteTime": {
     "end_time": "2020-02-12T01:19:37.598273Z",
     "start_time": "2020-02-12T01:19:37.589590Z"
    }
   },
   "outputs": [
    {
     "name": "stdout",
     "output_type": "stream",
     "text": [
      "['gini', 'entropy'] ['best', 'random'] [None, 1, 2, 3, 4, 5, 6, 7, 8, 9, 10] [10, 20, 50, 100, 500] [10, 20, 50, 100, 250, 500]\n"
     ]
    }
   ],
   "source": [
    "# Define parameters to be searched\n",
    "criterion_range = ['gini', 'entropy']\n",
    "splitter_range = ['best', 'random']\n",
    "max_depth_range = [None, 1, 2, 3, 4, 5, 6, 7, 8, 9, 10]\n",
    "min_samples_split_range = [10, 20, 50, 100, 500]\n",
    "min_samples_leaf_range = [10, 20, 50, 100, 250, 500]\n",
    "\n",
    "print(criterion_range,\n",
    "      splitter_range,\n",
    "      max_depth_range,\n",
    "      min_samples_split_range,\n",
    "      min_samples_leaf_range\n",
    ")"
   ]
  },
  {
   "cell_type": "code",
   "execution_count": 25,
   "metadata": {
    "ExecuteTime": {
     "end_time": "2020-02-12T01:19:37.613808Z",
     "start_time": "2020-02-12T01:19:37.605737Z"
    }
   },
   "outputs": [
    {
     "name": "stdout",
     "output_type": "stream",
     "text": [
      "{'criterion': ['gini', 'entropy'], 'splitter': ['best', 'random'], 'max_depth': [None, 1, 2, 3, 4, 5, 6, 7, 8, 9, 10], 'min_samples_split': [10, 20, 50, 100, 500], 'min_samples_leaf': [10, 20, 50, 100, 250, 500]}\n"
     ]
    }
   ],
   "source": [
    "# Create parameter grid: map the parameter names to the values to be searched\n",
    "param_grid_4 = dict(criterion=criterion_range,\n",
    "                    splitter=splitter_range,\n",
    "                    max_depth=max_depth_range,\n",
    "                    min_samples_split=min_samples_split_range,\n",
    "                    min_samples_leaf=min_samples_leaf_range\n",
    ")\n",
    "\n",
    "print(param_grid_4)"
   ]
  },
  {
   "cell_type": "code",
   "execution_count": 26,
   "metadata": {
    "ExecuteTime": {
     "end_time": "2020-02-12T01:39:11.036775Z",
     "start_time": "2020-02-12T01:19:37.617826Z"
    }
   },
   "outputs": [
    {
     "data": {
      "text/plain": [
       "GridSearchCV(cv=None, error_score=nan,\n",
       "             estimator=DecisionTreeClassifier(ccp_alpha=0.0,\n",
       "                                              class_weight='balanced',\n",
       "                                              criterion='gini', max_depth=None,\n",
       "                                              max_features=None,\n",
       "                                              max_leaf_nodes=None,\n",
       "                                              min_impurity_decrease=0.0,\n",
       "                                              min_impurity_split=None,\n",
       "                                              min_samples_leaf=1,\n",
       "                                              min_samples_split=2,\n",
       "                                              min_weight_fraction_leaf=0.0,\n",
       "                                              presort='deprecated',\n",
       "                                              random_state=1, splitter='best'),\n",
       "             iid='deprecated', n_jobs=None,\n",
       "             param_grid={'criterion': ['gini', 'entropy'],\n",
       "                         'max_depth': [None, 1, 2, 3, 4, 5, 6, 7, 8, 9, 10],\n",
       "                         'min_samples_leaf': [10, 20, 50, 100, 250, 500],\n",
       "                         'min_samples_split': [10, 20, 50, 100, 500],\n",
       "                         'splitter': ['best', 'random']},\n",
       "             pre_dispatch='2*n_jobs', refit=True, return_train_score=False,\n",
       "             scoring=None, verbose=0)"
      ]
     },
     "execution_count": 26,
     "metadata": {},
     "output_type": "execute_result"
    }
   ],
   "source": [
    "# Instantiate the grid\n",
    "dt_grid = GridSearchCV(dt_base, param_grid_4)\n",
    "\n",
    "# Fit the model\n",
    "dt_grid.fit(X_train, y_train)"
   ]
  },
  {
   "cell_type": "code",
   "execution_count": 27,
   "metadata": {
    "ExecuteTime": {
     "end_time": "2020-02-12T01:39:11.047794Z",
     "start_time": "2020-02-12T01:39:11.039620Z"
    }
   },
   "outputs": [
    {
     "name": "stdout",
     "output_type": "stream",
     "text": [
      "Best parameters found:\n",
      "\n",
      "{'criterion': 'gini', 'max_depth': None, 'min_samples_leaf': 250, 'min_samples_split': 10, 'splitter': 'best'}\n"
     ]
    }
   ],
   "source": [
    "# View best parameters\n",
    "print('Best parameters found:')\n",
    "print()\n",
    "print(dt_grid.best_params_)"
   ]
  },
  {
   "cell_type": "code",
   "execution_count": 19,
   "metadata": {
    "ExecuteTime": {
     "end_time": "2020-02-12T08:49:01.639798Z",
     "start_time": "2020-02-12T08:48:58.495186Z"
    }
   },
   "outputs": [
    {
     "name": "stdout",
     "output_type": "stream",
     "text": [
      "Accuracy of Decision Tree optimized (TEST): 0.585 +/- 0.003\n",
      "Accuracy of Decision Tree optimized (TEST): 0.584\n",
      "\n",
      "Precision : 0.47289561099724364\n",
      "Recall    : 0.662672080816084\n",
      "F-score   : 0.5519260909015922\n"
     ]
    }
   ],
   "source": [
    "# Instantiate the model\n",
    "dt_opt = DecisionTreeClassifier(class_weight='balanced', criterion='gini', splitter='best', max_depth=None,\n",
    "                                min_samples_split=10, min_samples_leaf=250, random_state=1)\n",
    "\n",
    "# Calculate accuracy\n",
    "dt_opt_acc = cross_val_score(dt_opt, X_train, y_train).mean()\n",
    "dt_opt_std = cross_val_score(dt_opt, X_train, y_train).std()\n",
    "print('Accuracy of Decision Tree optimized (TEST): {} +/- {}'.format(round(dt_opt_acc, 3), round(dt_opt_std, 3)))\n",
    "\n",
    "# Fit model\n",
    "dt_opt.fit(X_train, y_train)\n",
    "\n",
    "# Get predictions and probabilities\n",
    "dt_opt_preds = dt_opt.predict(X_test)\n",
    "dt_opt_y_score = dt_opt.predict_proba(X_test)\n",
    "\n",
    "# Calculate accuracy of test\n",
    "dt_opt_acc_test = round(accuracy_score(y_test, dt_opt_preds), 3)\n",
    "print(f'Accuracy of Decision Tree optimized (TEST): {dt_opt_acc_test}')\n",
    "\n",
    "print()\n",
    "\n",
    "# Get precision, recall, f1-score\n",
    "precision = precision_score(y_test, dt_opt_preds)\n",
    "recall = recall_score(y_test, dt_opt_preds)\n",
    "fscore = f1_score(dt_opt_preds, y_test)\n",
    "print(f'Precision : {precision}')\n",
    "print(f'Recall    : {recall}')\n",
    "print(f'F-score   : {fscore}')\n",
    "\n",
    "# Add model and accuracy dict to list\n",
    "list_of_perform.append(dict([\n",
    "    ('Model', 'Decision Tree GSCV'),\n",
    "    ('Train_Accuracy', round(dt_opt_acc, 3)),\n",
    "    ('Test_Accuracy', dt_opt_acc_test),\n",
    "    ('Precision', round(precision, 3)),\n",
    "    ('Recall', round(recall, 3)),\n",
    "    ('F1', round(fscore, 3))\n",
    "     ]))\n",
    "\n",
    "# Add model to list\n",
    "models.append('Decision Tree GSCV')\n",
    "\n",
    "# Add y_score to list\n",
    "y_scores.append(dt_opt_y_score)"
   ]
  },
  {
   "cell_type": "markdown",
   "metadata": {},
   "source": [
    "#### Random Forest Classifier (Baseline)"
   ]
  },
  {
   "cell_type": "code",
   "execution_count": 21,
   "metadata": {
    "ExecuteTime": {
     "end_time": "2020-02-12T08:16:45.400000Z",
     "start_time": "2020-02-12T08:15:19.491491Z"
    }
   },
   "outputs": [
    {
     "name": "stdout",
     "output_type": "stream",
     "text": [
      "Accuracy of Random Forest baseline (TRAIN): 0.591 +/- 0.004\n",
      "Accuracy of Random Forest baseline (TEST): 0.591\n",
      "\n",
      "Precision : 0.4647751863428709\n",
      "Recall    : 0.3828860057442805\n",
      "F-score   : 0.41987510181916915\n"
     ]
    }
   ],
   "source": [
    "# Instantiate the model\n",
    "rf_base = RandomForestClassifier(class_weight='balanced', random_state=1)\n",
    "\n",
    "# Calculate accuracy of train\n",
    "rf_base_acc = cross_val_score(rf_base, X_train, y_train).mean()\n",
    "rf_base_std = cross_val_score(rf_base, X_train, y_train).std()\n",
    "print('Accuracy of Random Forest baseline (TRAIN): {} +/- {}'.format(round(rf_base_acc, 3), round(rf_base_std, 3)))\n",
    "\n",
    "# Fit model\n",
    "rf_base.fit(X_train, y_train)\n",
    "\n",
    "# Get predictions and probabilities\n",
    "rf_base_preds = rf_base.predict(X_test)\n",
    "rf_base_y_score = rf_base.predict_proba(X_test)\n",
    "\n",
    "# Calculate accuracy of test\n",
    "rf_base_acc_test = round(accuracy_score(y_test, rf_base_preds), 3)\n",
    "print(f'Accuracy of Random Forest baseline (TEST): {rf_base_acc_test}')\n",
    "\n",
    "print()\n",
    "\n",
    "# Get precision, recall, f1-score\n",
    "precision = precision_score(y_test, rf_base_preds)\n",
    "recall = recall_score(y_test, rf_base_preds)\n",
    "fscore = f1_score(rf_base_preds, y_test)\n",
    "print(f'Precision : {precision}')\n",
    "print(f'Recall    : {recall}')\n",
    "print(f'F-score   : {fscore}')\n",
    "\n",
    "# Add model and accuracy dict to list\n",
    "list_of_perform.append(dict([\n",
    "    ('Model', 'RandFor Base'),\n",
    "    ('Train Accuracy', round(rf_base_acc, 3)),\n",
    "    ('Test Accuracy', rf_base_acc_test),\n",
    "    ('Precision', round(precision, 3)),\n",
    "    ('Recall', round(recall, 3)),\n",
    "    ('F1', round(fscore, 3))\n",
    "     ]))\n",
    "\n",
    "# Add model to list\n",
    "models.append('RandFor Base')\n",
    "\n",
    "# Add y_score to list\n",
    "y_scores.append(rf_base_y_score)"
   ]
  },
  {
   "cell_type": "markdown",
   "metadata": {},
   "source": [
    "#### Random Forest (Random Search)"
   ]
  },
  {
   "cell_type": "code",
   "execution_count": 22,
   "metadata": {
    "ExecuteTime": {
     "end_time": "2020-02-12T08:17:31.614008Z",
     "start_time": "2020-02-12T08:17:31.602979Z"
    }
   },
   "outputs": [
    {
     "name": "stdout",
     "output_type": "stream",
     "text": [
      "{'n_estimators': [1, 2, 3, 4, 5, 6, 7, 8, 9, 10, 11, 12, 13, 14, 15, 16, 17, 18, 19, 20, 21, 22, 23, 24, 25, 26, 27, 28, 29, 30], 'criterion': ['gini', 'entropy'], 'max_features': [None, 'auto', 'log2', 1, 2, 3, 4, 5, 6, 7, 8], 'max_depth': [None, 1, 2, 3, 4, 5, 6, 7, 8, 9, 10], 'min_samples_split': [10, 20, 50, 100, 500], 'min_samples_leaf': [10, 20, 50, 100, 250, 500], 'bootstrap': [True, False]}\n"
     ]
    }
   ],
   "source": [
    "# Define parameters to be searched\n",
    "n_estimators_range = [x for x in range(1,31)]\n",
    "criterion_range = ['gini', 'entropy']\n",
    "max_features_range = [None, 'auto', 'log2', 1, 2, 3, 4, 5, 6, 7, 8]\n",
    "max_depth_range = [None, 1, 2, 3, 4, 5, 6, 7, 8, 9, 10]\n",
    "min_samples_split_range = [10, 20, 50, 100, 500]\n",
    "min_samples_leaf_range = [10, 20, 50, 100, 250, 500]\n",
    "bootstrap_range = [True, False]\n",
    "\n",
    "# Create parameter grid: map the parameter names to the values to be searched\n",
    "param_rand_rf = dict(n_estimators=n_estimators_range,\n",
    "                     criterion=criterion_range,\n",
    "                     max_features=max_features_range,\n",
    "                     max_depth=max_depth_range,\n",
    "                     min_samples_split=min_samples_split_range,\n",
    "                     min_samples_leaf=min_samples_leaf_range,\n",
    "                     bootstrap=bootstrap_range\n",
    ")\n",
    "\n",
    "print(param_rand_rf)"
   ]
  },
  {
   "cell_type": "code",
   "execution_count": 23,
   "metadata": {
    "ExecuteTime": {
     "end_time": "2020-02-12T08:19:38.547317Z",
     "start_time": "2020-02-12T08:17:36.670502Z"
    }
   },
   "outputs": [
    {
     "data": {
      "text/plain": [
       "RandomizedSearchCV(cv=None, error_score=nan,\n",
       "                   estimator=RandomForestClassifier(bootstrap=True,\n",
       "                                                    ccp_alpha=0.0,\n",
       "                                                    class_weight='balanced',\n",
       "                                                    criterion='gini',\n",
       "                                                    max_depth=None,\n",
       "                                                    max_features='auto',\n",
       "                                                    max_leaf_nodes=None,\n",
       "                                                    max_samples=None,\n",
       "                                                    min_impurity_decrease=0.0,\n",
       "                                                    min_impurity_split=None,\n",
       "                                                    min_samples_leaf=1,\n",
       "                                                    min_samples_split=2,\n",
       "                                                    min_weight_fraction_leaf=0.0,\n",
       "                                                    n_estimators=1...\n",
       "                                        'max_depth': [None, 1, 2, 3, 4, 5, 6, 7,\n",
       "                                                      8, 9, 10],\n",
       "                                        'max_features': [None, 'auto', 'log2',\n",
       "                                                         1, 2, 3, 4, 5, 6, 7,\n",
       "                                                         8],\n",
       "                                        'min_samples_leaf': [10, 20, 50, 100,\n",
       "                                                             250, 500],\n",
       "                                        'min_samples_split': [10, 20, 50, 100,\n",
       "                                                              500],\n",
       "                                        'n_estimators': [1, 2, 3, 4, 5, 6, 7, 8,\n",
       "                                                         9, 10, 11, 12, 13, 14,\n",
       "                                                         15, 16, 17, 18, 19, 20,\n",
       "                                                         21, 22, 23, 24, 25, 26,\n",
       "                                                         27, 28, 29, 30]},\n",
       "                   pre_dispatch='2*n_jobs', random_state=None, refit=True,\n",
       "                   return_train_score=False, scoring=None, verbose=0)"
      ]
     },
     "execution_count": 23,
     "metadata": {},
     "output_type": "execute_result"
    }
   ],
   "source": [
    "# Choose number of searches\n",
    "n_iter_search = 40\n",
    "\n",
    "# Instantiate the model\n",
    "rf_random_search = RandomizedSearchCV(rf_base, param_distributions=param_rand_rf, n_iter=n_iter_search)\n",
    "\n",
    "# Fit the model\n",
    "rf_random_search.fit(X_train, y_train)"
   ]
  },
  {
   "cell_type": "code",
   "execution_count": 25,
   "metadata": {
    "ExecuteTime": {
     "end_time": "2020-02-12T08:20:03.562869Z",
     "start_time": "2020-02-12T08:20:03.551376Z"
    }
   },
   "outputs": [
    {
     "name": "stdout",
     "output_type": "stream",
     "text": [
      "Best parameters found:\n",
      "\n",
      "{'n_estimators': 20, 'min_samples_split': 50, 'min_samples_leaf': 250, 'max_features': 2, 'max_depth': 2, 'criterion': 'gini', 'bootstrap': False}\n"
     ]
    }
   ],
   "source": [
    "# View best parameters\n",
    "print('Best parameters found:')\n",
    "print()\n",
    "print(rf_random_search.best_params_)"
   ]
  },
  {
   "cell_type": "code",
   "execution_count": 20,
   "metadata": {
    "ExecuteTime": {
     "end_time": "2020-02-12T08:49:48.185002Z",
     "start_time": "2020-02-12T08:49:45.132209Z"
    }
   },
   "outputs": [
    {
     "name": "stdout",
     "output_type": "stream",
     "text": [
      "Accuracy of Random Forest optimized (TRAIN): 0.594 +/- 0.004\n",
      "Accuracy of Random Forest optimized (TEST): 0.599\n",
      "\n",
      "Precision : 0.4845936109987869\n",
      "Recall    : 0.593443597108052\n",
      "F-score   : 0.5335232837681418\n"
     ]
    }
   ],
   "source": [
    "# Instantiate the model\n",
    "rf_opt = RandomForestClassifier(class_weight='balanced',\n",
    "                                n_estimators=20,\n",
    "                                criterion='gini',\n",
    "                                max_features=2,\n",
    "                                max_depth=2,\n",
    "                                min_samples_split=50,\n",
    "                                min_samples_leaf=250,\n",
    "                                bootstrap=False,\n",
    "                                random_state=1)\n",
    "\n",
    "# Calculate the accuracy of train\n",
    "rf_opt_acc = cross_val_score(rf_opt, X_train, y_train).mean()\n",
    "rf_opt_std = cross_val_score(rf_opt, X_train, y_train).std()\n",
    "print('Accuracy of Random Forest optimized (TRAIN): {} +/- {}'.format(round(rf_opt_acc, 3), round(rf_opt_std, 3)))\n",
    "\n",
    "# Fit model\n",
    "rf_opt.fit(X_train, y_train)\n",
    "\n",
    "# Get predictions and probabilities\n",
    "rf_opt_preds = rf_opt.predict(X_test)\n",
    "rf_opt_y_score = rf_opt.predict_proba(X_test)\n",
    "\n",
    "# Calculate accuracy of test\n",
    "rf_opt_acc_test = round(accuracy_score(y_test, rf_opt_preds), 3)\n",
    "print(f'Accuracy of Random Forest optimized (TEST): {rf_opt_acc_test}')\n",
    "\n",
    "print()\n",
    "\n",
    "# Get precision, recall, f1-score\n",
    "precision = precision_score(y_test, rf_opt_preds)\n",
    "recall = recall_score(y_test, rf_opt_preds)\n",
    "fscore = f1_score(rf_opt_preds, y_test)\n",
    "print(f'Precision : {precision}')\n",
    "print(f'Recall    : {recall}')\n",
    "print(f'F-score   : {fscore}')\n",
    "\n",
    "# Add model and accuracy dict to list\n",
    "list_of_perform.append(dict([\n",
    "    ('Model', 'Random Forest RS'),\n",
    "    ('Train_Accuracy', round(rf_opt_acc, 3)),\n",
    "    ('Test_Accuracy', rf_opt_acc_test),\n",
    "    ('Precision', round(precision, 3)),\n",
    "    ('Recall', round(recall, 3)),\n",
    "    ('F1', round(fscore, 3))\n",
    "     ]))\n",
    "\n",
    "# Add model to list\n",
    "models.append('Random Forest RS')\n",
    "\n",
    "# Add y_score to list\n",
    "y_scores.append(rf_opt_y_score)"
   ]
  },
  {
   "cell_type": "markdown",
   "metadata": {},
   "source": [
    "### Compare Model Performances"
   ]
  },
  {
   "cell_type": "code",
   "execution_count": 107,
   "metadata": {
    "ExecuteTime": {
     "end_time": "2020-02-12T09:51:43.842225Z",
     "start_time": "2020-02-12T09:51:43.817787Z"
    }
   },
   "outputs": [
    {
     "data": {
      "text/html": [
       "<div>\n",
       "<style scoped>\n",
       "    .dataframe tbody tr th:only-of-type {\n",
       "        vertical-align: middle;\n",
       "    }\n",
       "\n",
       "    .dataframe tbody tr th {\n",
       "        vertical-align: top;\n",
       "    }\n",
       "\n",
       "    .dataframe thead th {\n",
       "        text-align: right;\n",
       "    }\n",
       "</style>\n",
       "<table border=\"1\" class=\"dataframe\">\n",
       "  <thead>\n",
       "    <tr style=\"text-align: right;\">\n",
       "      <th></th>\n",
       "      <th>Model</th>\n",
       "      <th>Train_Accuracy</th>\n",
       "      <th>Test_Accuracy</th>\n",
       "      <th>Precision</th>\n",
       "    </tr>\n",
       "  </thead>\n",
       "  <tbody>\n",
       "    <tr>\n",
       "      <th>0</th>\n",
       "      <td>Logistic Regression GSCV</td>\n",
       "      <td>0.583</td>\n",
       "      <td>0.581</td>\n",
       "      <td>0.472</td>\n",
       "    </tr>\n",
       "    <tr>\n",
       "      <th>1</th>\n",
       "      <td>KNN GSCV</td>\n",
       "      <td>0.563</td>\n",
       "      <td>0.563</td>\n",
       "      <td>0.423</td>\n",
       "    </tr>\n",
       "    <tr>\n",
       "      <th>2</th>\n",
       "      <td>Naive Bayes</td>\n",
       "      <td>0.590</td>\n",
       "      <td>0.588</td>\n",
       "      <td>0.476</td>\n",
       "    </tr>\n",
       "    <tr>\n",
       "      <th>3</th>\n",
       "      <td>Decision Tree GSCV</td>\n",
       "      <td>0.585</td>\n",
       "      <td>0.584</td>\n",
       "      <td>0.473</td>\n",
       "    </tr>\n",
       "    <tr>\n",
       "      <th>4</th>\n",
       "      <td>Random Forest RS</td>\n",
       "      <td>0.594</td>\n",
       "      <td>0.599</td>\n",
       "      <td>0.485</td>\n",
       "    </tr>\n",
       "  </tbody>\n",
       "</table>\n",
       "</div>"
      ],
      "text/plain": [
       "                      Model  Train_Accuracy  Test_Accuracy  Precision\n",
       "0  Logistic Regression GSCV           0.583          0.581      0.472\n",
       "1                  KNN GSCV           0.563          0.563      0.423\n",
       "2               Naive Bayes           0.590          0.588      0.476\n",
       "3        Decision Tree GSCV           0.585          0.584      0.473\n",
       "4          Random Forest RS           0.594          0.599      0.485"
      ]
     },
     "execution_count": 107,
     "metadata": {},
     "output_type": "execute_result"
    }
   ],
   "source": [
    "# Create dataframe of accuracy and precision scores for each model\n",
    "model_perf = pd.DataFrame(data=list_of_perform)\n",
    "model_perf = model_perf[['Model', 'Train_Accuracy', 'Test_Accuracy', 'Precision']]\n",
    "model_perf.drop_duplicates(inplace=True)\n",
    "model_perf.drop\n",
    "model_perf"
   ]
  },
  {
   "cell_type": "code",
   "execution_count": 108,
   "metadata": {
    "ExecuteTime": {
     "end_time": "2020-02-12T09:51:44.552365Z",
     "start_time": "2020-02-12T09:51:44.547992Z"
    }
   },
   "outputs": [],
   "source": [
    "# Create a copy of the dataframe\n",
    "model_perf2 = model_perf"
   ]
  },
  {
   "cell_type": "code",
   "execution_count": 111,
   "metadata": {
    "ExecuteTime": {
     "end_time": "2020-02-12T09:52:27.579095Z",
     "start_time": "2020-02-12T09:52:27.561940Z"
    }
   },
   "outputs": [
    {
     "data": {
      "text/html": [
       "<div>\n",
       "<style scoped>\n",
       "    .dataframe tbody tr th:only-of-type {\n",
       "        vertical-align: middle;\n",
       "    }\n",
       "\n",
       "    .dataframe tbody tr th {\n",
       "        vertical-align: top;\n",
       "    }\n",
       "\n",
       "    .dataframe thead th {\n",
       "        text-align: right;\n",
       "    }\n",
       "</style>\n",
       "<table border=\"1\" class=\"dataframe\">\n",
       "  <thead>\n",
       "    <tr style=\"text-align: right;\">\n",
       "      <th></th>\n",
       "      <th>Model</th>\n",
       "      <th>Train_Accuracy</th>\n",
       "      <th>Test_Accuracy</th>\n",
       "      <th>Precision</th>\n",
       "    </tr>\n",
       "  </thead>\n",
       "  <tbody>\n",
       "    <tr>\n",
       "      <th>1</th>\n",
       "      <td>KNN GSCV</td>\n",
       "      <td>0.563</td>\n",
       "      <td>0.563</td>\n",
       "      <td>0.423</td>\n",
       "    </tr>\n",
       "    <tr>\n",
       "      <th>0</th>\n",
       "      <td>Logistic Regression GSCV</td>\n",
       "      <td>0.583</td>\n",
       "      <td>0.581</td>\n",
       "      <td>0.472</td>\n",
       "    </tr>\n",
       "    <tr>\n",
       "      <th>3</th>\n",
       "      <td>Decision Tree GSCV</td>\n",
       "      <td>0.585</td>\n",
       "      <td>0.584</td>\n",
       "      <td>0.473</td>\n",
       "    </tr>\n",
       "    <tr>\n",
       "      <th>2</th>\n",
       "      <td>Naive Bayes</td>\n",
       "      <td>0.590</td>\n",
       "      <td>0.588</td>\n",
       "      <td>0.476</td>\n",
       "    </tr>\n",
       "    <tr>\n",
       "      <th>4</th>\n",
       "      <td>Random Forest RS</td>\n",
       "      <td>0.594</td>\n",
       "      <td>0.599</td>\n",
       "      <td>0.485</td>\n",
       "    </tr>\n",
       "  </tbody>\n",
       "</table>\n",
       "</div>"
      ],
      "text/plain": [
       "                      Model  Train_Accuracy  Test_Accuracy  Precision\n",
       "1                  KNN GSCV           0.563          0.563      0.423\n",
       "0  Logistic Regression GSCV           0.583          0.581      0.472\n",
       "3        Decision Tree GSCV           0.585          0.584      0.473\n",
       "2               Naive Bayes           0.590          0.588      0.476\n",
       "4          Random Forest RS           0.594          0.599      0.485"
      ]
     },
     "execution_count": 111,
     "metadata": {},
     "output_type": "execute_result"
    }
   ],
   "source": [
    "# Sort dataframe by precision scores\n",
    "# Random Forest RS yields the best accuracy and precision scores\n",
    "model_perf2.sort_values('Precision', inplace=True)\n",
    "model_perf2"
   ]
  },
  {
   "cell_type": "markdown",
   "metadata": {},
   "source": [
    "### Holdout Test"
   ]
  },
  {
   "cell_type": "code",
   "execution_count": 115,
   "metadata": {
    "ExecuteTime": {
     "end_time": "2020-02-12T10:32:51.698020Z",
     "start_time": "2020-02-12T10:32:51.515581Z"
    }
   },
   "outputs": [
    {
     "name": "stdout",
     "output_type": "stream",
     "text": [
      "Accuracy of Random Forest Opt (holdout): 0.598\n",
      "Precision of Random Forest Opt (holdout): 0.475\n"
     ]
    }
   ],
   "source": [
    "holdout_acc = []\n",
    "\n",
    "# Get predictions and probabilities\n",
    "rf_holdout_preds = rf_opt.predict(X_holdout)\n",
    "rf_holdout_y_score = rf_opt.predict_proba(X_holdout)\n",
    "\n",
    "# Use X_holdout, y_holdout to calculate accuracy\n",
    "rf_holdout_acc = round(accuracy_score(y_holdout, rf_holdout_preds), 3)\n",
    "print(f'Accuracy of Random Forest Opt (holdout): {rf_holdout_acc}')\n",
    "\n",
    "rf_holdout_prec = round(precision_score(y_holdout, rf_holdout_preds), 3)\n",
    "print(f'Precision of Random Forest Opt (holdout): {rf_holdout_prec}')\n",
    "\n",
    "# Add model and accuracy dict to list\n",
    "holdout_acc.append(dict([\n",
    "    ('Model', 'Random Forest RS'),\n",
    "    ('Holdout Accuracy', rf_holdout_acc),\n",
    "    ('Holdout Precision', rf_holdout_prec)\n",
    "]))"
   ]
  },
  {
   "cell_type": "code",
   "execution_count": 116,
   "metadata": {
    "ExecuteTime": {
     "end_time": "2020-02-12T10:33:47.445202Z",
     "start_time": "2020-02-12T10:33:47.432864Z"
    }
   },
   "outputs": [],
   "source": [
    "# Reorder columns and rows\n",
    "holdout_results = pd.DataFrame(data=holdout_acc, columns=['Model', 'Holdout Accuracy', 'Holdout Precision'])"
   ]
  },
  {
   "cell_type": "code",
   "execution_count": 117,
   "metadata": {
    "ExecuteTime": {
     "end_time": "2020-02-12T10:33:53.252141Z",
     "start_time": "2020-02-12T10:33:53.230142Z"
    }
   },
   "outputs": [
    {
     "data": {
      "text/html": [
       "<div>\n",
       "<style scoped>\n",
       "    .dataframe tbody tr th:only-of-type {\n",
       "        vertical-align: middle;\n",
       "    }\n",
       "\n",
       "    .dataframe tbody tr th {\n",
       "        vertical-align: top;\n",
       "    }\n",
       "\n",
       "    .dataframe thead th {\n",
       "        text-align: right;\n",
       "    }\n",
       "</style>\n",
       "<table border=\"1\" class=\"dataframe\">\n",
       "  <thead>\n",
       "    <tr style=\"text-align: right;\">\n",
       "      <th></th>\n",
       "      <th>Model</th>\n",
       "      <th>Holdout Accuracy</th>\n",
       "      <th>Holdout Precision</th>\n",
       "    </tr>\n",
       "  </thead>\n",
       "  <tbody>\n",
       "    <tr>\n",
       "      <th>0</th>\n",
       "      <td>Random Forest RS</td>\n",
       "      <td>0.598</td>\n",
       "      <td>0.475</td>\n",
       "    </tr>\n",
       "  </tbody>\n",
       "</table>\n",
       "</div>"
      ],
      "text/plain": [
       "              Model  Holdout Accuracy  Holdout Precision\n",
       "0  Random Forest RS             0.598              0.475"
      ]
     },
     "execution_count": 117,
     "metadata": {},
     "output_type": "execute_result"
    }
   ],
   "source": [
    "# Show holdout results for optimized random forest model\n",
    "holdout_results"
   ]
  },
  {
   "cell_type": "markdown",
   "metadata": {},
   "source": [
    "### Feature Importance Scores"
   ]
  },
  {
   "cell_type": "code",
   "execution_count": 143,
   "metadata": {
    "ExecuteTime": {
     "end_time": "2020-02-12T10:51:44.422266Z",
     "start_time": "2020-02-12T10:51:44.411081Z"
    }
   },
   "outputs": [],
   "source": [
    "# View feature importances\n",
    "feature_importance = pd.DataFrame({\n",
    "    'Feature': X_holdout.columns,\n",
    "    'Importance': rf_opt.feature_importances_\n",
    "})"
   ]
  },
  {
   "cell_type": "code",
   "execution_count": 147,
   "metadata": {
    "ExecuteTime": {
     "end_time": "2020-02-12T10:52:19.238919Z",
     "start_time": "2020-02-12T10:52:19.216853Z"
    }
   },
   "outputs": [
    {
     "data": {
      "text/html": [
       "<div>\n",
       "<style scoped>\n",
       "    .dataframe tbody tr th:only-of-type {\n",
       "        vertical-align: middle;\n",
       "    }\n",
       "\n",
       "    .dataframe tbody tr th {\n",
       "        vertical-align: top;\n",
       "    }\n",
       "\n",
       "    .dataframe thead th {\n",
       "        text-align: right;\n",
       "    }\n",
       "</style>\n",
       "<table border=\"1\" class=\"dataframe\">\n",
       "  <thead>\n",
       "    <tr style=\"text-align: right;\">\n",
       "      <th></th>\n",
       "      <th>Feature</th>\n",
       "      <th>Importance</th>\n",
       "    </tr>\n",
       "  </thead>\n",
       "  <tbody>\n",
       "    <tr>\n",
       "      <th>5</th>\n",
       "      <td>s_b_count_1.0 Strike(s) 2.0 Ball(s)</td>\n",
       "      <td>0.154275</td>\n",
       "    </tr>\n",
       "    <tr>\n",
       "      <th>9</th>\n",
       "      <td>runners_on_base_0.0 1st Base 0.0 2nd Base 0.0 ...</td>\n",
       "      <td>0.124878</td>\n",
       "    </tr>\n",
       "    <tr>\n",
       "      <th>1</th>\n",
       "      <td>s_b_count_0.0 Strike(s) 2.0 Ball(s)</td>\n",
       "      <td>0.123122</td>\n",
       "    </tr>\n",
       "    <tr>\n",
       "      <th>8</th>\n",
       "      <td>pitch_count</td>\n",
       "      <td>0.085216</td>\n",
       "    </tr>\n",
       "    <tr>\n",
       "      <th>2</th>\n",
       "      <td>s_b_count_0.0 Strike(s) 3.0 Ball(s)</td>\n",
       "      <td>0.079070</td>\n",
       "    </tr>\n",
       "    <tr>\n",
       "      <th>3</th>\n",
       "      <td>s_b_count_1.0 Strike(s) 0.0 Ball(s)</td>\n",
       "      <td>0.064507</td>\n",
       "    </tr>\n",
       "    <tr>\n",
       "      <th>21</th>\n",
       "      <td>pitch_type_FS</td>\n",
       "      <td>0.058226</td>\n",
       "    </tr>\n",
       "    <tr>\n",
       "      <th>11</th>\n",
       "      <td>runners_on_base_0.0 1st Base 1.0 2nd Base 0.0 ...</td>\n",
       "      <td>0.050122</td>\n",
       "    </tr>\n",
       "    <tr>\n",
       "      <th>12</th>\n",
       "      <td>runners_on_base_0.0 1st Base 1.0 2nd Base 1.0 ...</td>\n",
       "      <td>0.045847</td>\n",
       "    </tr>\n",
       "    <tr>\n",
       "      <th>20</th>\n",
       "      <td>pitch_type_FF</td>\n",
       "      <td>0.039941</td>\n",
       "    </tr>\n",
       "    <tr>\n",
       "      <th>29</th>\n",
       "      <td>pitcher_hitter_position_R -Pitcher L -Hitter</td>\n",
       "      <td>0.025286</td>\n",
       "    </tr>\n",
       "    <tr>\n",
       "      <th>31</th>\n",
       "      <td>inning</td>\n",
       "      <td>0.022325</td>\n",
       "    </tr>\n",
       "    <tr>\n",
       "      <th>10</th>\n",
       "      <td>runners_on_base_0.0 1st Base 0.0 2nd Base 1.0 ...</td>\n",
       "      <td>0.020166</td>\n",
       "    </tr>\n",
       "    <tr>\n",
       "      <th>4</th>\n",
       "      <td>s_b_count_1.0 Strike(s) 1.0 Ball(s)</td>\n",
       "      <td>0.018681</td>\n",
       "    </tr>\n",
       "    <tr>\n",
       "      <th>30</th>\n",
       "      <td>pitcher_hitter_position_R -Pitcher R -Hitter</td>\n",
       "      <td>0.018174</td>\n",
       "    </tr>\n",
       "    <tr>\n",
       "      <th>0</th>\n",
       "      <td>s_b_count_0.0 Strike(s) 1.0 Ball(s)</td>\n",
       "      <td>0.016291</td>\n",
       "    </tr>\n",
       "    <tr>\n",
       "      <th>25</th>\n",
       "      <td>pitch_type_SI</td>\n",
       "      <td>0.015787</td>\n",
       "    </tr>\n",
       "    <tr>\n",
       "      <th>22</th>\n",
       "      <td>pitch_type_FT</td>\n",
       "      <td>0.013493</td>\n",
       "    </tr>\n",
       "    <tr>\n",
       "      <th>13</th>\n",
       "      <td>runners_on_base_1.0 1st Base 0.0 2nd Base 0.0 ...</td>\n",
       "      <td>0.010666</td>\n",
       "    </tr>\n",
       "    <tr>\n",
       "      <th>15</th>\n",
       "      <td>runners_on_base_1.0 1st Base 1.0 2nd Base 0.0 ...</td>\n",
       "      <td>0.007347</td>\n",
       "    </tr>\n",
       "    <tr>\n",
       "      <th>28</th>\n",
       "      <td>pitcher_hitter_position_L -Pitcher R -Hitter</td>\n",
       "      <td>0.002328</td>\n",
       "    </tr>\n",
       "    <tr>\n",
       "      <th>16</th>\n",
       "      <td>runners_on_base_1.0 1st Base 1.0 2nd Base 1.0 ...</td>\n",
       "      <td>0.001132</td>\n",
       "    </tr>\n",
       "    <tr>\n",
       "      <th>14</th>\n",
       "      <td>runners_on_base_1.0 1st Base 0.0 2nd Base 1.0 ...</td>\n",
       "      <td>0.001125</td>\n",
       "    </tr>\n",
       "    <tr>\n",
       "      <th>7</th>\n",
       "      <td>outs</td>\n",
       "      <td>0.000828</td>\n",
       "    </tr>\n",
       "    <tr>\n",
       "      <th>27</th>\n",
       "      <td>pitcher_hitter_position_L -Pitcher L -Hitter</td>\n",
       "      <td>0.000753</td>\n",
       "    </tr>\n",
       "    <tr>\n",
       "      <th>23</th>\n",
       "      <td>pitch_type_KC</td>\n",
       "      <td>0.000417</td>\n",
       "    </tr>\n",
       "    <tr>\n",
       "      <th>17</th>\n",
       "      <td>p_score</td>\n",
       "      <td>0.000000</td>\n",
       "    </tr>\n",
       "    <tr>\n",
       "      <th>18</th>\n",
       "      <td>pitch_type_CU</td>\n",
       "      <td>0.000000</td>\n",
       "    </tr>\n",
       "    <tr>\n",
       "      <th>19</th>\n",
       "      <td>pitch_type_FC</td>\n",
       "      <td>0.000000</td>\n",
       "    </tr>\n",
       "    <tr>\n",
       "      <th>24</th>\n",
       "      <td>pitch_type_KN</td>\n",
       "      <td>0.000000</td>\n",
       "    </tr>\n",
       "    <tr>\n",
       "      <th>26</th>\n",
       "      <td>pitch_type_SL</td>\n",
       "      <td>0.000000</td>\n",
       "    </tr>\n",
       "    <tr>\n",
       "      <th>6</th>\n",
       "      <td>s_b_count_1.0 Strike(s) 3.0 Ball(s)</td>\n",
       "      <td>0.000000</td>\n",
       "    </tr>\n",
       "  </tbody>\n",
       "</table>\n",
       "</div>"
      ],
      "text/plain": [
       "                                              Feature  Importance\n",
       "5                 s_b_count_1.0 Strike(s) 2.0 Ball(s)    0.154275\n",
       "9   runners_on_base_0.0 1st Base 0.0 2nd Base 0.0 ...    0.124878\n",
       "1                 s_b_count_0.0 Strike(s) 2.0 Ball(s)    0.123122\n",
       "8                                         pitch_count    0.085216\n",
       "2                 s_b_count_0.0 Strike(s) 3.0 Ball(s)    0.079070\n",
       "3                 s_b_count_1.0 Strike(s) 0.0 Ball(s)    0.064507\n",
       "21                                      pitch_type_FS    0.058226\n",
       "11  runners_on_base_0.0 1st Base 1.0 2nd Base 0.0 ...    0.050122\n",
       "12  runners_on_base_0.0 1st Base 1.0 2nd Base 1.0 ...    0.045847\n",
       "20                                      pitch_type_FF    0.039941\n",
       "29       pitcher_hitter_position_R -Pitcher L -Hitter    0.025286\n",
       "31                                             inning    0.022325\n",
       "10  runners_on_base_0.0 1st Base 0.0 2nd Base 1.0 ...    0.020166\n",
       "4                 s_b_count_1.0 Strike(s) 1.0 Ball(s)    0.018681\n",
       "30       pitcher_hitter_position_R -Pitcher R -Hitter    0.018174\n",
       "0                 s_b_count_0.0 Strike(s) 1.0 Ball(s)    0.016291\n",
       "25                                      pitch_type_SI    0.015787\n",
       "22                                      pitch_type_FT    0.013493\n",
       "13  runners_on_base_1.0 1st Base 0.0 2nd Base 0.0 ...    0.010666\n",
       "15  runners_on_base_1.0 1st Base 1.0 2nd Base 0.0 ...    0.007347\n",
       "28       pitcher_hitter_position_L -Pitcher R -Hitter    0.002328\n",
       "16  runners_on_base_1.0 1st Base 1.0 2nd Base 1.0 ...    0.001132\n",
       "14  runners_on_base_1.0 1st Base 0.0 2nd Base 1.0 ...    0.001125\n",
       "7                                                outs    0.000828\n",
       "27       pitcher_hitter_position_L -Pitcher L -Hitter    0.000753\n",
       "23                                      pitch_type_KC    0.000417\n",
       "17                                            p_score    0.000000\n",
       "18                                      pitch_type_CU    0.000000\n",
       "19                                      pitch_type_FC    0.000000\n",
       "24                                      pitch_type_KN    0.000000\n",
       "26                                      pitch_type_SL    0.000000\n",
       "6                 s_b_count_1.0 Strike(s) 3.0 Ball(s)    0.000000"
      ]
     },
     "execution_count": 147,
     "metadata": {},
     "output_type": "execute_result"
    }
   ],
   "source": [
    "# Sort from most important to least\n",
    "feature_importance.sort_values('Importance', ascending=False, inplace=True)\n",
    "feature_importance"
   ]
  },
  {
   "cell_type": "code",
   "execution_count": 146,
   "metadata": {
    "ExecuteTime": {
     "end_time": "2020-02-12T10:52:07.535574Z",
     "start_time": "2020-02-12T10:52:07.527955Z"
    }
   },
   "outputs": [],
   "source": [
    "# Make a copy of feature importance dataframe\n",
    "feature_importance2 = feature_importance"
   ]
  },
  {
   "cell_type": "code",
   "execution_count": 148,
   "metadata": {
    "ExecuteTime": {
     "end_time": "2020-02-12T10:52:49.092795Z",
     "start_time": "2020-02-12T10:52:49.081969Z"
    }
   },
   "outputs": [],
   "source": [
    "# Keep top 12 features\n",
    "feature_importance2.drop(feature_importance.tail(20).index,inplace=True)"
   ]
  },
  {
   "cell_type": "code",
   "execution_count": 159,
   "metadata": {
    "ExecuteTime": {
     "end_time": "2020-02-12T13:27:23.723837Z",
     "start_time": "2020-02-12T13:27:23.682150Z"
    }
   },
   "outputs": [
    {
     "data": {
      "text/html": [
       "<div>\n",
       "<style scoped>\n",
       "    .dataframe tbody tr th:only-of-type {\n",
       "        vertical-align: middle;\n",
       "    }\n",
       "\n",
       "    .dataframe tbody tr th {\n",
       "        vertical-align: top;\n",
       "    }\n",
       "\n",
       "    .dataframe thead th {\n",
       "        text-align: right;\n",
       "    }\n",
       "</style>\n",
       "<table border=\"1\" class=\"dataframe\">\n",
       "  <thead>\n",
       "    <tr style=\"text-align: right;\">\n",
       "      <th></th>\n",
       "      <th>Feature</th>\n",
       "      <th>Importance</th>\n",
       "    </tr>\n",
       "  </thead>\n",
       "  <tbody>\n",
       "    <tr>\n",
       "      <th>5</th>\n",
       "      <td>s_b_count_1.0 Strike(s) 2.0 Ball(s)</td>\n",
       "      <td>0.154275</td>\n",
       "    </tr>\n",
       "    <tr>\n",
       "      <th>9</th>\n",
       "      <td>runners_on_base_0.0 1st Base 0.0 2nd Base 0.0 ...</td>\n",
       "      <td>0.124878</td>\n",
       "    </tr>\n",
       "    <tr>\n",
       "      <th>1</th>\n",
       "      <td>s_b_count_0.0 Strike(s) 2.0 Ball(s)</td>\n",
       "      <td>0.123122</td>\n",
       "    </tr>\n",
       "    <tr>\n",
       "      <th>8</th>\n",
       "      <td>pitch_count</td>\n",
       "      <td>0.085216</td>\n",
       "    </tr>\n",
       "    <tr>\n",
       "      <th>2</th>\n",
       "      <td>s_b_count_0.0 Strike(s) 3.0 Ball(s)</td>\n",
       "      <td>0.079070</td>\n",
       "    </tr>\n",
       "    <tr>\n",
       "      <th>3</th>\n",
       "      <td>s_b_count_1.0 Strike(s) 0.0 Ball(s)</td>\n",
       "      <td>0.064507</td>\n",
       "    </tr>\n",
       "    <tr>\n",
       "      <th>21</th>\n",
       "      <td>pitch_type_FS</td>\n",
       "      <td>0.058226</td>\n",
       "    </tr>\n",
       "    <tr>\n",
       "      <th>11</th>\n",
       "      <td>runners_on_base_0.0 1st Base 1.0 2nd Base 0.0 ...</td>\n",
       "      <td>0.050122</td>\n",
       "    </tr>\n",
       "    <tr>\n",
       "      <th>12</th>\n",
       "      <td>runners_on_base_0.0 1st Base 1.0 2nd Base 1.0 ...</td>\n",
       "      <td>0.045847</td>\n",
       "    </tr>\n",
       "    <tr>\n",
       "      <th>20</th>\n",
       "      <td>pitch_type_FF</td>\n",
       "      <td>0.039941</td>\n",
       "    </tr>\n",
       "    <tr>\n",
       "      <th>29</th>\n",
       "      <td>pitcher_hitter_position_R -Pitcher L -Hitter</td>\n",
       "      <td>0.025286</td>\n",
       "    </tr>\n",
       "    <tr>\n",
       "      <th>31</th>\n",
       "      <td>inning</td>\n",
       "      <td>0.022325</td>\n",
       "    </tr>\n",
       "  </tbody>\n",
       "</table>\n",
       "</div>"
      ],
      "text/plain": [
       "                                              Feature  Importance\n",
       "5                 s_b_count_1.0 Strike(s) 2.0 Ball(s)    0.154275\n",
       "9   runners_on_base_0.0 1st Base 0.0 2nd Base 0.0 ...    0.124878\n",
       "1                 s_b_count_0.0 Strike(s) 2.0 Ball(s)    0.123122\n",
       "8                                         pitch_count    0.085216\n",
       "2                 s_b_count_0.0 Strike(s) 3.0 Ball(s)    0.079070\n",
       "3                 s_b_count_1.0 Strike(s) 0.0 Ball(s)    0.064507\n",
       "21                                      pitch_type_FS    0.058226\n",
       "11  runners_on_base_0.0 1st Base 1.0 2nd Base 0.0 ...    0.050122\n",
       "12  runners_on_base_0.0 1st Base 1.0 2nd Base 1.0 ...    0.045847\n",
       "20                                      pitch_type_FF    0.039941\n",
       "29       pitcher_hitter_position_R -Pitcher L -Hitter    0.025286\n",
       "31                                             inning    0.022325"
      ]
     },
     "execution_count": 159,
     "metadata": {},
     "output_type": "execute_result"
    }
   ],
   "source": [
    "feature_importance2"
   ]
  },
  {
   "cell_type": "code",
   "execution_count": 158,
   "metadata": {
    "ExecuteTime": {
     "end_time": "2020-02-12T11:00:04.287793Z",
     "start_time": "2020-02-12T11:00:04.276171Z"
    }
   },
   "outputs": [],
   "source": [
    "# Save feature importance dataframe to csv file\n",
    "feature_importance2.to_csv('feature_importance2.csv')"
   ]
  },
  {
   "cell_type": "markdown",
   "metadata": {},
   "source": [
    "### Confusion Matrix"
   ]
  },
  {
   "cell_type": "code",
   "execution_count": null,
   "metadata": {},
   "outputs": [],
   "source": [
    "# Get predictions and probabilities\n",
    "rf_holdout_preds = rf_opt.predict(X_holdout)\n",
    "rf_holdout_y_score = rf_opt.predict_proba(X_holdout)\n",
    "\n",
    "# Use X_holdout, y_holdout to calculate accuracy\n",
    "rf_holdout_acc = round(accuracy_score(y_holdout, rf_holdout_preds), 3)\n",
    "print(f'Accuracy of Random Forest Opt (holdout): {rf_holdout_acc}')\n",
    "\n",
    "rf_holdout_prec = round(precision_score(y_holdout, rf_holdout_preds), 3)\n",
    "print(f'Precision of Random Forest Opt (holdout): {rf_holdout_prec}')"
   ]
  },
  {
   "cell_type": "code",
   "execution_count": 171,
   "metadata": {
    "ExecuteTime": {
     "end_time": "2020-02-12T13:57:40.409541Z",
     "start_time": "2020-02-12T13:57:40.395033Z"
    }
   },
   "outputs": [],
   "source": [
    "# Define function to plot normalized confusion matrix\n",
    "from sklearn.metrics import confusion_matrix\n",
    "\n",
    "def plot_confusion_matrix(model, x_train,y_train, x_test, y_test, cmap=plt.cm.Blues):\n",
    "    y_pred = model.fit(x_train, y_train).predict(x_test)\n",
    "    cm = confusion_matrix(y_test, y_pred)\n",
    "    cm_normalized = cm.astype('float') / cm.sum(axis=1)[:, np.newaxis]\n",
    "    print(cm_normalized)\n",
    "    fig=plt.figure(figsize=(6,6))\n",
    "    ax = fig.add_subplot(111)\n",
    "    plt.imshow(cm_normalized, interpolation='nearest', cmap=cmap)\n",
    "    plt.title('Normalized Confusion Matrix', fontsize=16)\n",
    "    plt.colorbar()\n",
    "    plt.xticks([0,1],['Negative diagnosis','Positive Diagnosis'],fontsize=12)\n",
    "    plt.yticks([0,1],['Negative diagnosis','Positive Diagnosis'],fontsize=12)\n",
    "    plt.tight_layout()\n",
    "    plt.ylabel('True label',fontsize=14,weight='bold',rotation=90)\n",
    "    plt.xlabel('Predicted label',fontsize=14,weight='bold')\n",
    "    ax.grid(b=False)\n",
    "    ax.xaxis.labelpad = 20\n",
    "    labels=['True Negative','False Positive','False Negative','True Positive']\n",
    "    for i, cas in enumerate(cm_normalized):\n",
    "        for j, c in enumerate(cas):\n",
    "            plt.text(j-.15, i+.05, round(c,2), fontsize=20,color='black',weight='bold')"
   ]
  },
  {
   "cell_type": "code",
   "execution_count": 172,
   "metadata": {
    "ExecuteTime": {
     "end_time": "2020-02-12T13:57:41.543982Z",
     "start_time": "2020-02-12T13:57:40.990057Z"
    }
   },
   "outputs": [
    {
     "name": "stdout",
     "output_type": "stream",
     "text": [
      "[[0.60438517 0.39561483]\n",
      " [0.41187305 0.58812695]]\n"
     ]
    },
    {
     "data": {
      "image/png": "[encoded data removed]",
      "text/plain": [
       "<Figure size 432x432 with 2 Axes>"
      ]
     },
     "metadata": {},
     "output_type": "display_data"
    }
   ],
   "source": [
    "plot_confusion_matrix(rf_opt, X_train, y_train, X_holdout, y_holdout, cmap=plt.cm.PuBu)"
   ]
  },
  {
   "cell_type": "code",
   "execution_count": 200,
   "metadata": {
    "ExecuteTime": {
     "end_time": "2020-02-12T14:20:26.552409Z",
     "start_time": "2020-02-12T14:20:25.954997Z"
    }
   },
   "outputs": [
    {
     "data": {
      "image/png": "[encoded data removed]",
      "text/plain": [
       "<Figure size 600x400 with 2 Axes>"
      ]
     },
     "metadata": {},
     "output_type": "display_data"
    }
   ],
   "source": [
    "# Format normalized confusion matrix for better visibility\n",
    "rf_opt.fit(X_train, y_train)\n",
    "\n",
    "cm = confusion_matrix(y_test, rf_opt.predict(X_test))\n",
    "cm_normalized = cm.astype('float') / cm.sum(axis=1)[:, np.newaxis]\n",
    "\n",
    "plt.figure(dpi=100)\n",
    "sns.heatmap(cm_normalized, cmap=plt.cm.Blues, annot=True, square=True)\n",
    "plt.title('Normalized Confusion Matrix', fontsize=14)\n",
    "ax.grid(b=False)\n",
    "ax.xaxis.labelpad = 10\n",
    "labels=['True Negative','False Positive','False Negative','True Positive']\n",
    "plt.gca().set_ylim(len(confusion)+0.5, -0.5)\n",
    "\n",
    "plt.savefig('confusion_matrix2.png')"
   ]
  },
  {
   "cell_type": "code",
   "execution_count": 199,
   "metadata": {
    "ExecuteTime": {
     "end_time": "2020-02-12T14:19:10.650095Z",
     "start_time": "2020-02-12T14:19:10.628860Z"
    }
   },
   "outputs": [
    {
     "data": {
      "text/plain": [
       "<Figure size 432x288 with 0 Axes>"
      ]
     },
     "metadata": {},
     "output_type": "display_data"
    }
   ],
   "source": [
    "# Save confusion matrix image\n",
    "plt.savefig('confusion_matrix.png')"
   ]
  },
  {
   "cell_type": "markdown",
   "metadata": {},
   "source": [
    "### Precision / Recall Curve"
   ]
  },
  {
   "cell_type": "code",
   "execution_count": 205,
   "metadata": {
    "ExecuteTime": {
     "end_time": "2020-02-12T15:03:24.834000Z",
     "start_time": "2020-02-12T15:03:24.317462Z"
    }
   },
   "outputs": [
    {
     "data": {
      "image/png": "[encoded data removed]",
      "text/plain": [
       "<Figure size 480x320 with 1 Axes>"
      ]
     },
     "metadata": {
      "needs_background": "light"
     },
     "output_type": "display_data"
    }
   ],
   "source": [
    "# Plot the curve showing how recall and precision thresholds trade off \n",
    "precision_curve, recall_curve, threshold_curve = precision_recall_curve(y_holdout, rf_opt.predict_proba(X_holdout)[:,1] )\n",
    "\n",
    "plt.figure(dpi=80)\n",
    "plt.plot(threshold_curve, precision_curve[1:],label='precision')\n",
    "plt.plot(threshold_curve, recall_curve[1:], label='recall')\n",
    "plt.legend(loc='lower left')\n",
    "plt.title('Precision and Recall Curves');\n",
    "plt.savefig('precision_recall_curve.png')"
   ]
  }
 ],
 "metadata": {
  "kernelspec": {
   "display_name": "Python 3",
   "language": "python",
   "name": "python3"
  },
  "language_info": {
   "codemirror_mode": {
    "name": "ipython",
    "version": 3
   },
   "file_extension": ".py",
   "mimetype": "text/x-python",
   "name": "python",
   "nbconvert_exporter": "python",
   "pygments_lexer": "ipython3",
   "version": "3.7.6"
  }
 },
 "nbformat": 4,
 "nbformat_minor": 2
}
