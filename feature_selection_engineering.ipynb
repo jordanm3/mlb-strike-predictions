{
 "cells": [
  {
   "cell_type": "markdown",
   "metadata": {},
   "source": [
    "## Feature Selection and Engineering"
   ]
  },
  {
   "cell_type": "markdown",
   "metadata": {},
   "source": [
    "- Code in this notebook: \n",
    "    - Loads and cleans MLB pitch data from the 2015 - 2018 seasons. Datasets can be found on Kaggle [here](https://www.kaggle.com/pschale/mlb-pitch-data-20152018#games.csv).\n",
    "    - Performs feature engineering and creates a new master dataframe with selected features.\n",
    "    - Tests different combinations of features and performs model performance baselining using logistic regression. "
   ]
  },
  {
   "cell_type": "markdown",
   "metadata": {},
   "source": [
    "### Imports"
   ]
  },
  {
   "cell_type": "code",
   "execution_count": 349,
   "metadata": {
    "ExecuteTime": {
     "end_time": "2020-02-11T23:19:36.674049Z",
     "start_time": "2020-02-11T23:19:36.629492Z"
    }
   },
   "outputs": [
    {
     "name": "stdout",
     "output_type": "stream",
     "text": [
      "Populating the interactive namespace from numpy and matplotlib\n"
     ]
    }
   ],
   "source": [
    "%pylab inline\n",
    "\n",
    "from collections import OrderedDict\n",
    "\n",
    "import pandas as pd\n",
    "import numpy as np\n",
    "import seaborn as sns\n",
    "import matplotlib.pyplot as plt\n",
    "\n",
    "%matplotlib inline\n",
    "sns.set()\n",
    "\n",
    "from sklearn.linear_model import LogisticRegression\n",
    "from sklearn.ensemble import RandomForestClassifier\n",
    "from sklearn.model_selection import train_test_split\n",
    "from sklearn.metrics import f1_score, accuracy_score\n",
    "from sklearn.metrics import confusion_matrix\n",
    "from sklearn.metrics import roc_auc_score, roc_curve\n",
    "from sklearn.metrics import precision_score\n",
    "from sklearn.metrics import recall_score\n",
    "from sklearn.metrics import precision_score, recall_score, precision_recall_curve,f1_score, fbeta_score"
   ]
  },
  {
   "cell_type": "markdown",
   "metadata": {},
   "source": [
    "### Load \"atbats\" Dataset"
   ]
  },
  {
   "cell_type": "code",
   "execution_count": 227,
   "metadata": {
    "ExecuteTime": {
     "end_time": "2020-02-11T21:58:41.841806Z",
     "start_time": "2020-02-11T21:58:41.219721Z"
    }
   },
   "outputs": [],
   "source": [
    "# Load first 300000 rows as a subset for exploratory data analysis\n",
    "df_batting_subset = pd.read_csv('data/atbats.csv', nrows=300000)"
   ]
  },
  {
   "cell_type": "code",
   "execution_count": 228,
   "metadata": {
    "ExecuteTime": {
     "end_time": "2020-02-11T21:58:41.858958Z",
     "start_time": "2020-02-11T21:58:41.844143Z"
    }
   },
   "outputs": [
    {
     "data": {
      "text/plain": [
       "(300000, 11)"
      ]
     },
     "execution_count": 228,
     "metadata": {},
     "output_type": "execute_result"
    }
   ],
   "source": [
    "# View number of rows and columns in dataframe\n",
    "df_batting_subset.shape"
   ]
  },
  {
   "cell_type": "markdown",
   "metadata": {},
   "source": [
    "#### Selected Field Name Descriptions"
   ]
  },
  {
   "cell_type": "markdown",
   "metadata": {},
   "source": [
    "**ab_id:** at-bat ID. First 4 digits are year. Matches with ab_id in pitches.csv\n",
    "\n",
    "**batter_id:** player ID of the batter. Given by MLB, player names found in player_names.csv\n",
    "\n",
    "**event:** description of the result of the at-bat\n",
    "\n",
    "**g_id:** game ID. First 4 digits are year\n",
    "\n",
    "**inning:** inning number\n",
    "\n",
    "**o:** number of outs after this at-bat\n",
    "\n",
    "**p_score:** score for the pitcher's team\n",
    "\n",
    "**p_throws:** which hand pitcher throws with. Single character, R or L\n",
    "\n",
    "**pitcher_id:** player ID of the pitcher. Given by MLB, player names found in player_names.csv\n",
    "\n",
    "**stand:** which side batter hits on. Single character, R or L"
   ]
  },
  {
   "cell_type": "markdown",
   "metadata": {},
   "source": [
    "### Load \"pitches\" Dataset"
   ]
  },
  {
   "cell_type": "code",
   "execution_count": 229,
   "metadata": {
    "ExecuteTime": {
     "end_time": "2020-02-11T21:58:47.038830Z",
     "start_time": "2020-02-11T21:58:44.510754Z"
    }
   },
   "outputs": [],
   "source": [
    "# Load first 300000 rows as a subset for exploratory data analysis\n",
    "df_pitches_subset = pd.read_csv('data/pitches.csv', nrows=300000)"
   ]
  },
  {
   "cell_type": "code",
   "execution_count": 230,
   "metadata": {
    "ExecuteTime": {
     "end_time": "2020-02-11T21:58:47.059982Z",
     "start_time": "2020-02-11T21:58:47.042784Z"
    }
   },
   "outputs": [
    {
     "data": {
      "text/plain": [
       "(300000, 40)"
      ]
     },
     "execution_count": 230,
     "metadata": {},
     "output_type": "execute_result"
    }
   ],
   "source": [
    "# View number of rows and columns in dataframe\n",
    "df_pitches_subset.shape"
   ]
  },
  {
   "cell_type": "markdown",
   "metadata": {},
   "source": [
    "#### Selected Field Name Descriptions"
   ]
  },
  {
   "cell_type": "markdown",
   "metadata": {
    "ExecuteTime": {
     "end_time": "2020-02-03T22:09:56.127624Z",
     "start_time": "2020-02-03T22:09:56.123495Z"
    }
   },
   "source": [
    "**code**: Records the result of the pitch. See dataset description for list of codes and their meaning\n",
    "\n",
    "**type**: Simplified code, S (strike) B (ball) or X (in play)\n",
    "\n",
    "**pitch_type**: Type of pitch. See dataset description for list of pitch types\n",
    "\n",
    "**b_score**: score for the batter's team\n",
    "\n",
    "**ab_id**: at-bat ID. Matches up with atbats.csv\n",
    "\n",
    "**b_count**: balls in the current count\n",
    "\n",
    "**s_count**: strikes in the current count\n",
    "\n",
    "**outs**: number of outs (before pitch is thrown)\n",
    "\n",
    "**pitch_num**: pitch number (of at-bat)\n",
    "\n",
    "**on_1b**: True if there's a runner on first, False if empty\n",
    "\n",
    "**on_2b**: True if there's a runner on second, False if empty\n",
    "\n",
    "**on_3b**: True if there's a runner on third, False if empty"
   ]
  },
  {
   "cell_type": "markdown",
   "metadata": {},
   "source": [
    "#### Pitch Code Descriptions"
   ]
  },
  {
   "cell_type": "markdown",
   "metadata": {},
   "source": [
    "**B** - Ball (\"*B\" indicates ball in dirt)\n",
    "\n",
    "**S** - Swinging Strike\n",
    "\n",
    "**C** - Called Strike\n",
    "\n",
    "**F** - Foul\n",
    "\n",
    "**T** - Foul Tip\n",
    "\n",
    "**L** - Foul Bunt\n",
    "\n",
    "**I** - Intentional Ball\n",
    "\n",
    "**W** - Swinging Strike (Blocked)\n",
    "\n",
    "**M** - Missed Bunt\n",
    "\n",
    "**P** - Pitchout\n",
    "\n",
    "**Q** - Swinging pitchout\n",
    "\n",
    "**R** - Foul pitchout\n",
    "\n",
    "**X** - In play, out(s)\n",
    "\n",
    "**D** - In play, no out\n",
    "\n",
    "**E** - In play, runs\n",
    "\n",
    "**H** - Hit by pitch"
   ]
  },
  {
   "cell_type": "code",
   "execution_count": 9,
   "metadata": {
    "ExecuteTime": {
     "end_time": "2020-02-10T16:08:13.560569Z",
     "start_time": "2020-02-10T16:08:13.537834Z"
    }
   },
   "outputs": [
    {
     "data": {
      "text/plain": [
       "B     33300\n",
       "C     17638\n",
       "F     16770\n",
       "X     12209\n",
       "S      8680\n",
       "D      4211\n",
       "E      2219\n",
       "*B     2180\n",
       "T       790\n",
       "W       766\n",
       "I       545\n",
       "L       350\n",
       "H       230\n",
       "M        85\n",
       "P        26\n",
       "V         1\n",
       "Name: code, dtype: int64"
      ]
     },
     "execution_count": 9,
     "metadata": {},
     "output_type": "execute_result"
    }
   ],
   "source": [
    "# Target column = code\n",
    "# Code = Result of the pitch \n",
    "\n",
    "# Display counts of result of pitches\n",
    "df_pitches_subset['code'].value_counts()"
   ]
  },
  {
   "cell_type": "markdown",
   "metadata": {},
   "source": [
    "### Load \"games\" Dataset"
   ]
  },
  {
   "cell_type": "code",
   "execution_count": 231,
   "metadata": {
    "ExecuteTime": {
     "end_time": "2020-02-11T21:58:54.895214Z",
     "start_time": "2020-02-11T21:58:54.829494Z"
    }
   },
   "outputs": [],
   "source": [
    "# Load first 300000 rows as a subset for exploratory data analysis\n",
    "df_games_subset = pd.read_csv('data/games.csv', nrows=300000)"
   ]
  },
  {
   "cell_type": "code",
   "execution_count": 232,
   "metadata": {
    "ExecuteTime": {
     "end_time": "2020-02-11T21:58:55.277683Z",
     "start_time": "2020-02-11T21:58:55.269849Z"
    }
   },
   "outputs": [
    {
     "data": {
      "text/plain": [
       "(9718, 17)"
      ]
     },
     "execution_count": 232,
     "metadata": {},
     "output_type": "execute_result"
    }
   ],
   "source": [
    "# View number of rows and columns in dataframe\n",
    "df_games_subset.shape"
   ]
  },
  {
   "cell_type": "markdown",
   "metadata": {},
   "source": [
    "#### Selected Field Name Descriptions"
   ]
  },
  {
   "cell_type": "markdown",
   "metadata": {},
   "source": [
    "**away_final_score:** final score for the visiting team\n",
    "\n",
    "**away_team:** three letter abbreviation for away team; third letter often indicates league(national vs american)\n",
    "\n",
    "**date:** date of game\n",
    "\n",
    "**g_id:** game ID. Matches with game_id in atbats.csv\n",
    "\n",
    "**home_final_score:** final score for the home team\n",
    "\n",
    "**home_team:** three letter abbreviation for home team; third letter often indicates league(national vs american)\n",
    "\n",
    "**start_time:** start time of game"
   ]
  },
  {
   "cell_type": "markdown",
   "metadata": {},
   "source": [
    "### Merge Datasets"
   ]
  },
  {
   "cell_type": "code",
   "execution_count": 233,
   "metadata": {
    "ExecuteTime": {
     "end_time": "2020-02-11T21:58:59.372151Z",
     "start_time": "2020-02-11T21:58:58.574030Z"
    }
   },
   "outputs": [],
   "source": [
    "# Merge \"pitches\" and \"atbats\"\n",
    "df_pitches_batting_subset = df_pitches_subset.merge(df_batting_subset, on='ab_id')"
   ]
  },
  {
   "cell_type": "code",
   "execution_count": 235,
   "metadata": {
    "ExecuteTime": {
     "end_time": "2020-02-11T21:59:02.044262Z",
     "start_time": "2020-02-11T21:59:01.620991Z"
    }
   },
   "outputs": [],
   "source": [
    "# Merge \"games\" and \"df_pitches_batting_subset\"\n",
    "df_pitches_batting_games_subset = df_pitches_batting_subset.merge(df_games_subset, on='g_id')"
   ]
  },
  {
   "cell_type": "code",
   "execution_count": 236,
   "metadata": {
    "ExecuteTime": {
     "end_time": "2020-02-11T21:59:02.099841Z",
     "start_time": "2020-02-11T21:59:02.089774Z"
    }
   },
   "outputs": [
    {
     "data": {
      "text/plain": [
       "(300000, 66)"
      ]
     },
     "execution_count": 236,
     "metadata": {},
     "output_type": "execute_result"
    }
   ],
   "source": [
    "# View number of rows and columns in dataframe\n",
    "df_pitches_batting_games_subset.shape"
   ]
  },
  {
   "cell_type": "markdown",
   "metadata": {},
   "source": [
    "### Create and Clean Target"
   ]
  },
  {
   "cell_type": "code",
   "execution_count": 237,
   "metadata": {
    "ExecuteTime": {
     "end_time": "2020-02-11T21:59:06.627804Z",
     "start_time": "2020-02-11T21:59:06.079082Z"
    }
   },
   "outputs": [],
   "source": [
    "# Create new copy of dataframe subset\n",
    "df_pitches_batting_games_target_subset = df_pitches_batting_games_subset.copy()"
   ]
  },
  {
   "cell_type": "code",
   "execution_count": 238,
   "metadata": {
    "ExecuteTime": {
     "end_time": "2020-02-11T21:59:14.662552Z",
     "start_time": "2020-02-11T21:59:14.652044Z"
    }
   },
   "outputs": [],
   "source": [
    "# Function to create target value based on code of pitch\n",
    "# Codes of interest: B (Ball), *B (Ball in dirt), C (Called Strike)\n",
    "def pitch_code(column):\n",
    "    if column['code'] == 'C':\n",
    "        val = 1\n",
    "    elif column['code'] == 'B' or column['code'] == '*B':\n",
    "        val = 0\n",
    "    else: \n",
    "        val = np.nan\n",
    "    return val"
   ]
  },
  {
   "cell_type": "code",
   "execution_count": 239,
   "metadata": {
    "ExecuteTime": {
     "end_time": "2020-02-11T21:59:29.183739Z",
     "start_time": "2020-02-11T21:59:15.398495Z"
    }
   },
   "outputs": [],
   "source": [
    "# Apply function to create target column\n",
    "df_pitches_batting_games_target_subset['pitch_target'] = df_pitches_batting_games_target_subset.apply(pitch_code, axis=1)"
   ]
  },
  {
   "cell_type": "code",
   "execution_count": 240,
   "metadata": {
    "ExecuteTime": {
     "end_time": "2020-02-11T21:59:29.196461Z",
     "start_time": "2020-02-11T21:59:29.186107Z"
    }
   },
   "outputs": [
    {
     "data": {
      "text/plain": [
       "(300000, 67)"
      ]
     },
     "execution_count": 240,
     "metadata": {},
     "output_type": "execute_result"
    }
   ],
   "source": [
    "# View number of rows and columns in dataframe\n",
    "df_pitches_batting_games_target_subset.shape"
   ]
  },
  {
   "cell_type": "code",
   "execution_count": 241,
   "metadata": {
    "ExecuteTime": {
     "end_time": "2020-02-11T21:59:29.960913Z",
     "start_time": "2020-02-11T21:59:29.200951Z"
    }
   },
   "outputs": [],
   "source": [
    "# Drop NA values\n",
    "df_pitches_batting_games_target_subset.dropna(inplace=True)"
   ]
  },
  {
   "cell_type": "code",
   "execution_count": 242,
   "metadata": {
    "ExecuteTime": {
     "end_time": "2020-02-11T21:59:29.996784Z",
     "start_time": "2020-02-11T21:59:29.985720Z"
    }
   },
   "outputs": [],
   "source": [
    "# Reset index\n",
    "df_pitches_batting_games_target_subset.reset_index(drop=True, inplace=True)"
   ]
  },
  {
   "cell_type": "code",
   "execution_count": 243,
   "metadata": {
    "ExecuteTime": {
     "end_time": "2020-02-11T21:59:30.051287Z",
     "start_time": "2020-02-11T21:59:30.000567Z"
    }
   },
   "outputs": [],
   "source": [
    "# Cast target values to integer\n",
    "df_pitches_batting_games_target_subset['pitch_target'] = df_pitches_batting_games_target_subset['pitch_target'].astype(int)"
   ]
  },
  {
   "cell_type": "markdown",
   "metadata": {},
   "source": [
    "### Additional Data Cleaning"
   ]
  },
  {
   "cell_type": "code",
   "execution_count": 245,
   "metadata": {
    "ExecuteTime": {
     "end_time": "2020-02-11T21:59:30.348064Z",
     "start_time": "2020-02-11T21:59:30.073352Z"
    }
   },
   "outputs": [],
   "source": [
    "# Drop rows with 2 strikes already in the count\n",
    "df_pitches_batting_games_target_subset.drop(\n",
    "    df_pitches_batting_games_target_subset[df_pitches_batting_games_target_subset.s_count == 2].index, inplace=True)"
   ]
  },
  {
   "cell_type": "code",
   "execution_count": 248,
   "metadata": {
    "ExecuteTime": {
     "end_time": "2020-02-11T21:59:30.506495Z",
     "start_time": "2020-02-11T21:59:30.403080Z"
    }
   },
   "outputs": [],
   "source": [
    "# Drop rows with 4 balls already in the count\n",
    "df_pitches_batting_games_target_subset.drop(\n",
    "    df_pitches_batting_games_target_subset[df_pitches_batting_games_target_subset.b_count == 4].index, inplace=True)"
   ]
  },
  {
   "cell_type": "code",
   "execution_count": 249,
   "metadata": {
    "ExecuteTime": {
     "end_time": "2020-02-11T21:59:30.518593Z",
     "start_time": "2020-02-11T21:59:30.509290Z"
    }
   },
   "outputs": [
    {
     "data": {
      "text/plain": [
       "(124392, 67)"
      ]
     },
     "execution_count": 249,
     "metadata": {},
     "output_type": "execute_result"
    }
   ],
   "source": [
    "# View number of rows and columns in dataframe\n",
    "df_pitches_batting_games_target_subset.shape"
   ]
  },
  {
   "cell_type": "code",
   "execution_count": 251,
   "metadata": {
    "ExecuteTime": {
     "end_time": "2020-02-11T21:59:34.833246Z",
     "start_time": "2020-02-11T21:59:34.795490Z"
    }
   },
   "outputs": [
    {
     "data": {
      "text/plain": [
       "FF    45044\n",
       "FT    16070\n",
       "SL    15977\n",
       "SI    13999\n",
       "CH    11697\n",
       "CU     9468\n",
       "FC     6872\n",
       "KC     2966\n",
       "FS     1388\n",
       "KN      800\n",
       "EP       84\n",
       "FO       20\n",
       "UN        3\n",
       "SC        3\n",
       "FA        1\n",
       "Name: pitch_type, dtype: int64"
      ]
     },
     "execution_count": 251,
     "metadata": {},
     "output_type": "execute_result"
    }
   ],
   "source": [
    "# View values for pitch_type field\n",
    "df_pitches_batting_games_target_subset.pitch_type.value_counts()"
   ]
  },
  {
   "cell_type": "code",
   "execution_count": 252,
   "metadata": {
    "ExecuteTime": {
     "end_time": "2020-02-11T21:59:37.946750Z",
     "start_time": "2020-02-11T21:59:37.826021Z"
    }
   },
   "outputs": [],
   "source": [
    "# Remove FA (Not Defined)\n",
    "df_pitches_batting_games_target_subset.drop(\n",
    "    df_pitches_batting_games_target_subset[df_pitches_batting_games_target_subset.pitch_type == 'FA'].index, inplace=True)\n"
   ]
  },
  {
   "cell_type": "code",
   "execution_count": 253,
   "metadata": {
    "ExecuteTime": {
     "end_time": "2020-02-11T21:59:38.213122Z",
     "start_time": "2020-02-11T21:59:38.133451Z"
    }
   },
   "outputs": [],
   "source": [
    "# Remove SC (Not Defined)\n",
    "df_pitches_batting_games_target_subset.drop(\n",
    "    df_pitches_batting_games_target_subset[df_pitches_batting_games_target_subset.pitch_type == 'SC'].index, inplace=True)\n"
   ]
  },
  {
   "cell_type": "code",
   "execution_count": 254,
   "metadata": {
    "ExecuteTime": {
     "end_time": "2020-02-11T21:59:38.629977Z",
     "start_time": "2020-02-11T21:59:38.538748Z"
    }
   },
   "outputs": [],
   "source": [
    "# Remove UN (Unknown)\n",
    "df_pitches_batting_games_target_subset.drop(\n",
    "    df_pitches_batting_games_target_subset[df_pitches_batting_games_target_subset.pitch_type == 'UN'].index, inplace=True)\n"
   ]
  },
  {
   "cell_type": "code",
   "execution_count": 255,
   "metadata": {
    "ExecuteTime": {
     "end_time": "2020-02-11T21:59:38.981039Z",
     "start_time": "2020-02-11T21:59:38.907255Z"
    }
   },
   "outputs": [],
   "source": [
    "# Remove FO (Pitchout)\n",
    "df_pitches_batting_games_target_subset.drop(\n",
    "    df_pitches_batting_games_target_subset[df_pitches_batting_games_target_subset.pitch_type == 'FO'].index, inplace=True)\n"
   ]
  },
  {
   "cell_type": "code",
   "execution_count": 256,
   "metadata": {
    "ExecuteTime": {
     "end_time": "2020-02-11T21:59:39.401169Z",
     "start_time": "2020-02-11T21:59:39.320720Z"
    }
   },
   "outputs": [],
   "source": [
    "# Remove EP (Eephus)\n",
    "df_pitches_batting_games_target_subset.drop(\n",
    "    df_pitches_batting_games_target_subset[df_pitches_batting_games_target_subset.pitch_type == 'EP'].index, inplace=True)\n"
   ]
  },
  {
   "cell_type": "code",
   "execution_count": 257,
   "metadata": {
    "ExecuteTime": {
     "end_time": "2020-02-11T21:59:39.908242Z",
     "start_time": "2020-02-11T21:59:39.763273Z"
    }
   },
   "outputs": [],
   "source": [
    "# Remove PO (Pitchout)\n",
    "df_pitches_batting_games_target_subset.drop(\n",
    "    df_pitches_batting_games_target_subset[df_pitches_batting_games_target_subset.pitch_type == 'PO'].index, inplace=True)\n"
   ]
  },
  {
   "cell_type": "code",
   "execution_count": 258,
   "metadata": {
    "ExecuteTime": {
     "end_time": "2020-02-11T21:59:42.158125Z",
     "start_time": "2020-02-11T21:59:41.974885Z"
    }
   },
   "outputs": [],
   "source": [
    "# Remove IN (Intentional Ball)\n",
    "df_pitches_batting_games_target_subset.drop(\n",
    "    df_pitches_batting_games_target_subset[df_pitches_batting_games_target_subset.pitch_type == 'IN'].index, inplace=True)\n"
   ]
  },
  {
   "cell_type": "code",
   "execution_count": 259,
   "metadata": {
    "ExecuteTime": {
     "end_time": "2020-02-11T21:59:42.485451Z",
     "start_time": "2020-02-11T21:59:42.457502Z"
    }
   },
   "outputs": [
    {
     "data": {
      "text/plain": [
       "(124281, 67)"
      ]
     },
     "execution_count": 259,
     "metadata": {},
     "output_type": "execute_result"
    }
   ],
   "source": [
    "# View number of rows and columns in dataframe\n",
    "df_pitches_batting_games_target_subset.shape"
   ]
  },
  {
   "cell_type": "markdown",
   "metadata": {},
   "source": [
    "### Feature Engineering"
   ]
  },
  {
   "cell_type": "code",
   "execution_count": 260,
   "metadata": {
    "ExecuteTime": {
     "end_time": "2020-02-11T21:59:45.607906Z",
     "start_time": "2020-02-11T21:59:45.518397Z"
    }
   },
   "outputs": [],
   "source": [
    "# Create dataframe to add new feature\n",
    "df_master_1 = df_pitches_batting_games_target_subset"
   ]
  },
  {
   "cell_type": "code",
   "execution_count": 261,
   "metadata": {
    "ExecuteTime": {
     "end_time": "2020-02-11T21:59:46.870005Z",
     "start_time": "2020-02-11T21:59:46.825310Z"
    }
   },
   "outputs": [],
   "source": [
    "# Create \"fatigue factor\" feature: cumulative pitch count for a pitcher in each game\n",
    "df_master_1['pitch_count'] = df_pitches_batting_games_target_subset.groupby(['g_id', 'pitcher_id'], as_index=False).cumcount()+1\n"
   ]
  },
  {
   "cell_type": "code",
   "execution_count": 263,
   "metadata": {
    "ExecuteTime": {
     "end_time": "2020-02-11T21:59:47.648869Z",
     "start_time": "2020-02-11T21:59:47.558041Z"
    }
   },
   "outputs": [],
   "source": [
    "# Drop \"pitch_num\" feature: pitch number of individual at-bats\n",
    "df_master_1 = df_master_1.drop('pitch_num', axis = 1)"
   ]
  },
  {
   "cell_type": "code",
   "execution_count": 264,
   "metadata": {
    "ExecuteTime": {
     "end_time": "2020-02-11T21:59:48.182034Z",
     "start_time": "2020-02-11T21:59:48.173846Z"
    }
   },
   "outputs": [
    {
     "data": {
      "text/plain": [
       "(124281, 67)"
      ]
     },
     "execution_count": 264,
     "metadata": {},
     "output_type": "execute_result"
    }
   ],
   "source": [
    "# View number of rows and columns in dataframe\n",
    "df_master_1.shape"
   ]
  },
  {
   "cell_type": "code",
   "execution_count": 265,
   "metadata": {
    "ExecuteTime": {
     "end_time": "2020-02-11T21:59:51.384120Z",
     "start_time": "2020-02-11T21:59:51.303751Z"
    }
   },
   "outputs": [],
   "source": [
    "# Create dataframe to add new feature\n",
    "df_master_2 = df_master_1"
   ]
  },
  {
   "cell_type": "code",
   "execution_count": 266,
   "metadata": {
    "ExecuteTime": {
     "end_time": "2020-02-11T21:59:51.835788Z",
     "start_time": "2020-02-11T21:59:51.673920Z"
    }
   },
   "outputs": [],
   "source": [
    "# Create \"strike + ball count\" feature: combination of \"Strike(s)\" and \"Ball(s)\" features\n",
    "df_master_2['s_b_count'] = (df_master_1.s_count.map(str) + ' Strike(s) ' + df_master_1.b_count.map(str)) + ' Ball(s)'"
   ]
  },
  {
   "cell_type": "code",
   "execution_count": 268,
   "metadata": {
    "ExecuteTime": {
     "end_time": "2020-02-11T21:59:52.868524Z",
     "start_time": "2020-02-11T21:59:52.816190Z"
    }
   },
   "outputs": [
    {
     "data": {
      "text/plain": [
       "0.0 Strike(s) 0.0 Ball(s)    55805\n",
       "1.0 Strike(s) 0.0 Ball(s)    20096\n",
       "0.0 Strike(s) 1.0 Ball(s)    17352\n",
       "1.0 Strike(s) 1.0 Ball(s)    13759\n",
       "1.0 Strike(s) 2.0 Ball(s)     6194\n",
       "0.0 Strike(s) 2.0 Ball(s)     5637\n",
       "0.0 Strike(s) 3.0 Ball(s)     2730\n",
       "1.0 Strike(s) 3.0 Ball(s)     2708\n",
       "Name: s_b_count, dtype: int64"
      ]
     },
     "execution_count": 268,
     "metadata": {},
     "output_type": "execute_result"
    }
   ],
   "source": [
    "# View value counts for strike + ball feature\n",
    "df_master_2.s_b_count.value_counts()"
   ]
  },
  {
   "cell_type": "code",
   "execution_count": 269,
   "metadata": {
    "ExecuteTime": {
     "end_time": "2020-02-11T21:59:53.750798Z",
     "start_time": "2020-02-11T21:59:53.478724Z"
    }
   },
   "outputs": [],
   "source": [
    "# Dummify variables\n",
    "df_master_2 = pd.get_dummies(df_master_2, prefix=['s_b_count'], columns=['s_b_count'])"
   ]
  },
  {
   "cell_type": "code",
   "execution_count": 270,
   "metadata": {
    "ExecuteTime": {
     "end_time": "2020-02-11T21:59:57.493305Z",
     "start_time": "2020-02-11T21:59:57.484089Z"
    }
   },
   "outputs": [
    {
     "data": {
      "text/plain": [
       "(124281, 75)"
      ]
     },
     "execution_count": 270,
     "metadata": {},
     "output_type": "execute_result"
    }
   ],
   "source": [
    "# View number of rows and columns in dataframe\n",
    "df_master_2.shape"
   ]
  },
  {
   "cell_type": "code",
   "execution_count": 271,
   "metadata": {
    "ExecuteTime": {
     "end_time": "2020-02-11T21:59:59.481123Z",
     "start_time": "2020-02-11T21:59:59.409281Z"
    }
   },
   "outputs": [],
   "source": [
    "# Create dataframe to add new feature\n",
    "df_master_3 = df_master_2"
   ]
  },
  {
   "cell_type": "code",
   "execution_count": 272,
   "metadata": {
    "ExecuteTime": {
     "end_time": "2020-02-11T22:00:00.032014Z",
     "start_time": "2020-02-11T21:59:59.713996Z"
    }
   },
   "outputs": [],
   "source": [
    "# Create \"runners on base\" feature: combination of \"on_1b\", \"on_2b\" and \"on_3b\" features\n",
    "df_master_3['runners_on_base'] = (df_master_2.on_1b.map(str) + ' 1st Base ' + df_master_2.on_2b.map(str) + ' 2nd Base ' + df_master_2.on_3b.map(str) + ' 3rd Base')"
   ]
  },
  {
   "cell_type": "code",
   "execution_count": 274,
   "metadata": {
    "ExecuteTime": {
     "end_time": "2020-02-11T22:00:00.672100Z",
     "start_time": "2020-02-11T22:00:00.620280Z"
    }
   },
   "outputs": [
    {
     "data": {
      "text/plain": [
       "0.0 1st Base 0.0 2nd Base 0.0 3rd Base    73858\n",
       "1.0 1st Base 0.0 2nd Base 0.0 3rd Base    22624\n",
       "0.0 1st Base 1.0 2nd Base 0.0 3rd Base     9045\n",
       "1.0 1st Base 1.0 2nd Base 0.0 3rd Base     8020\n",
       "1.0 1st Base 0.0 2nd Base 1.0 3rd Base     3457\n",
       "0.0 1st Base 0.0 2nd Base 1.0 3rd Base     2906\n",
       "1.0 1st Base 1.0 2nd Base 1.0 3rd Base     2502\n",
       "0.0 1st Base 1.0 2nd Base 1.0 3rd Base     1869\n",
       "Name: runners_on_base, dtype: int64"
      ]
     },
     "execution_count": 274,
     "metadata": {},
     "output_type": "execute_result"
    }
   ],
   "source": [
    "# View value counts for runners on base feature\n",
    "df_master_3.runners_on_base.value_counts()"
   ]
  },
  {
   "cell_type": "code",
   "execution_count": 275,
   "metadata": {
    "ExecuteTime": {
     "end_time": "2020-02-11T22:00:01.815188Z",
     "start_time": "2020-02-11T22:00:01.129489Z"
    }
   },
   "outputs": [],
   "source": [
    "# Dummify variables\n",
    "df_master_3 = pd.get_dummies(df_master_3, prefix=['runners_on_base'], columns=['runners_on_base'])"
   ]
  },
  {
   "cell_type": "code",
   "execution_count": 276,
   "metadata": {
    "ExecuteTime": {
     "end_time": "2020-02-11T22:00:01.838593Z",
     "start_time": "2020-02-11T22:00:01.822443Z"
    }
   },
   "outputs": [
    {
     "data": {
      "text/plain": [
       "(124281, 83)"
      ]
     },
     "execution_count": 276,
     "metadata": {},
     "output_type": "execute_result"
    }
   ],
   "source": [
    "# View number of rows and columns in dataframe\n",
    "df_master_3.shape"
   ]
  },
  {
   "cell_type": "code",
   "execution_count": 277,
   "metadata": {
    "ExecuteTime": {
     "end_time": "2020-02-11T22:00:04.950274Z",
     "start_time": "2020-02-11T22:00:04.896888Z"
    }
   },
   "outputs": [],
   "source": [
    "# Create dataframe to add new feature\n",
    "df_master_4 = df_master_3"
   ]
  },
  {
   "cell_type": "code",
   "execution_count": 278,
   "metadata": {
    "ExecuteTime": {
     "end_time": "2020-02-11T22:00:05.569987Z",
     "start_time": "2020-02-11T22:00:05.244099Z"
    }
   },
   "outputs": [],
   "source": [
    "# Dummify variables for \"pitch type\" feature\n",
    "df_master_4 = pd.get_dummies(df_master_4, prefix=['pitch_type'], columns=['pitch_type'], drop_first=True)"
   ]
  },
  {
   "cell_type": "code",
   "execution_count": 279,
   "metadata": {
    "ExecuteTime": {
     "end_time": "2020-02-11T22:00:05.781059Z",
     "start_time": "2020-02-11T22:00:05.771122Z"
    }
   },
   "outputs": [
    {
     "data": {
      "text/plain": [
       "(124281, 91)"
      ]
     },
     "execution_count": 279,
     "metadata": {},
     "output_type": "execute_result"
    }
   ],
   "source": [
    "# View number of rows and columns in dataframe\n",
    "df_master_4.shape"
   ]
  },
  {
   "cell_type": "code",
   "execution_count": 280,
   "metadata": {
    "ExecuteTime": {
     "end_time": "2020-02-11T22:00:09.290402Z",
     "start_time": "2020-02-11T22:00:09.282044Z"
    }
   },
   "outputs": [],
   "source": [
    "# Create dataframe to add new feature\n",
    "df_master_5 = df_master_4"
   ]
  },
  {
   "cell_type": "code",
   "execution_count": 281,
   "metadata": {
    "ExecuteTime": {
     "end_time": "2020-02-11T22:00:09.711734Z",
     "start_time": "2020-02-11T22:00:09.597227Z"
    }
   },
   "outputs": [],
   "source": [
    "# Create \"pitcher hitter position\" feature: combination of \"p_throws\" and \"stand\" features\n",
    "df_master_5['pitcher_hitter_position'] = (df_master_4.p_throws.map(str) + ' -Pitcher ' + df_master_4.stand.map(str) + ' -Hitter')"
   ]
  },
  {
   "cell_type": "code",
   "execution_count": 283,
   "metadata": {
    "ExecuteTime": {
     "end_time": "2020-02-11T22:00:10.613265Z",
     "start_time": "2020-02-11T22:00:10.560327Z"
    }
   },
   "outputs": [
    {
     "data": {
      "text/plain": [
       "R -Pitcher R -Hitter    47093\n",
       "R -Pitcher L -Hitter    45451\n",
       "L -Pitcher R -Hitter    21813\n",
       "L -Pitcher L -Hitter     9924\n",
       "Name: pitcher_hitter_position, dtype: int64"
      ]
     },
     "execution_count": 283,
     "metadata": {},
     "output_type": "execute_result"
    }
   ],
   "source": [
    "# View value counts for pitcher hitter position feature\n",
    "df_master_5.pitcher_hitter_position.value_counts()"
   ]
  },
  {
   "cell_type": "code",
   "execution_count": 284,
   "metadata": {
    "ExecuteTime": {
     "end_time": "2020-02-11T22:00:11.554766Z",
     "start_time": "2020-02-11T22:00:11.202415Z"
    }
   },
   "outputs": [],
   "source": [
    "# Dummify variables for \"pitcher hitter position\" feature\n",
    "df_master_5 = pd.get_dummies(df_master_5, prefix=['pitcher_hitter_position'], columns=['pitcher_hitter_position'])"
   ]
  },
  {
   "cell_type": "code",
   "execution_count": 285,
   "metadata": {
    "ExecuteTime": {
     "end_time": "2020-02-11T22:00:11.688993Z",
     "start_time": "2020-02-11T22:00:11.680071Z"
    }
   },
   "outputs": [
    {
     "data": {
      "text/plain": [
       "(124281, 95)"
      ]
     },
     "execution_count": 285,
     "metadata": {},
     "output_type": "execute_result"
    }
   ],
   "source": [
    "# View number of rows and columns in dataframe\n",
    "df_master_5.shape"
   ]
  },
  {
   "cell_type": "code",
   "execution_count": 286,
   "metadata": {
    "ExecuteTime": {
     "end_time": "2020-02-11T22:00:12.368118Z",
     "start_time": "2020-02-11T22:00:12.360477Z"
    }
   },
   "outputs": [
    {
     "data": {
      "text/plain": [
       "Index(['px', 'pz', 'start_speed', 'end_speed', 'spin_rate', 'spin_dir',\n",
       "       'break_angle', 'break_length', 'break_y', 'ax', 'ay', 'az', 'sz_bot',\n",
       "       'sz_top', 'type_confidence', 'vx0', 'vy0', 'vz0', 'x', 'x0', 'y', 'y0',\n",
       "       'z0', 'pfx_x', 'pfx_z', 'nasty', 'zone', 'code', 'type', 'event_num',\n",
       "       'b_score', 'ab_id', 'b_count', 's_count', 'outs', 'on_1b', 'on_2b',\n",
       "       'on_3b', 'batter_id', 'event', 'g_id', 'inning', 'o', 'p_score',\n",
       "       'p_throws', 'pitcher_id', 'stand', 'top', 'attendance',\n",
       "       'away_final_score', 'away_team', 'date', 'elapsed_time',\n",
       "       'home_final_score', 'home_team', 'start_time', 'umpire_1B', 'umpire_2B',\n",
       "       'umpire_3B', 'umpire_HP', 'venue_name', 'weather', 'wind', 'delay',\n",
       "       'pitch_target', 'pitch_count', 's_b_count_0.0 Strike(s) 0.0 Ball(s)',\n",
       "       's_b_count_0.0 Strike(s) 1.0 Ball(s)',\n",
       "       's_b_count_0.0 Strike(s) 2.0 Ball(s)',\n",
       "       's_b_count_0.0 Strike(s) 3.0 Ball(s)',\n",
       "       's_b_count_1.0 Strike(s) 0.0 Ball(s)',\n",
       "       's_b_count_1.0 Strike(s) 1.0 Ball(s)',\n",
       "       's_b_count_1.0 Strike(s) 2.0 Ball(s)',\n",
       "       's_b_count_1.0 Strike(s) 3.0 Ball(s)',\n",
       "       'runners_on_base_0.0 1st Base 0.0 2nd Base 0.0 3rd Base',\n",
       "       'runners_on_base_0.0 1st Base 0.0 2nd Base 1.0 3rd Base',\n",
       "       'runners_on_base_0.0 1st Base 1.0 2nd Base 0.0 3rd Base',\n",
       "       'runners_on_base_0.0 1st Base 1.0 2nd Base 1.0 3rd Base',\n",
       "       'runners_on_base_1.0 1st Base 0.0 2nd Base 0.0 3rd Base',\n",
       "       'runners_on_base_1.0 1st Base 0.0 2nd Base 1.0 3rd Base',\n",
       "       'runners_on_base_1.0 1st Base 1.0 2nd Base 0.0 3rd Base',\n",
       "       'runners_on_base_1.0 1st Base 1.0 2nd Base 1.0 3rd Base',\n",
       "       'pitch_type_CU', 'pitch_type_FC', 'pitch_type_FF', 'pitch_type_FS',\n",
       "       'pitch_type_FT', 'pitch_type_KC', 'pitch_type_KN', 'pitch_type_SI',\n",
       "       'pitch_type_SL', 'pitcher_hitter_position_L -Pitcher L -Hitter',\n",
       "       'pitcher_hitter_position_L -Pitcher R -Hitter',\n",
       "       'pitcher_hitter_position_R -Pitcher L -Hitter',\n",
       "       'pitcher_hitter_position_R -Pitcher R -Hitter'],\n",
       "      dtype='object')"
      ]
     },
     "execution_count": 286,
     "metadata": {},
     "output_type": "execute_result"
    }
   ],
   "source": [
    "# View all column names\n",
    "df_master_5.columns"
   ]
  },
  {
   "cell_type": "markdown",
   "metadata": {},
   "source": [
    "### Create, Save and Load Master Dataframe"
   ]
  },
  {
   "cell_type": "code",
   "execution_count": 287,
   "metadata": {
    "ExecuteTime": {
     "end_time": "2020-02-11T22:00:17.889028Z",
     "start_time": "2020-02-11T22:00:17.848404Z"
    }
   },
   "outputs": [],
   "source": [
    "# Create master dataframe\n",
    "df_master = df_master_5"
   ]
  },
  {
   "cell_type": "code",
   "execution_count": 295,
   "metadata": {
    "ExecuteTime": {
     "end_time": "2020-02-11T22:04:33.368294Z",
     "start_time": "2020-02-11T22:04:13.071466Z"
    }
   },
   "outputs": [],
   "source": [
    "# Save dataframe as a csv file\n",
    "df_master.to_csv('df_master.csv')"
   ]
  },
  {
   "cell_type": "code",
   "execution_count": 65,
   "metadata": {
    "ExecuteTime": {
     "end_time": "2020-02-11T20:05:42.093929Z",
     "start_time": "2020-02-11T20:05:40.508270Z"
    }
   },
   "outputs": [],
   "source": [
    "# Convenience code to read in master dataframe\n",
    "# df_master = pd.read_csv('df_master.csv')"
   ]
  },
  {
   "cell_type": "code",
   "execution_count": 66,
   "metadata": {
    "ExecuteTime": {
     "end_time": "2020-02-11T20:05:42.234143Z",
     "start_time": "2020-02-11T20:05:42.097239Z"
    }
   },
   "outputs": [],
   "source": [
    "# Delete unnecessary column\n",
    "df_master = df_master.drop('Unnamed: 0', axis = 1)"
   ]
  },
  {
   "cell_type": "code",
   "execution_count": 67,
   "metadata": {
    "ExecuteTime": {
     "end_time": "2020-02-11T20:05:42.243831Z",
     "start_time": "2020-02-11T20:05:42.236069Z"
    }
   },
   "outputs": [
    {
     "data": {
      "text/plain": [
       "(124281, 92)"
      ]
     },
     "execution_count": 67,
     "metadata": {},
     "output_type": "execute_result"
    }
   ],
   "source": [
    "# View number of rows and columns in dataframe\n",
    "df_master.shape"
   ]
  },
  {
   "cell_type": "markdown",
   "metadata": {},
   "source": [
    "### Exploratory Data Analysis"
   ]
  },
  {
   "cell_type": "code",
   "execution_count": 288,
   "metadata": {
    "ExecuteTime": {
     "end_time": "2020-02-11T22:00:22.574784Z",
     "start_time": "2020-02-11T22:00:22.237484Z"
    }
   },
   "outputs": [
    {
     "name": "stdout",
     "output_type": "stream",
     "text": [
      "0    0.616241\n",
      "1    0.383759\n",
      "Name: pitch_target, dtype: float64\n"
     ]
    },
    {
     "data": {
      "text/plain": [
       "<matplotlib.axes._subplots.AxesSubplot at 0x1a1d06f1d0>"
      ]
     },
     "execution_count": 288,
     "metadata": {},
     "output_type": "execute_result"
    },
    {
     "data": {
      "image/png": "[encoded data removed]",
      "text/plain": [
       "<Figure size 432x288 with 1 Axes>"
      ]
     },
     "metadata": {},
     "output_type": "display_data"
    }
   ],
   "source": [
    "# Plot distribution of target (1 = ball, 0 = strike)\n",
    "target_pcts = df_master.pitch_target.value_counts(normalize=True) \n",
    "print(target_pcts)\n",
    "\n",
    "target_pcts.plot(kind='bar')"
   ]
  },
  {
   "cell_type": "code",
   "execution_count": 289,
   "metadata": {
    "ExecuteTime": {
     "end_time": "2020-02-11T22:00:23.379284Z",
     "start_time": "2020-02-11T22:00:23.214099Z"
    }
   },
   "outputs": [],
   "source": [
    "# Create copy of master dataframe for feature testing\n",
    "df_pitches_batting_games_target_initial_feature_subset = \\\n",
    "    df_master.copy()"
   ]
  },
  {
   "cell_type": "code",
   "execution_count": 290,
   "metadata": {
    "ExecuteTime": {
     "end_time": "2020-02-11T22:00:27.100099Z",
     "start_time": "2020-02-11T22:00:26.460349Z"
    }
   },
   "outputs": [
    {
     "data": {
      "text/html": [
       "<div>\n",
       "<style scoped>\n",
       "    .dataframe tbody tr th:only-of-type {\n",
       "        vertical-align: middle;\n",
       "    }\n",
       "\n",
       "    .dataframe tbody tr th {\n",
       "        vertical-align: top;\n",
       "    }\n",
       "\n",
       "    .dataframe thead th {\n",
       "        text-align: right;\n",
       "    }\n",
       "</style>\n",
       "<table border=\"1\" class=\"dataframe\">\n",
       "  <thead>\n",
       "    <tr style=\"text-align: right;\">\n",
       "      <th></th>\n",
       "      <th>px</th>\n",
       "      <th>pz</th>\n",
       "      <th>start_speed</th>\n",
       "      <th>end_speed</th>\n",
       "      <th>spin_rate</th>\n",
       "      <th>spin_dir</th>\n",
       "      <th>break_angle</th>\n",
       "      <th>break_length</th>\n",
       "      <th>break_y</th>\n",
       "      <th>ax</th>\n",
       "      <th>...</th>\n",
       "      <th>pitch_type_FS</th>\n",
       "      <th>pitch_type_FT</th>\n",
       "      <th>pitch_type_KC</th>\n",
       "      <th>pitch_type_KN</th>\n",
       "      <th>pitch_type_SI</th>\n",
       "      <th>pitch_type_SL</th>\n",
       "      <th>pitcher_hitter_position_L -Pitcher L -Hitter</th>\n",
       "      <th>pitcher_hitter_position_L -Pitcher R -Hitter</th>\n",
       "      <th>pitcher_hitter_position_R -Pitcher L -Hitter</th>\n",
       "      <th>pitcher_hitter_position_R -Pitcher R -Hitter</th>\n",
       "    </tr>\n",
       "  </thead>\n",
       "  <tbody>\n",
       "    <tr>\n",
       "      <th>count</th>\n",
       "      <td>124281.000000</td>\n",
       "      <td>124281.000000</td>\n",
       "      <td>124281.000000</td>\n",
       "      <td>124281.000000</td>\n",
       "      <td>124281.000000</td>\n",
       "      <td>124281.000000</td>\n",
       "      <td>124281.000000</td>\n",
       "      <td>124281.000000</td>\n",
       "      <td>124281.000000</td>\n",
       "      <td>124281.000000</td>\n",
       "      <td>...</td>\n",
       "      <td>124281.000000</td>\n",
       "      <td>124281.000000</td>\n",
       "      <td>124281.000000</td>\n",
       "      <td>124281.000000</td>\n",
       "      <td>124281.000000</td>\n",
       "      <td>124281.000000</td>\n",
       "      <td>124281.000000</td>\n",
       "      <td>124281.000000</td>\n",
       "      <td>124281.000000</td>\n",
       "      <td>124281.000000</td>\n",
       "    </tr>\n",
       "    <tr>\n",
       "      <th>mean</th>\n",
       "      <td>-0.040460</td>\n",
       "      <td>2.222532</td>\n",
       "      <td>87.936157</td>\n",
       "      <td>81.089480</td>\n",
       "      <td>1778.958402</td>\n",
       "      <td>180.360449</td>\n",
       "      <td>5.262691</td>\n",
       "      <td>6.501205</td>\n",
       "      <td>23.799389</td>\n",
       "      <td>-2.095688</td>\n",
       "      <td>...</td>\n",
       "      <td>0.011168</td>\n",
       "      <td>0.129304</td>\n",
       "      <td>0.023865</td>\n",
       "      <td>0.006437</td>\n",
       "      <td>0.112640</td>\n",
       "      <td>0.128555</td>\n",
       "      <td>0.079851</td>\n",
       "      <td>0.175514</td>\n",
       "      <td>0.365712</td>\n",
       "      <td>0.378924</td>\n",
       "    </tr>\n",
       "    <tr>\n",
       "      <th>std</th>\n",
       "      <td>0.977935</td>\n",
       "      <td>0.977094</td>\n",
       "      <td>5.894223</td>\n",
       "      <td>5.253628</td>\n",
       "      <td>651.724839</td>\n",
       "      <td>66.436502</td>\n",
       "      <td>24.422461</td>\n",
       "      <td>2.898766</td>\n",
       "      <td>0.068637</td>\n",
       "      <td>10.861284</td>\n",
       "      <td>...</td>\n",
       "      <td>0.105089</td>\n",
       "      <td>0.335537</td>\n",
       "      <td>0.152630</td>\n",
       "      <td>0.079973</td>\n",
       "      <td>0.316153</td>\n",
       "      <td>0.334709</td>\n",
       "      <td>0.271064</td>\n",
       "      <td>0.380407</td>\n",
       "      <td>0.481631</td>\n",
       "      <td>0.485121</td>\n",
       "    </tr>\n",
       "    <tr>\n",
       "      <th>min</th>\n",
       "      <td>-8.291000</td>\n",
       "      <td>-3.460000</td>\n",
       "      <td>47.300000</td>\n",
       "      <td>43.800000</td>\n",
       "      <td>2.376000</td>\n",
       "      <td>-0.002000</td>\n",
       "      <td>-85.800000</td>\n",
       "      <td>0.400000</td>\n",
       "      <td>23.500000</td>\n",
       "      <td>-31.298000</td>\n",
       "      <td>...</td>\n",
       "      <td>0.000000</td>\n",
       "      <td>0.000000</td>\n",
       "      <td>0.000000</td>\n",
       "      <td>0.000000</td>\n",
       "      <td>0.000000</td>\n",
       "      <td>0.000000</td>\n",
       "      <td>0.000000</td>\n",
       "      <td>0.000000</td>\n",
       "      <td>0.000000</td>\n",
       "      <td>0.000000</td>\n",
       "    </tr>\n",
       "    <tr>\n",
       "      <th>25%</th>\n",
       "      <td>-0.788000</td>\n",
       "      <td>1.554000</td>\n",
       "      <td>84.200000</td>\n",
       "      <td>77.900000</td>\n",
       "      <td>1351.983000</td>\n",
       "      <td>137.794000</td>\n",
       "      <td>-12.800000</td>\n",
       "      <td>4.300000</td>\n",
       "      <td>23.800000</td>\n",
       "      <td>-11.173000</td>\n",
       "      <td>...</td>\n",
       "      <td>0.000000</td>\n",
       "      <td>0.000000</td>\n",
       "      <td>0.000000</td>\n",
       "      <td>0.000000</td>\n",
       "      <td>0.000000</td>\n",
       "      <td>0.000000</td>\n",
       "      <td>0.000000</td>\n",
       "      <td>0.000000</td>\n",
       "      <td>0.000000</td>\n",
       "      <td>0.000000</td>\n",
       "    </tr>\n",
       "    <tr>\n",
       "      <th>50%</th>\n",
       "      <td>-0.014000</td>\n",
       "      <td>2.199000</td>\n",
       "      <td>89.400000</td>\n",
       "      <td>82.300000</td>\n",
       "      <td>1892.596000</td>\n",
       "      <td>196.240000</td>\n",
       "      <td>7.900000</td>\n",
       "      <td>5.900000</td>\n",
       "      <td>23.800000</td>\n",
       "      <td>-3.540000</td>\n",
       "      <td>...</td>\n",
       "      <td>0.000000</td>\n",
       "      <td>0.000000</td>\n",
       "      <td>0.000000</td>\n",
       "      <td>0.000000</td>\n",
       "      <td>0.000000</td>\n",
       "      <td>0.000000</td>\n",
       "      <td>0.000000</td>\n",
       "      <td>0.000000</td>\n",
       "      <td>0.000000</td>\n",
       "      <td>0.000000</td>\n",
       "    </tr>\n",
       "    <tr>\n",
       "      <th>75%</th>\n",
       "      <td>0.711000</td>\n",
       "      <td>2.886000</td>\n",
       "      <td>92.400000</td>\n",
       "      <td>85.000000</td>\n",
       "      <td>2260.295000</td>\n",
       "      <td>224.872000</td>\n",
       "      <td>26.300000</td>\n",
       "      <td>7.900000</td>\n",
       "      <td>23.800000</td>\n",
       "      <td>6.465000</td>\n",
       "      <td>...</td>\n",
       "      <td>0.000000</td>\n",
       "      <td>0.000000</td>\n",
       "      <td>0.000000</td>\n",
       "      <td>0.000000</td>\n",
       "      <td>0.000000</td>\n",
       "      <td>0.000000</td>\n",
       "      <td>0.000000</td>\n",
       "      <td>0.000000</td>\n",
       "      <td>1.000000</td>\n",
       "      <td>1.000000</td>\n",
       "    </tr>\n",
       "    <tr>\n",
       "      <th>max</th>\n",
       "      <td>4.197000</td>\n",
       "      <td>7.180000</td>\n",
       "      <td>102.800000</td>\n",
       "      <td>94.900000</td>\n",
       "      <td>4829.975000</td>\n",
       "      <td>359.971000</td>\n",
       "      <td>104.400000</td>\n",
       "      <td>24.600000</td>\n",
       "      <td>24.200000</td>\n",
       "      <td>39.369000</td>\n",
       "      <td>...</td>\n",
       "      <td>1.000000</td>\n",
       "      <td>1.000000</td>\n",
       "      <td>1.000000</td>\n",
       "      <td>1.000000</td>\n",
       "      <td>1.000000</td>\n",
       "      <td>1.000000</td>\n",
       "      <td>1.000000</td>\n",
       "      <td>1.000000</td>\n",
       "      <td>1.000000</td>\n",
       "      <td>1.000000</td>\n",
       "    </tr>\n",
       "  </tbody>\n",
       "</table>\n",
       "<p>8 rows × 78 columns</p>\n",
       "</div>"
      ],
      "text/plain": [
       "                  px             pz    start_speed      end_speed  \\\n",
       "count  124281.000000  124281.000000  124281.000000  124281.000000   \n",
       "mean       -0.040460       2.222532      87.936157      81.089480   \n",
       "std         0.977935       0.977094       5.894223       5.253628   \n",
       "min        -8.291000      -3.460000      47.300000      43.800000   \n",
       "25%        -0.788000       1.554000      84.200000      77.900000   \n",
       "50%        -0.014000       2.199000      89.400000      82.300000   \n",
       "75%         0.711000       2.886000      92.400000      85.000000   \n",
       "max         4.197000       7.180000     102.800000      94.900000   \n",
       "\n",
       "           spin_rate       spin_dir    break_angle   break_length  \\\n",
       "count  124281.000000  124281.000000  124281.000000  124281.000000   \n",
       "mean     1778.958402     180.360449       5.262691       6.501205   \n",
       "std       651.724839      66.436502      24.422461       2.898766   \n",
       "min         2.376000      -0.002000     -85.800000       0.400000   \n",
       "25%      1351.983000     137.794000     -12.800000       4.300000   \n",
       "50%      1892.596000     196.240000       7.900000       5.900000   \n",
       "75%      2260.295000     224.872000      26.300000       7.900000   \n",
       "max      4829.975000     359.971000     104.400000      24.600000   \n",
       "\n",
       "             break_y             ax  ...  pitch_type_FS  pitch_type_FT  \\\n",
       "count  124281.000000  124281.000000  ...  124281.000000  124281.000000   \n",
       "mean       23.799389      -2.095688  ...       0.011168       0.129304   \n",
       "std         0.068637      10.861284  ...       0.105089       0.335537   \n",
       "min        23.500000     -31.298000  ...       0.000000       0.000000   \n",
       "25%        23.800000     -11.173000  ...       0.000000       0.000000   \n",
       "50%        23.800000      -3.540000  ...       0.000000       0.000000   \n",
       "75%        23.800000       6.465000  ...       0.000000       0.000000   \n",
       "max        24.200000      39.369000  ...       1.000000       1.000000   \n",
       "\n",
       "       pitch_type_KC  pitch_type_KN  pitch_type_SI  pitch_type_SL  \\\n",
       "count  124281.000000  124281.000000  124281.000000  124281.000000   \n",
       "mean        0.023865       0.006437       0.112640       0.128555   \n",
       "std         0.152630       0.079973       0.316153       0.334709   \n",
       "min         0.000000       0.000000       0.000000       0.000000   \n",
       "25%         0.000000       0.000000       0.000000       0.000000   \n",
       "50%         0.000000       0.000000       0.000000       0.000000   \n",
       "75%         0.000000       0.000000       0.000000       0.000000   \n",
       "max         1.000000       1.000000       1.000000       1.000000   \n",
       "\n",
       "       pitcher_hitter_position_L -Pitcher L -Hitter  \\\n",
       "count                                 124281.000000   \n",
       "mean                                       0.079851   \n",
       "std                                        0.271064   \n",
       "min                                        0.000000   \n",
       "25%                                        0.000000   \n",
       "50%                                        0.000000   \n",
       "75%                                        0.000000   \n",
       "max                                        1.000000   \n",
       "\n",
       "       pitcher_hitter_position_L -Pitcher R -Hitter  \\\n",
       "count                                 124281.000000   \n",
       "mean                                       0.175514   \n",
       "std                                        0.380407   \n",
       "min                                        0.000000   \n",
       "25%                                        0.000000   \n",
       "50%                                        0.000000   \n",
       "75%                                        0.000000   \n",
       "max                                        1.000000   \n",
       "\n",
       "       pitcher_hitter_position_R -Pitcher L -Hitter  \\\n",
       "count                                 124281.000000   \n",
       "mean                                       0.365712   \n",
       "std                                        0.481631   \n",
       "min                                        0.000000   \n",
       "25%                                        0.000000   \n",
       "50%                                        0.000000   \n",
       "75%                                        1.000000   \n",
       "max                                        1.000000   \n",
       "\n",
       "       pitcher_hitter_position_R -Pitcher R -Hitter  \n",
       "count                                 124281.000000  \n",
       "mean                                       0.378924  \n",
       "std                                        0.485121  \n",
       "min                                        0.000000  \n",
       "25%                                        0.000000  \n",
       "50%                                        0.000000  \n",
       "75%                                        1.000000  \n",
       "max                                        1.000000  \n",
       "\n",
       "[8 rows x 78 columns]"
      ]
     },
     "execution_count": 290,
     "metadata": {},
     "output_type": "execute_result"
    }
   ],
   "source": [
    "# View summary statistics\n",
    "df_pitches_batting_games_target_initial_feature_subset.describe()"
   ]
  },
  {
   "cell_type": "markdown",
   "metadata": {},
   "source": [
    "### Feature Testing and Model Baselining"
   ]
  },
  {
   "cell_type": "code",
   "execution_count": 291,
   "metadata": {
    "ExecuteTime": {
     "end_time": "2020-02-11T22:00:30.422060Z",
     "start_time": "2020-02-11T22:00:30.415088Z"
    }
   },
   "outputs": [],
   "source": [
    "# Test 's_count' feature\n",
    "df_feature0 = \\\n",
    "    df_pitches_batting_games_target_initial_feature_subset \\\n",
    "    [['s_count', 'pitch_target']]"
   ]
  },
  {
   "cell_type": "code",
   "execution_count": 292,
   "metadata": {
    "ExecuteTime": {
     "end_time": "2020-02-11T22:00:32.196471Z",
     "start_time": "2020-02-11T22:00:32.180211Z"
    }
   },
   "outputs": [],
   "source": [
    "# Define features and targets\n",
    "x = df_feature0.drop(['pitch_target'], axis=1)\n",
    "y = df_feature0['pitch_target']"
   ]
  },
  {
   "cell_type": "code",
   "execution_count": 293,
   "metadata": {
    "ExecuteTime": {
     "end_time": "2020-02-11T22:00:33.987198Z",
     "start_time": "2020-02-11T22:00:33.706242Z"
    }
   },
   "outputs": [
    {
     "name": "stdout",
     "output_type": "stream",
     "text": [
      "\n",
      "Accuracy score is: 0.5538882407370157\n",
      "\n",
      "F1 score is: 0.5681012658227849\n",
      "\n",
      "Precision score is: 0.45046324891908585\n",
      "\n",
      "Recall score is: 0.7688982604111756\n",
      "\n",
      "Coefficient scores:  [[-0.93282334]]\n",
      "\n",
      "Confusion matrix: [[6475 8897]\n",
      " [2192 7293]]\n"
     ]
    }
   ],
   "source": [
    "# Function to split data and score on selected metrics\n",
    "def split_score(x,y):\n",
    "    x_train, x_test, y_train, y_test = train_test_split(x, y, test_size=0.2, random_state=42)\n",
    "\n",
    "    lr = LogisticRegression(class_weight='balanced')\n",
    "    lr.fit(x_train, y_train)\n",
    "    \n",
    "    print('\\nAccuracy score is:', accuracy_score(lr.predict(x_test), y_test))\n",
    "    print('\\nF1 score is:', f1_score(lr.predict(x_test), y_test))\n",
    "    print('\\nPrecision score is:', precision_score(y_test, lr.predict(x_test)))\n",
    "    print('\\nRecall score is:', recall_score(y_test, lr.predict(x_test)))\n",
    "    print('\\nCoefficient scores: ', lr.coef_)\n",
    "    print('\\nConfusion matrix:', confusion_matrix(y_test, lr.predict(x_test)))\n",
    "\n",
    "split_score(x, y)"
   ]
  },
  {
   "cell_type": "code",
   "execution_count": 297,
   "metadata": {
    "ExecuteTime": {
     "end_time": "2020-02-11T22:04:59.482386Z",
     "start_time": "2020-02-11T22:04:59.466564Z"
    }
   },
   "outputs": [],
   "source": [
    "# Test 's_b_count' feature\n",
    "df_feature1 = \\\n",
    "    df_pitches_batting_games_target_initial_feature_subset \\\n",
    "    [['s_b_count_0.0 Strike(s) 1.0 Ball(s)',\n",
    "       's_b_count_0.0 Strike(s) 2.0 Ball(s)',\n",
    "       's_b_count_0.0 Strike(s) 3.0 Ball(s)',\n",
    "       's_b_count_1.0 Strike(s) 0.0 Ball(s)',\n",
    "       's_b_count_1.0 Strike(s) 1.0 Ball(s)',\n",
    "       's_b_count_1.0 Strike(s) 2.0 Ball(s)',\n",
    "       's_b_count_1.0 Strike(s) 3.0 Ball(s)', 'pitch_target']]"
   ]
  },
  {
   "cell_type": "code",
   "execution_count": 298,
   "metadata": {
    "ExecuteTime": {
     "end_time": "2020-02-11T22:05:27.639722Z",
     "start_time": "2020-02-11T22:05:27.625710Z"
    }
   },
   "outputs": [],
   "source": [
    "# Define features and targets\n",
    "x = df_feature1.drop(['pitch_target'], axis=1)\n",
    "y = df_feature1['pitch_target']"
   ]
  },
  {
   "cell_type": "code",
   "execution_count": 299,
   "metadata": {
    "ExecuteTime": {
     "end_time": "2020-02-11T22:05:30.914566Z",
     "start_time": "2020-02-11T22:05:30.503596Z"
    }
   },
   "outputs": [
    {
     "name": "stdout",
     "output_type": "stream",
     "text": [
      "\n",
      "Accuracy score is: 0.5538882407370157\n",
      "\n",
      "F1 score is: 0.5681012658227849\n",
      "\n",
      "Precision score is: 0.45046324891908585\n",
      "\n",
      "Recall score is: 0.7688982604111756\n",
      "\n",
      "Coefficient scores:  [[-0.19713584  0.00555368  0.76938261 -1.1484872  -0.93527878 -0.6952582\n",
      "  -0.31776832]]\n",
      "\n",
      "Confusion matrix: [[6475 8897]\n",
      " [2192 7293]]\n"
     ]
    }
   ],
   "source": [
    "# Function to split data and score on selected metrics\n",
    "def split_score(x,y):\n",
    "    x_train, x_test, y_train, y_test = train_test_split(x, y, test_size=0.2, random_state=42)\n",
    "\n",
    "    lr = LogisticRegression(class_weight='balanced')\n",
    "    lr.fit(x_train, y_train)\n",
    "    \n",
    "    print('\\nAccuracy score is:', accuracy_score(lr.predict(x_test), y_test))\n",
    "    print('\\nF1 score is:', f1_score(lr.predict(x_test), y_test))\n",
    "    print('\\nPrecision score is:', precision_score(y_test, lr.predict(x_test)))\n",
    "    print('\\nRecall score is:', recall_score(y_test, lr.predict(x_test)))\n",
    "    print('\\nCoefficient scores: ', lr.coef_)\n",
    "    print('\\nConfusion matrix:', confusion_matrix(y_test, lr.predict(x_test)))\n",
    "\n",
    "split_score(x, y)"
   ]
  },
  {
   "cell_type": "code",
   "execution_count": 302,
   "metadata": {
    "ExecuteTime": {
     "end_time": "2020-02-11T22:07:00.701371Z",
     "start_time": "2020-02-11T22:07:00.690371Z"
    }
   },
   "outputs": [],
   "source": [
    "# Test 's_b_count' and 'outs' features\n",
    "df_feature2 = \\\n",
    "    df_pitches_batting_games_target_initial_feature_subset \\\n",
    "    [['s_b_count_0.0 Strike(s) 1.0 Ball(s)',\n",
    "       's_b_count_0.0 Strike(s) 2.0 Ball(s)',\n",
    "       's_b_count_0.0 Strike(s) 3.0 Ball(s)',\n",
    "       's_b_count_1.0 Strike(s) 0.0 Ball(s)',\n",
    "       's_b_count_1.0 Strike(s) 1.0 Ball(s)',\n",
    "       's_b_count_1.0 Strike(s) 2.0 Ball(s)',\n",
    "       's_b_count_1.0 Strike(s) 3.0 Ball(s)', 'outs', 'pitch_target']]"
   ]
  },
  {
   "cell_type": "code",
   "execution_count": 303,
   "metadata": {
    "ExecuteTime": {
     "end_time": "2020-02-11T22:07:04.937775Z",
     "start_time": "2020-02-11T22:07:04.915012Z"
    }
   },
   "outputs": [],
   "source": [
    "# Define features and targets\n",
    "x = df_feature2.drop(['pitch_target'], axis=1)\n",
    "y = df_feature2['pitch_target']"
   ]
  },
  {
   "cell_type": "code",
   "execution_count": 304,
   "metadata": {
    "ExecuteTime": {
     "end_time": "2020-02-11T22:07:33.491801Z",
     "start_time": "2020-02-11T22:07:32.993686Z"
    }
   },
   "outputs": [
    {
     "name": "stdout",
     "output_type": "stream",
     "text": [
      "\n",
      "Accuracy score is: 0.5527215673653297\n",
      "\n",
      "F1 score is: 0.5698034360006191\n",
      "\n",
      "Precision score is: 0.4500886362247081\n",
      "\n",
      "Recall score is: 0.7762783342119135\n",
      "\n",
      "Coefficient scores:  [[-0.19444802  0.01088326  0.77664846 -1.1487229  -0.9333761  -0.6900412\n",
      "  -0.31044458 -0.08326777]]\n",
      "\n",
      "Confusion matrix: [[6376 8996]\n",
      " [2122 7363]]\n"
     ]
    }
   ],
   "source": [
    "# Function to split data and score on selected metrics\n",
    "def split_score(x,y):\n",
    "    x_train, x_test, y_train, y_test = train_test_split(x, y, test_size=0.2, random_state=42)\n",
    "\n",
    "    lr = LogisticRegression(class_weight='balanced')\n",
    "    lr.fit(x_train, y_train)\n",
    "    \n",
    "    print('\\nAccuracy score is:', accuracy_score(lr.predict(x_test), y_test))\n",
    "    print('\\nF1 score is:', f1_score(lr.predict(x_test), y_test))\n",
    "    print('\\nPrecision score is:', precision_score(y_test, lr.predict(x_test)))\n",
    "    print('\\nRecall score is:', recall_score(y_test, lr.predict(x_test)))\n",
    "    print('\\nCoefficient scores: ', lr.coef_)\n",
    "    print('\\nConfusion matrix:', confusion_matrix(y_test, lr.predict(x_test)))\n",
    "\n",
    "split_score(x, y)"
   ]
  },
  {
   "cell_type": "code",
   "execution_count": 306,
   "metadata": {
    "ExecuteTime": {
     "end_time": "2020-02-11T22:08:53.622661Z",
     "start_time": "2020-02-11T22:08:53.597323Z"
    }
   },
   "outputs": [],
   "source": [
    "# Test 's_b_count', 'outs' and 'pitch_count' features\n",
    "df_feature3 = \\\n",
    "    df_pitches_batting_games_target_initial_feature_subset \\\n",
    "    [['s_b_count_0.0 Strike(s) 1.0 Ball(s)',\n",
    "       's_b_count_0.0 Strike(s) 2.0 Ball(s)',\n",
    "       's_b_count_0.0 Strike(s) 3.0 Ball(s)',\n",
    "       's_b_count_1.0 Strike(s) 0.0 Ball(s)',\n",
    "       's_b_count_1.0 Strike(s) 1.0 Ball(s)',\n",
    "       's_b_count_1.0 Strike(s) 2.0 Ball(s)',\n",
    "       's_b_count_1.0 Strike(s) 3.0 Ball(s)', 'outs', 'pitch_count', 'pitch_target']]"
   ]
  },
  {
   "cell_type": "code",
   "execution_count": 307,
   "metadata": {
    "ExecuteTime": {
     "end_time": "2020-02-11T22:08:56.741265Z",
     "start_time": "2020-02-11T22:08:56.715495Z"
    }
   },
   "outputs": [],
   "source": [
    "# Define features and targets\n",
    "x = df_feature3.drop(['pitch_target'], axis=1)\n",
    "y = df_feature3['pitch_target']"
   ]
  },
  {
   "cell_type": "code",
   "execution_count": 308,
   "metadata": {
    "ExecuteTime": {
     "end_time": "2020-02-11T22:09:34.233763Z",
     "start_time": "2020-02-11T22:09:33.251544Z"
    }
   },
   "outputs": [
    {
     "name": "stdout",
     "output_type": "stream",
     "text": [
      "\n",
      "Accuracy score is: 0.5532043287605101\n",
      "\n",
      "F1 score is: 0.568397326286336\n",
      "\n",
      "Precision score is: 0.4501138671754786\n",
      "\n",
      "Recall score is: 0.7710068529256721\n",
      "\n",
      "Coefficient scores:  [[-0.19189526  0.01527536  0.78228304 -1.14764335 -0.93023854 -0.68527798\n",
      "  -0.30244964 -0.08039172 -0.0023476 ]]\n",
      "\n",
      "Confusion matrix: [[6438 8934]\n",
      " [2172 7313]]\n"
     ]
    }
   ],
   "source": [
    "# Function to split data and score on selected metrics\n",
    "def split_score(x,y):\n",
    "    x_train, x_test, y_train, y_test = train_test_split(x, y, test_size=0.2, random_state=42)\n",
    "\n",
    "    lr = LogisticRegression(class_weight='balanced')\n",
    "    lr.fit(x_train, y_train)\n",
    "    \n",
    "    print('\\nAccuracy score is:', accuracy_score(lr.predict(x_test), y_test))\n",
    "    print('\\nF1 score is:', f1_score(lr.predict(x_test), y_test))\n",
    "    print('\\nPrecision score is:', precision_score(y_test, lr.predict(x_test)))\n",
    "    print('\\nRecall score is:', recall_score(y_test, lr.predict(x_test)))\n",
    "    print('\\nCoefficient scores: ', lr.coef_)\n",
    "    print('\\nConfusion matrix:', confusion_matrix(y_test, lr.predict(x_test)))\n",
    "\n",
    "split_score(x, y)"
   ]
  },
  {
   "cell_type": "code",
   "execution_count": 310,
   "metadata": {
    "ExecuteTime": {
     "end_time": "2020-02-11T22:12:41.603377Z",
     "start_time": "2020-02-11T22:12:41.587810Z"
    }
   },
   "outputs": [],
   "source": [
    "# Test 's_b_count', 'outs', 'pitch_count' and 'runners_on_base' features\n",
    "df_feature4 = \\\n",
    "    df_pitches_batting_games_target_initial_feature_subset \\\n",
    "    [['s_b_count_0.0 Strike(s) 1.0 Ball(s)',\n",
    "       's_b_count_0.0 Strike(s) 2.0 Ball(s)',\n",
    "       's_b_count_0.0 Strike(s) 3.0 Ball(s)',\n",
    "       's_b_count_1.0 Strike(s) 0.0 Ball(s)',\n",
    "       's_b_count_1.0 Strike(s) 1.0 Ball(s)',\n",
    "       's_b_count_1.0 Strike(s) 2.0 Ball(s)',\n",
    "       's_b_count_1.0 Strike(s) 3.0 Ball(s)', 'outs', 'pitch_count', 'runners_on_base_0.0 1st Base 0.0 2nd Base 0.0 3rd Base',\n",
    "       'runners_on_base_0.0 1st Base 0.0 2nd Base 1.0 3rd Base',\n",
    "       'runners_on_base_0.0 1st Base 1.0 2nd Base 0.0 3rd Base',\n",
    "       'runners_on_base_0.0 1st Base 1.0 2nd Base 1.0 3rd Base',\n",
    "       'runners_on_base_1.0 1st Base 0.0 2nd Base 0.0 3rd Base',\n",
    "       'runners_on_base_1.0 1st Base 0.0 2nd Base 1.0 3rd Base',\n",
    "       'runners_on_base_1.0 1st Base 1.0 2nd Base 0.0 3rd Base',\n",
    "       'runners_on_base_1.0 1st Base 1.0 2nd Base 1.0 3rd Base', 'pitch_target']]"
   ]
  },
  {
   "cell_type": "code",
   "execution_count": 311,
   "metadata": {
    "ExecuteTime": {
     "end_time": "2020-02-11T22:12:44.445706Z",
     "start_time": "2020-02-11T22:12:44.433205Z"
    }
   },
   "outputs": [],
   "source": [
    "# Define features and targets\n",
    "x = df_feature4.drop(['pitch_target'], axis=1)\n",
    "y = df_feature4['pitch_target']"
   ]
  },
  {
   "cell_type": "code",
   "execution_count": 312,
   "metadata": {
    "ExecuteTime": {
     "end_time": "2020-02-11T22:13:09.606235Z",
     "start_time": "2020-02-11T22:13:08.760218Z"
    }
   },
   "outputs": [
    {
     "name": "stdout",
     "output_type": "stream",
     "text": [
      "\n",
      "Accuracy score is: 0.5704228185219455\n",
      "\n",
      "F1 score is: 0.5607207503702485\n",
      "\n",
      "Precision score is: 0.45975848343790054\n",
      "\n",
      "Recall score is: 0.7185028993147075\n",
      "\n",
      "Coefficient scores:  [[-0.18313562  0.02879107  0.80462679 -1.15668972 -0.9304808  -0.68015667\n",
      "  -0.28896326 -0.03290086 -0.00217302  0.33506713 -0.08148589  0.01449642\n",
      "  -0.25764495  0.09495746 -0.05878669  0.05781634  0.04659314]]\n",
      "\n",
      "Confusion matrix: [[7364 8008]\n",
      " [2670 6815]]\n"
     ]
    }
   ],
   "source": [
    "# Function to split data and score on selected metrics\n",
    "def split_score(x,y):\n",
    "    x_train, x_test, y_train, y_test = train_test_split(x, y, test_size=0.2, random_state=42)\n",
    "\n",
    "    lr = LogisticRegression(class_weight='balanced')\n",
    "    lr.fit(x_train, y_train)\n",
    "    \n",
    "    print('\\nAccuracy score is:', accuracy_score(lr.predict(x_test), y_test))\n",
    "    print('\\nF1 score is:', f1_score(lr.predict(x_test), y_test))\n",
    "    print('\\nPrecision score is:', precision_score(y_test, lr.predict(x_test)))\n",
    "    print('\\nRecall score is:', recall_score(y_test, lr.predict(x_test)))\n",
    "    print('\\nCoefficient scores: ', lr.coef_)\n",
    "    print('\\nConfusion matrix:', confusion_matrix(y_test, lr.predict(x_test)))\n",
    "\n",
    "split_score(x, y)"
   ]
  },
  {
   "cell_type": "code",
   "execution_count": 314,
   "metadata": {
    "ExecuteTime": {
     "end_time": "2020-02-11T22:14:54.878412Z",
     "start_time": "2020-02-11T22:14:54.843955Z"
    }
   },
   "outputs": [],
   "source": [
    "# Test 's_b_count', 'outs', 'pitch_count', 'runners_on_base' and 'p_score' features\n",
    "df_feature5 = \\\n",
    "    df_pitches_batting_games_target_initial_feature_subset \\\n",
    "    [['s_b_count_0.0 Strike(s) 1.0 Ball(s)',\n",
    "       's_b_count_0.0 Strike(s) 2.0 Ball(s)',\n",
    "       's_b_count_0.0 Strike(s) 3.0 Ball(s)',\n",
    "       's_b_count_1.0 Strike(s) 0.0 Ball(s)',\n",
    "       's_b_count_1.0 Strike(s) 1.0 Ball(s)',\n",
    "       's_b_count_1.0 Strike(s) 2.0 Ball(s)',\n",
    "       's_b_count_1.0 Strike(s) 3.0 Ball(s)', 'outs', 'pitch_count', 'runners_on_base_0.0 1st Base 0.0 2nd Base 0.0 3rd Base',\n",
    "       'runners_on_base_0.0 1st Base 0.0 2nd Base 1.0 3rd Base',\n",
    "       'runners_on_base_0.0 1st Base 1.0 2nd Base 0.0 3rd Base',\n",
    "       'runners_on_base_0.0 1st Base 1.0 2nd Base 1.0 3rd Base',\n",
    "       'runners_on_base_1.0 1st Base 0.0 2nd Base 0.0 3rd Base',\n",
    "       'runners_on_base_1.0 1st Base 0.0 2nd Base 1.0 3rd Base',\n",
    "       'runners_on_base_1.0 1st Base 1.0 2nd Base 0.0 3rd Base',\n",
    "       'runners_on_base_1.0 1st Base 1.0 2nd Base 1.0 3rd Base', 'p_score', 'pitch_target']]"
   ]
  },
  {
   "cell_type": "code",
   "execution_count": 315,
   "metadata": {
    "ExecuteTime": {
     "end_time": "2020-02-11T22:14:58.686334Z",
     "start_time": "2020-02-11T22:14:58.669469Z"
    }
   },
   "outputs": [],
   "source": [
    "# Define features and targets\n",
    "x = df_feature5.drop(['pitch_target'], axis=1)\n",
    "y = df_feature5['pitch_target']"
   ]
  },
  {
   "cell_type": "code",
   "execution_count": 316,
   "metadata": {
    "ExecuteTime": {
     "end_time": "2020-02-11T22:15:25.487827Z",
     "start_time": "2020-02-11T22:15:23.806522Z"
    }
   },
   "outputs": [
    {
     "name": "stdout",
     "output_type": "stream",
     "text": [
      "\n",
      "Accuracy score is: 0.5707848895683308\n",
      "\n",
      "F1 score is: 0.5612895267075126\n",
      "\n",
      "Precision score is: 0.4600916812727518\n",
      "\n",
      "Recall score is: 0.7195571955719557\n",
      "\n",
      "Coefficient scores:  [[-0.18433405  0.02875731  0.80797291 -1.15811322 -0.93148523 -0.68048191\n",
      "  -0.29550776 -0.03322775 -0.00219168  0.33342678 -0.0829757   0.01386839\n",
      "  -0.2508521   0.09396226 -0.05992379  0.05731254  0.04411374  0.0024083 ]]\n",
      "\n",
      "Confusion matrix: [[7363 8009]\n",
      " [2660 6825]]\n"
     ]
    }
   ],
   "source": [
    "# Function to split data and score on selected metrics\n",
    "def split_score(x,y):\n",
    "    x_train, x_test, y_train, y_test = train_test_split(x, y, test_size=0.2, random_state=42)\n",
    "\n",
    "    lr = LogisticRegression(class_weight='balanced')\n",
    "    lr.fit(x_train, y_train)\n",
    "    \n",
    "    print('\\nAccuracy score is:', accuracy_score(lr.predict(x_test), y_test))\n",
    "    print('\\nF1 score is:', f1_score(lr.predict(x_test), y_test))\n",
    "    print('\\nPrecision score is:', precision_score(y_test, lr.predict(x_test)))\n",
    "    print('\\nRecall score is:', recall_score(y_test, lr.predict(x_test)))\n",
    "    print('\\nCoefficient scores: ', lr.coef_)\n",
    "    print('\\nConfusion matrix:', confusion_matrix(y_test, lr.predict(x_test)))\n",
    "\n",
    "split_score(x, y)"
   ]
  },
  {
   "cell_type": "code",
   "execution_count": 318,
   "metadata": {
    "ExecuteTime": {
     "end_time": "2020-02-11T22:17:45.775538Z",
     "start_time": "2020-02-11T22:17:45.754333Z"
    }
   },
   "outputs": [],
   "source": [
    "# Test 's_b_count', 'outs', 'pitch_count', 'runners_on_base', 'p_score' and 'pitch_type' features\n",
    "df_feature6 = \\\n",
    "    df_pitches_batting_games_target_initial_feature_subset \\\n",
    "    [['s_b_count_0.0 Strike(s) 1.0 Ball(s)',\n",
    "       's_b_count_0.0 Strike(s) 2.0 Ball(s)',\n",
    "       's_b_count_0.0 Strike(s) 3.0 Ball(s)',\n",
    "       's_b_count_1.0 Strike(s) 0.0 Ball(s)',\n",
    "       's_b_count_1.0 Strike(s) 1.0 Ball(s)',\n",
    "       's_b_count_1.0 Strike(s) 2.0 Ball(s)',\n",
    "       's_b_count_1.0 Strike(s) 3.0 Ball(s)', 'outs', 'pitch_count', 'runners_on_base_0.0 1st Base 0.0 2nd Base 0.0 3rd Base',\n",
    "       'runners_on_base_0.0 1st Base 0.0 2nd Base 1.0 3rd Base',\n",
    "       'runners_on_base_0.0 1st Base 1.0 2nd Base 0.0 3rd Base',\n",
    "       'runners_on_base_0.0 1st Base 1.0 2nd Base 1.0 3rd Base',\n",
    "       'runners_on_base_1.0 1st Base 0.0 2nd Base 0.0 3rd Base',\n",
    "       'runners_on_base_1.0 1st Base 0.0 2nd Base 1.0 3rd Base',\n",
    "       'runners_on_base_1.0 1st Base 1.0 2nd Base 0.0 3rd Base',\n",
    "       'runners_on_base_1.0 1st Base 1.0 2nd Base 1.0 3rd Base', 'p_score', 'pitch_type_CU', 'pitch_type_FC', 'pitch_type_FF', 'pitch_type_FS',\n",
    "       'pitch_type_FT', 'pitch_type_KC', 'pitch_type_KN', 'pitch_type_SI',\n",
    "       'pitch_type_SL', 'pitch_target']]"
   ]
  },
  {
   "cell_type": "code",
   "execution_count": 319,
   "metadata": {
    "ExecuteTime": {
     "end_time": "2020-02-11T22:17:49.399965Z",
     "start_time": "2020-02-11T22:17:49.378451Z"
    }
   },
   "outputs": [],
   "source": [
    "# Define features and targets\n",
    "x = df_feature6.drop(['pitch_target'], axis=1)\n",
    "y = df_feature6['pitch_target']"
   ]
  },
  {
   "cell_type": "code",
   "execution_count": 320,
   "metadata": {
    "ExecuteTime": {
     "end_time": "2020-02-11T22:18:17.393819Z",
     "start_time": "2020-02-11T22:18:15.349008Z"
    }
   },
   "outputs": [
    {
     "name": "stdout",
     "output_type": "stream",
     "text": [
      "\n",
      "Accuracy score is: 0.5782676911936275\n",
      "\n",
      "F1 score is: 0.5580709076345853\n",
      "\n",
      "Precision score is: 0.4649480191064906\n",
      "\n",
      "Recall score is: 0.697838692672641\n",
      "\n",
      "Coefficient scores:  [[-1.52519666e-01  4.79885967e-02  7.73432254e-01 -1.14166874e+00\n",
      "  -9.09089674e-01 -6.69018437e-01 -2.58792326e-01 -3.33522249e-02\n",
      "  -1.32615068e-03  2.81308846e-01 -1.24772800e-01 -3.51437001e-02\n",
      "  -3.21611874e-01  4.68373803e-02 -1.04098119e-01  8.10148398e-03\n",
      "  -2.29445085e-02  8.58685083e-04  5.82807705e-01  4.01060223e-01\n",
      "   5.14215883e-01  1.37490623e-01  3.81843035e-01  6.04020047e-01\n",
      "   1.74878776e-01  5.21221354e-01  5.56865866e-01]]\n",
      "\n",
      "Confusion matrix: [[7755 7617]\n",
      " [2866 6619]]\n"
     ]
    },
    {
     "name": "stderr",
     "output_type": "stream",
     "text": [
      "//anaconda3/lib/python3.7/site-packages/sklearn/linear_model/_logistic.py:940: ConvergenceWarning: lbfgs failed to converge (status=1):\n",
      "STOP: TOTAL NO. of ITERATIONS REACHED LIMIT.\n",
      "\n",
      "Increase the number of iterations (max_iter) or scale the data as shown in:\n",
      "    https://scikit-learn.org/stable/modules/preprocessing.html\n",
      "Please also refer to the documentation for alternative solver options:\n",
      "    https://scikit-learn.org/stable/modules/linear_model.html#logistic-regression\n",
      "  extra_warning_msg=_LOGISTIC_SOLVER_CONVERGENCE_MSG)\n"
     ]
    }
   ],
   "source": [
    "# Function to split data and score on selected metrics\n",
    "def split_score(x,y):\n",
    "    x_train, x_test, y_train, y_test = train_test_split(x, y, test_size=0.2, random_state=42)\n",
    "\n",
    "    lr = LogisticRegression(class_weight='balanced')\n",
    "    lr.fit(x_train, y_train)\n",
    "    \n",
    "    print('\\nAccuracy score is:', accuracy_score(lr.predict(x_test), y_test))\n",
    "    print('\\nF1 score is:', f1_score(lr.predict(x_test), y_test))\n",
    "    print('\\nPrecision score is:', precision_score(y_test, lr.predict(x_test)))\n",
    "    print('\\nRecall score is:', recall_score(y_test, lr.predict(x_test)))\n",
    "    print('\\nCoefficient scores: ', lr.coef_)\n",
    "    print('\\nConfusion matrix:', confusion_matrix(y_test, lr.predict(x_test)))\n",
    "\n",
    "split_score(x, y)"
   ]
  },
  {
   "cell_type": "code",
   "execution_count": 352,
   "metadata": {
    "ExecuteTime": {
     "end_time": "2020-02-11T23:20:31.981185Z",
     "start_time": "2020-02-11T23:20:31.947044Z"
    }
   },
   "outputs": [],
   "source": [
    "# Test 's_b_count', 'outs', 'pitch_count', 'runners_on_base', 'p_score', 'pitch_type' and 'pitcher_batter_position' features\n",
    "df_feature7 = \\\n",
    "    df_pitches_batting_games_target_initial_feature_subset \\\n",
    "    [['s_b_count_0.0 Strike(s) 1.0 Ball(s)',\n",
    "       's_b_count_0.0 Strike(s) 2.0 Ball(s)',\n",
    "       's_b_count_0.0 Strike(s) 3.0 Ball(s)',\n",
    "       's_b_count_1.0 Strike(s) 0.0 Ball(s)',\n",
    "       's_b_count_1.0 Strike(s) 1.0 Ball(s)',\n",
    "       's_b_count_1.0 Strike(s) 2.0 Ball(s)',\n",
    "       's_b_count_1.0 Strike(s) 3.0 Ball(s)', 'outs', 'pitch_count', 'runners_on_base_0.0 1st Base 0.0 2nd Base 0.0 3rd Base',\n",
    "       'runners_on_base_0.0 1st Base 0.0 2nd Base 1.0 3rd Base',\n",
    "       'runners_on_base_0.0 1st Base 1.0 2nd Base 0.0 3rd Base',\n",
    "       'runners_on_base_0.0 1st Base 1.0 2nd Base 1.0 3rd Base',\n",
    "       'runners_on_base_1.0 1st Base 0.0 2nd Base 0.0 3rd Base',\n",
    "       'runners_on_base_1.0 1st Base 0.0 2nd Base 1.0 3rd Base',\n",
    "       'runners_on_base_1.0 1st Base 1.0 2nd Base 0.0 3rd Base',\n",
    "       'runners_on_base_1.0 1st Base 1.0 2nd Base 1.0 3rd Base', 'p_score', 'pitch_type_CU', 'pitch_type_FC', 'pitch_type_FF', 'pitch_type_FS',\n",
    "       'pitch_type_FT', 'pitch_type_KC', 'pitch_type_KN', 'pitch_type_SI',\n",
    "       'pitch_type_SL', 'pitcher_hitter_position_L -Pitcher L -Hitter',\n",
    "       'pitcher_hitter_position_L -Pitcher R -Hitter',\n",
    "       'pitcher_hitter_position_R -Pitcher L -Hitter',\n",
    "       'pitcher_hitter_position_R -Pitcher R -Hitter']]"
   ]
  },
  {
   "cell_type": "code",
   "execution_count": 353,
   "metadata": {
    "ExecuteTime": {
     "end_time": "2020-02-11T23:20:32.481930Z",
     "start_time": "2020-02-11T23:20:32.460264Z"
    }
   },
   "outputs": [],
   "source": [
    "# Define features and targets\n",
    "x = df_feature7.drop(['pitch_target'], axis=1)\n",
    "y = df_feature7['pitch_target']"
   ]
  },
  {
   "cell_type": "code",
   "execution_count": 363,
   "metadata": {
    "ExecuteTime": {
     "end_time": "2020-02-11T23:33:03.704120Z",
     "start_time": "2020-02-11T23:33:02.150102Z"
    }
   },
   "outputs": [
    {
     "name": "stdout",
     "output_type": "stream",
     "text": [
      "\n",
      "Accuracy score is: 0.6028885223478296\n",
      "\n",
      "F1 score is: 0.4398797026612949\n",
      "\n",
      "Precision score is: 0.47628409928729415\n",
      "\n",
      "Recall score is: 0.408645229309436\n",
      "\n",
      "Coefficient scores:  [[ 8.73204329e-02  8.46854885e-02  1.43623277e-01 -6.68590796e-01\n",
      "  -3.61214932e-01 -1.07077751e-01 -1.31610675e-03 -2.32988363e-01\n",
      "  -5.48959829e-03  3.54938931e-01 -3.51559185e-02 -7.65998027e-02\n",
      "  -3.73859327e-02 -1.00165166e-01 -3.81507867e-02 -4.98014330e-02\n",
      "  -1.79206539e-02  4.99814511e-02  3.78092990e-02 -1.61582956e-02\n",
      "   1.79659359e-01 -2.04324339e-02 -4.13303538e-02  1.02152851e-02\n",
      "  -1.22227047e-03  6.96239716e-02  4.99460657e-02  2.50023501e-02\n",
      "  -9.03616180e-02 -1.06268140e-01  1.71386645e-01 -9.51379198e-02\n",
      "   1.09892573e-01 -1.07670303e-01 -1.55187326e-03 -9.15217029e-05]]\n",
      "\n",
      "Confusion matrix: [[11110  4262]\n",
      " [ 5609  3876]]\n"
     ]
    },
    {
     "name": "stderr",
     "output_type": "stream",
     "text": [
      "//anaconda3/lib/python3.7/site-packages/sklearn/linear_model/_logistic.py:940: ConvergenceWarning: lbfgs failed to converge (status=1):\n",
      "STOP: TOTAL NO. of ITERATIONS REACHED LIMIT.\n",
      "\n",
      "Increase the number of iterations (max_iter) or scale the data as shown in:\n",
      "    https://scikit-learn.org/stable/modules/preprocessing.html\n",
      "Please also refer to the documentation for alternative solver options:\n",
      "    https://scikit-learn.org/stable/modules/linear_model.html#logistic-regression\n",
      "  extra_warning_msg=_LOGISTIC_SOLVER_CONVERGENCE_MSG)\n"
     ]
    }
   ],
   "source": [
    "# Function to split data and score on selected metrics\n",
    "def split_score(x,y):\n",
    "    x_train, x_test, y_train, y_test = train_test_split(x, y, test_size=0.2, random_state=42)\n",
    "\n",
    "    lr = LogisticRegression(class_weight='balanced')\n",
    "    lr.fit(x_train, y_train)\n",
    "    \n",
    "    print('\\nAccuracy score is:', accuracy_score(lr.predict_proba(x_test)[:,1] > 0.55, y_test))\n",
    "    print('\\nF1 score is:', f1_score(lr.predict_proba(x_test)[:,1] > 0.55, y_test))\n",
    "    print('\\nPrecision score is:', precision_score(y_test, lr.predict_proba(x_test)[:,1] > 0.55))\n",
    "    print('\\nRecall score is:', recall_score(y_test, lr.predict_proba(x_test)[:,1] > 0.55))\n",
    "    print('\\nCoefficient scores: ', lr.coef_)\n",
    "    print('\\nConfusion matrix:', confusion_matrix(y_test, lr.predict_proba(x_test)[:,1] > 0.55))\n",
    "\n",
    "split_score(x, y)"
   ]
  }
 ],
 "metadata": {
  "kernelspec": {
   "display_name": "Python 3",
   "language": "python",
   "name": "python3"
  },
  "language_info": {
   "codemirror_mode": {
    "name": "ipython",
    "version": 3
   },
   "file_extension": ".py",
   "mimetype": "text/x-python",
   "name": "python",
   "nbconvert_exporter": "python",
   "pygments_lexer": "ipython3",
   "version": "3.7.6"
  }
 },
 "nbformat": 4,
 "nbformat_minor": 2
}
